{
 "cells": [
  {
   "cell_type": "markdown",
   "metadata": {},
   "source": [
    "\n",
    "\n",
    "# ME simulations of the replication cost"
   ]
  },
  {
   "cell_type": "markdown",
   "metadata": {},
   "source": [
    "## Import"
   ]
  },
  {
   "cell_type": "code",
   "execution_count": 1,
   "metadata": {},
   "outputs": [],
   "source": [
    "from __future__ import division, absolute_import, print_function\n",
    "\n",
    "import pickle\n",
    "import random\n",
    "import math\n",
    "import pandas as pd\n",
    "import numpy as np\n",
    "from scipy.optimize import leastsq\n",
    "\n",
    "from cobrame.util import building, mu, me_model_interface\n",
    "from cobrame import mu\n",
    "\n"
   ]
  },
  {
   "cell_type": "markdown",
   "metadata": {},
   "source": [
    "## Modified functions from ECOLIme and COBRAme"
   ]
  },
  {
   "cell_type": "code",
   "execution_count": 7,
   "metadata": {},
   "outputs": [],
   "source": [
    "# Function to solve the model at an specific mu (0.69)\n",
    "\n",
    "def solve_me_model_fixed(me, muf,using_soplex=False):\n",
    "    if using_soplex:\n",
    "        from cobrame.solve.algorithms import solve_at_growth_rate\n",
    "        solve_at_growth_rate(me, muf)\n",
    "    else:\n",
    "        from qminospy.me1 import ME_NLP1\n",
    "        print('qminos')\n",
    "        # The object containing solveME methods--composite that uses a ME model object \n",
    "        me_nlp = ME_NLP1(me, growth_key='mu')\n",
    "        # Use solv for now\n",
    "        xopt,status,hs = me_nlp.solvelp(0.69, verbosity=2)\n",
    "        me.solution.f = me.solution.x_dict['biomass_dilution']"
   ]
  },
  {
   "cell_type": "markdown",
   "metadata": {},
   "source": [
    "We take some fragments from the [dna_replication.py](https://github.com/SBRG/ecolime/blob/1d7116b32f474dd5adbf9c72e67b22654304469d/ecolime/dna_replication.py) code from the ECOLIme module so that instead of using a preestablished DNA percent we can modify it to increase it."
   ]
  },
  {
   "cell_type": "code",
   "execution_count": 2,
   "metadata": {},
   "outputs": [],
   "source": [
    "# Experimental Data\n",
    "gr_data_doublings_per_hour = [0, 0.6, 1.0, 1.5, 2.0, 2.5]\n",
    "gr_data = [m * math.log(2) for m in gr_data_doublings_per_hour]\n",
    "\n",
    "# First point is mass 1 genome in 0.4 um^3 at density \n",
    "# Original data that we will be modifying\n",
    "# percent_dna_data = [0.0592, 0.0512, 0.0330, 0.0252, 0.0222, 0.0208]\n",
    "\n",
    "def percent_dna_template_function(params, gr):\n",
    "    [g_p_gdw_0, g_per_gdw_inf, b, d] = params\n",
    "    c = g_per_gdw_inf\n",
    "    a = g_p_gdw_0 - g_per_gdw_inf\n",
    "    g_p_gdw = (-a * gr ** d) / (b + gr ** d) + a + c\n",
    "    return g_p_gdw\n",
    "\n",
    "\n",
    "def optimize_dna_function(gr, percent_dna):\n",
    "    params = np.array([0.9, 0.3, 0.2, 1])\n",
    "\n",
    "    def _minimization_function(params, gr, percent_dna):\n",
    "        return percent_dna_template_function(params, gr) - percent_dna\n",
    "    a = leastsq(_minimization_function, params, args=(gr, percent_dna))\n",
    "    return a[0]\n",
    "\n",
    "\n",
    "def get_dna_mw_no_ppi_dict(model):\n",
    "    \"\"\"\n",
    "    Return the molecular weight of dna component with the diphosphate group\n",
    "    removed.\n",
    "    \"\"\"\n",
    "    dna_mw_no_ppi = {}\n",
    "    ppi_mw = model.metabolites.ppi_c.formula_weight\n",
    "    for dna in ['dctp', 'dgtp', 'datp', 'dttp']:\n",
    "        dna_mw = model.metabolites.get_by_id(dna + '_c').formula_weight\n",
    "        dna_mw_no_ppi[dna] = dna_mw - ppi_mw\n",
    "\n",
    "    return dna_mw_no_ppi\n",
    "\n",
    "\n",
    "\n",
    "# We modify this function to instead of taking a global percent_dna_data paramaeter\n",
    "# now it need a local percent_dna_data\n",
    "def return_gr_dependent_dna_demand(model, gc_fraction, percent_dna_data):\n",
    "    \"\"\"\n",
    "    Returns dNTP coefficients and lower/upper bounds of DNA_replication\n",
    "    reaction\n",
    "    \"\"\"\n",
    "\n",
    "    fit_params = optimize_dna_function(gr_data, percent_dna_data)\n",
    "    dna_g_per_g = percent_dna_template_function(fit_params, mu)  # gDNA / gDW\n",
    "\n",
    "    # average dinucleotide molecular weight\n",
    "    dna_mw = get_dna_mw_no_ppi_dict(model)\n",
    "    dntp_mw = (gc_fraction * (dna_mw['dctp'] + dna_mw['dgtp'])) / 2 + \\\n",
    "              ((1 - gc_fraction) * (dna_mw['datp'] + dna_mw['dttp'])) / 2\n",
    "\n",
    "    # 1 / (gDNA / mol) * (1000 mmol / 1 mol)\n",
    "    mmol_dntps_per_gram_dna = 1 / dntp_mw * 1000\n",
    "\n",
    "    # (mmol / gDNA) * (gDNA / gDW)\n",
    "    mmol_dntp_per_gdw = dna_g_per_g * mmol_dntps_per_gram_dna\n",
    "\n",
    "    # lower and upper bound\n",
    "    mmol_dntp_per_gdw_per_hr = mmol_dntp_per_gdw * mu\n",
    "\n",
    "    # Fraction of each nucleotide in DNA, based on gc_fraction\n",
    "    dna_demand_stoich = {\n",
    "        'datp_c': -((1 - gc_fraction) / 2),\n",
    "        'dctp_c': -(gc_fraction / 2),\n",
    "        'dgtp_c': -(gc_fraction / 2),\n",
    "        'dttp_c': -((1 - gc_fraction) / 2),\n",
    "        'ppi_c': 1}\n",
    "\n",
    "    return dna_demand_stoich, mmol_dntp_per_gdw_per_hr"
   ]
  },
  {
   "cell_type": "markdown",
   "metadata": {},
   "source": [
    "## Simulations"
   ]
  },
  {
   "cell_type": "markdown",
   "metadata": {},
   "source": [
    "We will be modifying the percent DNA data by multiplying it by 1, 1.125, 1.25 and 1.5\n",
    "\n"
   ]
  },
  {
   "cell_type": "code",
   "execution_count": 8,
   "metadata": {},
   "outputs": [
    {
     "name": "stdout",
     "output_type": "stream",
     "text": [
      "qminos\n",
      "Finished compiling expressions in 168.941200 seconds\n",
      "Finished substituting S,lb,ub in 3.673695 seconds\n",
      "Finished makeME_LP in 0.702486 seconds\n",
      "Getting MINOS parameters from ME_NLP...\n",
      "qminos\n",
      "Finished compiling expressions in 166.359216 seconds\n",
      "Finished substituting S,lb,ub in 3.910021 seconds\n",
      "Finished makeME_LP in 0.762523 seconds\n",
      "Getting MINOS parameters from ME_NLP...\n",
      "qminos\n",
      "Finished compiling expressions in 168.575055 seconds\n",
      "Finished substituting S,lb,ub in 3.347258 seconds\n",
      "Finished makeME_LP in 0.594482 seconds\n",
      "Getting MINOS parameters from ME_NLP...\n",
      "qminos\n",
      "Finished compiling expressions in 163.087296 seconds\n",
      "Finished substituting S,lb,ub in 3.625209 seconds\n",
      "Finished makeME_LP in 0.646928 seconds\n",
      "Getting MINOS parameters from ME_NLP...\n"
     ]
    }
   ],
   "source": [
    "valores = [1, 1.125, 1.25, 1.5]\n",
    "modelos = {}\n",
    "nombres = [str(n) for n in valores]\n",
    "\n",
    "\n",
    "for n,valor in enumerate(valores):\n",
    "    \n",
    "    # Original DNA percentage\n",
    "    ## First point is mass 1 genome in 0.4 um^3 at density \n",
    "    percent_dna_data = [0.0592, 0.0512, 0.0330, 0.0252, 0.0222, 0.0208]\n",
    "    \n",
    "    # Modify the values\n",
    "    percent_dna_data = [dna*valor for dna in percent_dna_data]\n",
    "    \n",
    "    # Open original model\n",
    "    with open('../../files/models/iJL1678b.pickle', 'rb') as f:\n",
    "        modelito = pickle.load(f)\n",
    "    \n",
    "    # Make new calculations withthe new DNA percentages\n",
    "    dna_demand_stoich, dna_demand_bound = return_gr_dependent_dna_demand(\n",
    "            modelito, modelito.global_info['GC_fraction'], percent_dna_data)\n",
    "    \n",
    "    # Constrain the model to the new DNA demand \n",
    "    modelito.reactions.get_by_id('DNA_replication').upper_bound = dna_demand_bound\n",
    "    modelito.reactions.get_by_id('DNA_replication').lower_bound = dna_demand_bound\n",
    "\n",
    "    solve_me_model_fixed(modelito,0.69)\n",
    "    modelos[nombres[n]] = modelito\n",
    "\n"
   ]
  },
  {
   "cell_type": "markdown",
   "metadata": {},
   "source": [
    "## Save the models for analysis"
   ]
  },
  {
   "cell_type": "code",
   "execution_count": 9,
   "metadata": {},
   "outputs": [],
   "source": [
    "for modelo in modelos:\n",
    "    with open('../../files/models/DNA_per'+modelo+'.pickle', 'wb') as f:\n",
    "        pickle.dump(modelos[modelo], f)"
   ]
  }
 ],
 "metadata": {
  "kernelspec": {
   "display_name": "emarquez_ME",
   "language": "python",
   "name": "emarquez_me"
  },
  "language_info": {
   "codemirror_mode": {
    "name": "ipython",
    "version": 3
   },
   "file_extension": ".py",
   "mimetype": "text/x-python",
   "name": "python",
   "nbconvert_exporter": "python",
   "pygments_lexer": "ipython3",
   "version": "3.6.10"
  }
 },
 "nbformat": 4,
 "nbformat_minor": 2
}
