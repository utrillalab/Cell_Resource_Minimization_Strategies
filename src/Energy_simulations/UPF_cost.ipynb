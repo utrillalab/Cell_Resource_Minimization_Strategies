{
 "cells": [
  {
   "cell_type": "markdown",
   "metadata": {},
   "source": [
    "Basada en la notebook UPF_ATP_fixed"
   ]
  },
  {
   "cell_type": "markdown",
   "metadata": {},
   "source": [
    "Cálculo del costo de ir aumentando la cantidad de UPF según el modelo ME"
   ]
  },
  {
   "cell_type": "markdown",
   "metadata": {},
   "source": [
    "# <span style=\"color:#D291BC\">Aumento y decremento de UPF</span>"
   ]
  },
  {
   "cell_type": "markdown",
   "metadata": {},
   "source": [
    "## <span style=\"color:#957DAD\">Secciones</span>"
   ]
  },
  {
   "cell_type": "markdown",
   "metadata": {},
   "source": [
    "+ [Import y declaración de funciones](#Import_y_declaración_de_funciones)\n",
    "+ [Resolución de modelos](#Resolución_de_modelos)\n"
   ]
  },
  {
   "cell_type": "markdown",
   "metadata": {},
   "source": [
    "<a id=\"Import_y_declaración_de_funciones\"></a>\n",
    "## <span style=\"color:#957DAD\">Import y declaración de funciones</span>"
   ]
  },
  {
   "cell_type": "code",
   "execution_count": 1,
   "metadata": {},
   "outputs": [],
   "source": [
    "import pickle\n"
   ]
  },
  {
   "cell_type": "code",
   "execution_count": null,
   "metadata": {},
   "outputs": [],
   "source": []
  },
  {
   "cell_type": "code",
   "execution_count": 2,
   "metadata": {},
   "outputs": [],
   "source": [
    "# funcion para resolver el modelo en una mu específica\n",
    "\n",
    "def solve_me_model_fixed(me, muf,using_soplex=False):\n",
    "    if using_soplex:\n",
    "        from cobrame.solve.algorithms import solve_at_growth_rate\n",
    "        solve_at_growth_rate(me, muf)\n",
    "    else:\n",
    "        from qminospy.me1 import ME_NLP1\n",
    "        print('qminos')\n",
    "        # The object containing solveME methods--composite that uses a ME model object \n",
    "        me_nlp = ME_NLP1(me, growth_key='mu')\n",
    "        # Use solv for now\n",
    "        xopt,status,hs = me_nlp.solvelp(0.69, verbosity=2)\n",
    "        me.solution.f = me.solution.x_dict['biomass_dilution']"
   ]
  },
  {
   "cell_type": "markdown",
   "metadata": {},
   "source": [
    "<a id=\"Resolución_de_modelos\"></a>\n",
    "## <span style=\"color:#957DAD\">Resolución de modelos</span>"
   ]
  },
  {
   "cell_type": "code",
   "execution_count": 3,
   "metadata": {},
   "outputs": [],
   "source": [
    "# Valores por los que irá cambiando la UPF\n",
    "valores= [0.24, .27, 0.30, .33, 0.36]"
   ]
  },
  {
   "cell_type": "code",
   "execution_count": 4,
   "metadata": {},
   "outputs": [
    {
     "name": "stderr",
     "output_type": "stream",
     "text": [
      "/home/notebooks/cobrame/cobrame/core/processdata.py:256 \u001b[1;31mUserWarning\u001b[0m: met (generic_tRNA_GAG_glu__L_c) does not have formula\n"
     ]
    },
    {
     "name": "stdout",
     "output_type": "stream",
     "text": [
      "qminos\n",
      "Finished compiling expressions in 176.070665 seconds\n",
      "Finished substituting S,lb,ub in 4.145198 seconds\n",
      "Finished makeME_LP in 0.800806 seconds\n",
      "Getting MINOS parameters from ME_NLP...\n",
      "qminos\n",
      "Finished compiling expressions in 172.712936 seconds\n",
      "Finished substituting S,lb,ub in 4.392096 seconds\n",
      "Finished makeME_LP in 0.796481 seconds\n",
      "Getting MINOS parameters from ME_NLP...\n",
      "qminos\n",
      "Finished compiling expressions in 171.213076 seconds\n",
      "Finished substituting S,lb,ub in 4.337680 seconds\n",
      "Finished makeME_LP in 0.800074 seconds\n",
      "Getting MINOS parameters from ME_NLP...\n",
      "qminos\n",
      "Finished compiling expressions in 173.398663 seconds\n",
      "Finished substituting S,lb,ub in 3.992422 seconds\n",
      "Finished makeME_LP in 0.695389 seconds\n",
      "Getting MINOS parameters from ME_NLP...\n",
      "qminos\n",
      "Finished compiling expressions in 175.507370 seconds\n",
      "Finished substituting S,lb,ub in 4.287825 seconds\n",
      "Finished makeME_LP in 0.814693 seconds\n",
      "Getting MINOS parameters from ME_NLP...\n"
     ]
    }
   ],
   "source": [
    "# Resolver el modelo para cada uno de los valores de UPF\n",
    "modelos_ox_glc = {}\n",
    "for upf in valores:\n",
    "    name = 'me'+str(upf).split('.')[1]\n",
    "    with open('../../files/models/iJL1678b.pickle', 'rb') as f:\n",
    "        model = pickle.load(f)\n",
    "    # Fijar la UPF, fijar la mu y maximizar energia\n",
    "    model.unmodeled_protein_fraction = upf\n",
    "    model.update()\n",
    "    model.prune()\n",
    "    model.reactions.get_by_id('EX_o2_e').upper_bound = -18. # Fijar valores de oxígeno\n",
    "    model.reactions.get_by_id('EX_o2_e').lower_bound = -18.\n",
    "    model.reactions.get_by_id('EX_glc__D_e').upper_bound = -10. # Fijas valores de glc\n",
    "    model.reactions.get_by_id('EX_glc__D_e').lower_bound = -10.\n",
    "    model.objective = \"ATPM\"\n",
    "    model.reactions.get_by_id(\"ATPM\").upper_bound = 1000.   # Maximizar energía\n",
    "    solve_me_model_fixed(model, 0.69)\n",
    "    modelos_ox_glc[name] = model"
   ]
  },
  {
   "cell_type": "code",
   "execution_count": 5,
   "metadata": {},
   "outputs": [],
   "source": [
    "# # Guardar\n",
    "for modelo in modelos_ox_glc:\n",
    "    with open('../../files/models/ATPM_UPF_OX_GLC'+modelo+'.pickle', 'wb') as f:\n",
    "        pickle.dump(modelos_ox_glc[modelo], f)"
   ]
  },
  {
   "cell_type": "code",
   "execution_count": null,
   "metadata": {},
   "outputs": [],
   "source": []
  },
  {
   "cell_type": "code",
   "execution_count": null,
   "metadata": {},
   "outputs": [],
   "source": []
  }
 ],
 "metadata": {
  "kernelspec": {
   "display_name": "emarquez_ME",
   "language": "python",
   "name": "emarquez_me"
  },
  "language_info": {
   "codemirror_mode": {
    "name": "ipython",
    "version": 3
   },
   "file_extension": ".py",
   "mimetype": "text/x-python",
   "name": "python",
   "nbconvert_exporter": "python",
   "pygments_lexer": "ipython3",
   "version": "3.6.10"
  }
 },
 "nbformat": 4,
 "nbformat_minor": 2
}
