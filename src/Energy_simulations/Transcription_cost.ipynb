{
 "cells": [
  {
   "cell_type": "markdown",
   "metadata": {},
   "source": [
    "# ME simulations of the transcription cost"
   ]
  },
  {
   "cell_type": "markdown",
   "metadata": {},
   "source": [
    "## Import"
   ]
  },
  {
   "cell_type": "code",
   "execution_count": 1,
   "metadata": {},
   "outputs": [],
   "source": [
    "import random\n",
    "from cobrame.util import building, mu, me_model_interface\n",
    "\n",
    "import pickle\n",
    "import pandas as pd\n",
    "import statistics \n"
   ]
  },
  {
   "cell_type": "markdown",
   "metadata": {},
   "source": [
    "## Modified functions from ECOLIme"
   ]
  },
  {
   "cell_type": "code",
   "execution_count": 2,
   "metadata": {},
   "outputs": [],
   "source": [
    "# Function to solve the model at an specific mu (0.69)\n",
    "\n",
    "def solve_me_model_fixed(me, muf,using_soplex=False):\n",
    "    if using_soplex:\n",
    "        from cobrame.solve.algorithms import solve_at_growth_rate\n",
    "        solve_at_growth_rate(me, muf)\n",
    "    else:\n",
    "        from qminospy.me1 import ME_NLP1\n",
    "        print('qminos')\n",
    "        # The object containing solveME methods--composite that uses a ME model object \n",
    "        me_nlp = ME_NLP1(me, growth_key='mu')\n",
    "        # Use solv for now\n",
    "        xopt,status,hs = me_nlp.solvelp(0.69, verbosity=2)\n",
    "        me.solution.f = me.solution.x_dict['biomass_dilution']"
   ]
  },
  {
   "cell_type": "markdown",
   "metadata": {},
   "source": [
    "## Simulations"
   ]
  },
  {
   "cell_type": "code",
   "execution_count": 3,
   "metadata": {},
   "outputs": [],
   "source": [
    "# Function to add a number of extra genes that are transcribed but not translated\n",
    "\n",
    "def create_genes(num_genes,valor_bound,transcription = True):\n",
    "    with open('../../files/models/iJL1678b.pickle', 'rb') as f:\n",
    "        me = pickle.load(f)\n",
    "    \n",
    "    lista_genes={}\n",
    "    seq = \"ATG\"\n",
    "    codons = pd.read_csv(\"../../files/ecolime_data/codon_usage.csv\", index_col=0)\n",
    "    for codon, row in codons.iterrows():\n",
    "        if row.amino_acid == \"Stop\":\n",
    "            continue\n",
    "        seq += codon * int(row.per_1000 // 3)  #want roughly 300 aa\n",
    "    # get the most used stop codon\n",
    "    seq += codons[codons.amino_acid == \"Stop\"].sort_values(\"per_1000\").index[-1]\n",
    "\n",
    "    for n in range(1, num_genes+1):\n",
    "        lista_genes['random_'+str(n)] = seq    \n",
    "    \n",
    "    # Add details of the transcription process\n",
    "    for gen,secuencia in lista_genes.items():\n",
    "        building.create_transcribed_gene(me, gen, 'mRNA', secuencia)\n",
    "        if transcription:\n",
    "            building.add_transcription_reaction(me, 'TU_'+gen,{gen}, secuencia)\n",
    "            me.process_data.get_by_id('TU_'+gen).RNA_polymerase = \"RNAP70-CPLX\"\n",
    "            me.reactions.get_by_id('transcription_TU_'+gen).lower_bound =valor_bound\n",
    "            me.reactions.get_by_id('transcription_TU_'+gen).update()\n",
    "            \n",
    "    not_prune = []\n",
    "    \n",
    "    if transcription:    \n",
    "        not_prune = ['transcription_TU_'+n for n in lista_genes.keys()]\n",
    "        \n",
    "    not_prune.extend(['RNA_'+n for n in lista_genes.keys()])\n",
    "        \n",
    "    me.update()\n",
    "    me.prune(not_prune)\n",
    "    \n",
    "    # Constrains of the glucose and oxygen consumption\n",
    "    me.reactions.get_by_id(\"EX_glc__D_e\").upper_bound = -10.\n",
    "    me.reactions.get_by_id(\"EX_glc__D_e\").lower_bound = -10.\n",
    "    me.reactions.get_by_id(\"EX_o2_e\").lower_bound = -18.\n",
    "    me.reactions.get_by_id(\"EX_o2_e\").upper_bound = -18.\n",
    "    \n",
    "    solve_me_model_fixed(me, 0.69)\n",
    "    \n",
    "    # Save the model\n",
    "    with open('../../files/models/AumGenes_GLC_OX_'+str(num_genes)+'.pickle', 'wb') as f:\n",
    "        pickle.dump(me, f)\n",
    "        "
   ]
  },
  {
   "cell_type": "code",
   "execution_count": 6,
   "metadata": {},
   "outputs": [
    {
     "name": "stderr",
     "output_type": "stream",
     "text": [
      "/home/notebooks/cobrame/cobrame/core/processdata.py:256 \u001b[1;31mUserWarning\u001b[0m: met (generic_tRNA_GAG_glu__L_c) does not have formula\n"
     ]
    },
    {
     "name": "stdout",
     "output_type": "stream",
     "text": [
      "qminos\n",
      "Finished compiling expressions in 169.354191 seconds\n",
      "Finished substituting S,lb,ub in 4.054594 seconds\n",
      "Finished makeME_LP in 0.760675 seconds\n",
      "Getting MINOS parameters from ME_NLP...\n"
     ]
    }
   ],
   "source": [
    "with open('../../files/models/iJL1678b.pickle', 'rb') as f:\n",
    "    me = pickle.load(f)\n",
    "    \n",
    "me.update()\n",
    "me.prune()\n",
    "\n",
    "solve_me_model_fixed(me, 0.69)"
   ]
  },
  {
   "cell_type": "code",
   "execution_count": 7,
   "metadata": {},
   "outputs": [
    {
     "name": "stderr",
     "output_type": "stream",
     "text": [
      "/home/notebooks/cobrame/cobrame/core/reaction.py:852 \u001b[1;31mUserWarning\u001b[0m: RNA Polymerase () not found\n",
      "/home/notebooks/cobrame/cobrame/core/processdata.py:256 \u001b[1;31mUserWarning\u001b[0m: met (generic_tRNA_GAG_glu__L_c) does not have formula\n"
     ]
    },
    {
     "name": "stdout",
     "output_type": "stream",
     "text": [
      "qminos\n",
      "Finished compiling expressions in 167.191147 seconds\n",
      "Finished substituting S,lb,ub in 3.809132 seconds\n",
      "Finished makeME_LP in 0.662478 seconds\n",
      "Getting MINOS parameters from ME_NLP...\n"
     ]
    },
    {
     "name": "stderr",
     "output_type": "stream",
     "text": [
      "/home/notebooks/cobrame/cobrame/core/reaction.py:852 \u001b[1;31mUserWarning\u001b[0m: RNA Polymerase () not found\n",
      "/home/notebooks/cobrame/cobrame/core/processdata.py:256 \u001b[1;31mUserWarning\u001b[0m: met (generic_tRNA_GAG_glu__L_c) does not have formula\n"
     ]
    },
    {
     "name": "stdout",
     "output_type": "stream",
     "text": [
      "qminos\n",
      "Finished compiling expressions in 169.675024 seconds\n",
      "Finished substituting S,lb,ub in 3.969353 seconds\n",
      "Finished makeME_LP in 0.668216 seconds\n",
      "Getting MINOS parameters from ME_NLP...\n"
     ]
    },
    {
     "name": "stderr",
     "output_type": "stream",
     "text": [
      "/home/notebooks/cobrame/cobrame/core/reaction.py:852 \u001b[1;31mUserWarning\u001b[0m: RNA Polymerase () not found\n",
      "/home/notebooks/cobrame/cobrame/core/processdata.py:256 \u001b[1;31mUserWarning\u001b[0m: met (generic_tRNA_GAG_glu__L_c) does not have formula\n"
     ]
    },
    {
     "name": "stdout",
     "output_type": "stream",
     "text": [
      "qminos\n",
      "Finished compiling expressions in 174.647178 seconds\n",
      "Finished substituting S,lb,ub in 4.583837 seconds\n",
      "Finished makeME_LP in 0.886642 seconds\n",
      "Getting MINOS parameters from ME_NLP...\n"
     ]
    },
    {
     "name": "stderr",
     "output_type": "stream",
     "text": [
      "/home/notebooks/cobrame/cobrame/core/reaction.py:852 \u001b[1;31mUserWarning\u001b[0m: RNA Polymerase () not found\n",
      "/home/notebooks/cobrame/cobrame/core/processdata.py:256 \u001b[1;31mUserWarning\u001b[0m: met (generic_tRNA_GAG_glu__L_c) does not have formula\n"
     ]
    },
    {
     "name": "stdout",
     "output_type": "stream",
     "text": [
      "qminos\n",
      "Finished compiling expressions in 173.152207 seconds\n",
      "Finished substituting S,lb,ub in 4.619005 seconds\n",
      "Finished makeME_LP in 0.816061 seconds\n",
      "Getting MINOS parameters from ME_NLP...\n"
     ]
    }
   ],
   "source": [
    "# Number of genes to be added (Approximately a 5%,10%, 15% y 20% of the 4600 genes)\n",
    "#https://www.ncbi.nlm.nih.gov/pmc/articles/PMC4135669/\n",
    "\n",
    "num_genes =[230,460,690,920]\n",
    "\n",
    "valores_trans = list(me.get_transcription_flux().values())\n",
    "exp_mean = statistics.mean([n for n in valores_trans if n != 0]) # promedio de expresión \n",
    "\n",
    "for n in num_genes:\n",
    "    create_genes(n, exp_mean)"
   ]
  }
 ],
 "metadata": {
  "kernelspec": {
   "display_name": "emarquez_ME",
   "language": "python",
   "name": "emarquez_me"
  },
  "language_info": {
   "codemirror_mode": {
    "name": "ipython",
    "version": 3
   },
   "file_extension": ".py",
   "mimetype": "text/x-python",
   "name": "python",
   "nbconvert_exporter": "python",
   "pygments_lexer": "ipython3",
   "version": "3.6.10"
  }
 },
 "nbformat": 4,
 "nbformat_minor": 2
}
