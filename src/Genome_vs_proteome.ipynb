{
 "cells": [
  {
   "cell_type": "code",
   "execution_count": 1,
   "id": "9c88b0b4",
   "metadata": {},
   "outputs": [],
   "source": [
    "#TODO Automatizar la lectura de archivos con nombres genéricos, ocupa mucho espacio del notebook\n"
   ]
  },
  {
   "cell_type": "code",
   "execution_count": 2,
   "id": "dc6013f5",
   "metadata": {},
   "outputs": [],
   "source": [
    "import pandas as pd\n",
    "import numpy as np\n",
    "from get_gene_info import get_genome_info, get_genes_from_ranges"
   ]
  },
  {
   "cell_type": "markdown",
   "id": "82918302",
   "metadata": {},
   "source": [
    "# Get deleted genes"
   ]
  },
  {
   "cell_type": "markdown",
   "id": "f7ad740b",
   "metadata": {},
   "source": [
    "Getting the genes that should be affected by the deleted ranges (Only for Delta 16 from MG1655 and all the W3110 strains as the others already report which genes are deleted)\n"
   ]
  },
  {
   "cell_type": "markdown",
   "id": "401c1842",
   "metadata": {},
   "source": [
    "#### MG1655"
   ]
  },
  {
   "cell_type": "code",
   "execution_count": 3,
   "id": "b7159768",
   "metadata": {},
   "outputs": [
    {
     "name": "stdout",
     "output_type": "stream",
     "text": [
      "1170\n"
     ]
    }
   ],
   "source": [
    "\n",
    "delta16 = pd.read_csv('../files/deleted_ranges/delta_16.csv',encoding='latin1')\n",
    "\n",
    "genomeMG1655_path = '../files/genomes/MG1655.gb'\n",
    "genomeMG1655 = get_genome_info(genomeMG1655_path)\n",
    "\n",
    "delta_16_genes = get_genes_from_ranges(delta16, genomeMG1655)\n",
    "\n",
    "delta_16_genes.to_csv('../files/deleted_genes/mapped_del_genes_Δ16.csv',header=True)"
   ]
  },
  {
   "cell_type": "code",
   "execution_count": 4,
   "id": "f4e17033",
   "metadata": {},
   "outputs": [],
   "source": [
    "## Get files with the lengths of the genes from de MG1655"
   ]
  },
  {
   "cell_type": "code",
   "execution_count": 5,
   "id": "3d65af72",
   "metadata": {},
   "outputs": [],
   "source": [
    "## Las MDS y MS56 ya traían sus bnumber, no hubo necesidad de mapear\n",
    "#MS56\n",
    "genes_MS56 = list(pd.read_csv('../files/deleted_ranges/MS56.csv')['Locus_Tag'])\n",
    "\n",
    "#MDS\n",
    "MDS_line = pd.read_csv('../files/deleted_ranges/MDS42_69.csv')\n",
    "MD12v2 = pd.read_csv('../files/deleted_ranges/MDS12_V2.csv')\n",
    "MDS_line= MDS_line.set_index('bnumber')\n",
    "genes_12_v2=list(set(MD12v2['MDS12']))\n",
    "genes_42 = list(set(MDS_line['MDS42_deleted'][MDS_line['MDS42_deleted']!=0].index))\n",
    "genes_69 = list(set(MDS_line['MDS69_deleted'][MDS_line['MDS69_deleted']!=0].index))"
   ]
  },
  {
   "cell_type": "code",
   "execution_count": 6,
   "id": "b4d16904",
   "metadata": {},
   "outputs": [],
   "source": [
    "strains_wbnumber = {'MS56':genes_MS56,'MDS12':genes_12_v2, 'MDS42':genes_42, 'MDS69':genes_69}"
   ]
  },
  {
   "cell_type": "code",
   "execution_count": 7,
   "id": "e036ccdc",
   "metadata": {},
   "outputs": [],
   "source": [
    "genes_finales = {}\n",
    "\n",
    "for strain in strains_wbnumber.keys():\n",
    "    genes_finales[strain] = genomeMG1655.loc[genomeMG1655.Bnumber.isin(strains_wbnumber[strain]),['Bnumber', 'Gen', 'Length']]\n",
    "    genes_finales[strain].to_csv('../files/deleted_genes/mapped_del_genes_'+strain+'.csv',header=True)"
   ]
  },
  {
   "cell_type": "markdown",
   "id": "40444b7c",
   "metadata": {},
   "source": [
    "#### W3110"
   ]
  },
  {
   "cell_type": "code",
   "execution_count": 8,
   "id": "07bec099",
   "metadata": {},
   "outputs": [],
   "source": [
    "names_W3110 = ['MGF01', 'MGF02', 'DGF327', 'DGF298']\n",
    "\n",
    "rangos = pd.read_csv('../files/deleted_ranges/MGF_line.csv',encoding='latin1')\n",
    "genomeW3110_path = '../files/genomes/W3110.gb'\n",
    "genomeW3110 = get_genome_info(genomeW3110_path)\n",
    "\n",
    "strains = []"
   ]
  },
  {
   "cell_type": "code",
   "execution_count": 9,
   "id": "361d01d1",
   "metadata": {},
   "outputs": [],
   "source": [
    "for name_W3110 in names_W3110:\n",
    "    strains.append(rangos.loc[:,[name_W3110+'_L', name_W3110+'_R']].dropna())"
   ]
  },
  {
   "cell_type": "code",
   "execution_count": 10,
   "id": "96bb9897",
   "metadata": {},
   "outputs": [
    {
     "name": "stdout",
     "output_type": "stream",
     "text": [
      "1035\n",
      "1176\n",
      "1392\n",
      "1727\n"
     ]
    }
   ],
   "source": [
    "genes_finales = {}\n",
    "\n",
    "for strain in strains:\n",
    "    nombre = strain.columns[0].split('_')[0]\n",
    "    genes_finales[nombre] = get_genes_from_ranges(strain, genomeW3110)\n",
    "    genes_finales[nombre] = genes_finales[nombre].drop_duplicates()\n",
    "    genes_finales[nombre].to_csv('../files/deleted_genes/mapped_del_genes_'+strain+'.csv',header=True)    "
   ]
  },
  {
   "cell_type": "markdown",
   "id": "2c57d5d3",
   "metadata": {},
   "source": [
    "# Proteome mappiing"
   ]
  },
  {
   "cell_type": "code",
   "execution_count": 11,
   "id": "e4efd317",
   "metadata": {},
   "outputs": [],
   "source": [
    "proteomic_data = pd.read_excel(\"../files/proteome_Schmidt/Proteomic_data_fg.xlsx\") #Datos en fg  de distintas condiciones\n",
    "proteome_size = pd.read_excel(\"../files/proteome_Schmidt/Proteome_size.xlsx\")"
   ]
  },
  {
   "cell_type": "code",
   "execution_count": 12,
   "id": "5ad507d9",
   "metadata": {},
   "outputs": [],
   "source": [
    "#Delta16\n",
    "delta16 = pd.read_csv(\"../files/deleted_genes/mapped_del_genes_Δ16.csv\")\n",
    "delta16 = delta16.drop('Unnamed: 0', axis=1)"
   ]
  },
  {
   "cell_type": "code",
   "execution_count": 15,
   "id": "e026bbdb",
   "metadata": {},
   "outputs": [],
   "source": [
    "## W3110\n",
    "cepas = {}\n",
    "\n",
    "for name_W3110 in names_W3110:\n",
    "    strain_df = pd.read_csv(\"../files/deleted_genes/mapped_del_genes_\"+name_W3110+\".csv\")\n",
    "    strain_df = strain_df.drop('Unnamed: 0', axis=1)\n",
    "    cepas[name_W3110]=strain_df"
   ]
  },
  {
   "cell_type": "code",
   "execution_count": 16,
   "id": "7e6fe922",
   "metadata": {},
   "outputs": [
    {
     "name": "stdout",
     "output_type": "stream",
     "text": [
      "MGF01\n",
      "MGF02\n",
      "DGF327\n",
      "DGF298\n"
     ]
    }
   ],
   "source": [
    "matched_genes_cepas={}\n",
    "for n in names_W3110:\n",
    "    print(n)\n",
    "    matched_genes_cepas[n]=proteomic_data[proteomic_data['Bnumber'].isin(cepas[n].Bnumber)].copy()\n",
    "    gene_length  = cepas[n].set_index('Bnumber').loc[matched_genes_cepas[n].Bnumber,['Gen','Length']].values\n",
    "    matched_genes_cepas[n].loc[:,['Gen NCBI', 'Length']] = gene_length\n",
    "    \n",
    "    # Reorganize columns\n",
    "    \n",
    "    first = list(matched_genes_cepas[n].columns[:2])\n",
    "    second = list(matched_genes_cepas[n].columns[-2:])\n",
    "    third = list(matched_genes_cepas[n].columns[2:-2])\n",
    "    \n",
    "    matched_genes_cepas[n] = matched_genes_cepas[n].loc[:,first+second+third]"
   ]
  },
  {
   "cell_type": "code",
   "execution_count": 17,
   "id": "149a6051",
   "metadata": {},
   "outputs": [],
   "source": [
    "prot_load = []\n",
    "prot_perc = []\n",
    "# mat_gen = []\n",
    "\n",
    "for nombre in names_W3110:\n",
    "    matched_genes = matched_genes_cepas[nombre]\n",
    "    \n",
    "    # Agregamos la carga proteomica de cada condición\n",
    "    prot_load.append((matched_genes.sum()[4:26]).rename(nombre))\n",
    "\n",
    "    # Agregamos el porcentaje de cada condición\n",
    "    prot_perc.append((matched_genes.sum()[4:26]/proteome_size.iloc[:,1:]*100).rename(index={0:nombre}))\n",
    "\n"
   ]
  },
  {
   "cell_type": "code",
   "execution_count": 18,
   "id": "4cc009d0",
   "metadata": {},
   "outputs": [],
   "source": [
    "for n in range(len(prot_perc)):\n",
    "    prot_perc[n] = prot_perc[n].loc[:,[\"LB\",\"Glicerol + AA\",\"42°C glucosa\",\"Fructosa\",\"pH6 glucosa\",\"Glucosa\",\"Estrés-osmótico glucosa\",\"Xilosa\",\"Quimiostato µ=0.5\",\"Manosa\",\"Glicerol\",\"Glucosamina\",\"Succinato\",\"Fumarato\",\"Piruvato\",\"Quimiostato µ=0.35\",\"Acetato\",\"Galactosa\",\"Quimiostato µ=0.20\",\"Quimiostato µ=0.12\",\"Fase estacionaria 1 día\",\"Fase estacionaria 3 días\"]]"
   ]
  },
  {
   "cell_type": "code",
   "execution_count": null,
   "id": "b5b47ea6",
   "metadata": {},
   "outputs": [],
   "source": []
  }
 ],
 "metadata": {
  "kernelspec": {
   "display_name": "Python 3 (ipykernel)",
   "language": "python",
   "name": "python3"
  },
  "language_info": {
   "codemirror_mode": {
    "name": "ipython",
    "version": 3
   },
   "file_extension": ".py",
   "mimetype": "text/x-python",
   "name": "python",
   "nbconvert_exporter": "python",
   "pygments_lexer": "ipython3",
   "version": "3.9.7"
  }
 },
 "nbformat": 4,
 "nbformat_minor": 5
}
