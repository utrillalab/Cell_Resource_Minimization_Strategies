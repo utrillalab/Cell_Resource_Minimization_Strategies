{
 "cells": [
  {
   "cell_type": "markdown",
   "id": "17aa27a6",
   "metadata": {},
   "source": [
    "# Genome vs Proteome"
   ]
  },
  {
   "cell_type": "code",
   "execution_count": 1,
   "id": "dc6013f5",
   "metadata": {},
   "outputs": [],
   "source": [
    "import pandas as pd\n",
    "import numpy as np\n",
    "\n",
    "from get_gene_info import get_genome_info, get_genes_from_ranges\n",
    "from get_proteome_info import match_proteomic_data, calculate_proteomic_load\n",
    "from plot_proteome import plot_perc_load, plot_distribution, plot_strain_distribution, display_side_by_side"
   ]
  },
  {
   "cell_type": "code",
   "execution_count": 2,
   "id": "363190ae",
   "metadata": {},
   "outputs": [],
   "source": [
    "# Colors for the plots\n",
    "\n",
    "colors = {'Δ16':\"#FFB700\", 'MS56':\"#648FFF\", 'MDS69':\"#82B541\",\n",
    "                      'DGF298':\"#CC002D\", 'MGF02':\"#9B5EF0\"}\n",
    "colors2  = [\"#FDA96D\", \"#FE6100\"]\n"
   ]
  },
  {
   "cell_type": "markdown",
   "id": "8ae306c8",
   "metadata": {},
   "source": [
    "## Index\n",
    "+ ### <a href=\"#Map_gene\" style=\"color:#3C71FB\">Map deleted genes</a>\n",
    "+ ### <a href=\"#Map_prot\" style=\"color:#3C71FB\">Proteome mapping</a>\n",
    "+ ### <a href=\"#Prot_load\" style=\"color:#3C71FB\">Proteomic load </a>\n",
    "    + ### <a href=\"#Plot_load\" style=\"color:#648FFF\">Plot</a>\n",
    "+ ### <a href=\"#Prot_dist\" style=\"color:#3C71FB\">Proteome distribution</a>\n",
    "    + ### <a href=\"#Plot_average\" style=\"color:#648FFF\">Average</a>\n",
    "    + ### <a href=\"#Plot_glc\" style=\"color:#648FFF\">Glucose</a>\n",
    "+ ### <a href=\"#Prot_dist_s\" style=\"color:#3C71FB\">Proteome distribution (Deleted Genes from Strains)</a>\n"
   ]
  },
  {
   "cell_type": "markdown",
   "id": "82918302",
   "metadata": {},
   "source": [
    "<p id=\"Map_gene\"></p>\n",
    "\n",
    "# Map deleted genes"
   ]
  },
  {
   "cell_type": "markdown",
   "id": "f7ad740b",
   "metadata": {},
   "source": [
    "Getting the genes that should be affected by the deleted ranges (Only for Delta 16 from MG1655 and all the W3110 strains as the others already report which genes are deleted)\n"
   ]
  },
  {
   "cell_type": "markdown",
   "id": "401c1842",
   "metadata": {},
   "source": [
    "#### MG1655"
   ]
  },
  {
   "cell_type": "code",
   "execution_count": 3,
   "id": "b7159768",
   "metadata": {},
   "outputs": [
    {
     "name": "stdout",
     "output_type": "stream",
     "text": [
      "1170\n"
     ]
    }
   ],
   "source": [
    "# Get the ranges from the Δ16 strain and map those genes from the NC_000913.3 NCBI entry \n",
    "\n",
    "delta16 = pd.read_csv('../files/deleted_ranges/delta_16.csv',encoding='latin1')\n",
    "genomeMG1655_path = '../files/genomes/MG1655.gb'\n",
    "\n",
    "genomeMG1655 = get_genome_info(genomeMG1655_path) # Read and extract info from the NCBI file \n",
    "delta_16_genes = get_genes_from_ranges(delta16, genomeMG1655) # Map the ranges to the genes\n",
    "delta_16_genes = delta_16_genes.drop_duplicates()\n",
    "\n",
    "delta_16_genes.to_csv('../files/deleted_genes/mapped_del_genes_Δ16.csv',header=True)"
   ]
  },
  {
   "cell_type": "code",
   "execution_count": 4,
   "id": "3d65af72",
   "metadata": {},
   "outputs": [],
   "source": [
    "# The MDS strains and the MS56 strain already had the genes reported\n",
    "\n",
    "# MS56\n",
    "genes_MS56 = list(pd.read_csv('../files/deleted_ranges/MS56.csv')['Locus_Tag'])\n",
    "\n",
    "# MDS strains\n",
    "MDS_line = pd.read_csv('../files/deleted_ranges/MDS42_69.csv')\n",
    "MD12v2 = pd.read_csv('../files/deleted_ranges/MDS12_V2.csv')\n",
    "MDS_line = MDS_line.set_index('bnumber')\n",
    "genes_12_v2 = list(set(MD12v2['MDS12']))\n",
    "genes_42 = list(set(MDS_line['MDS42_deleted'][MDS_line['MDS42_deleted']!=0].index))\n",
    "genes_69 = list(set(MDS_line['MDS69_deleted'][MDS_line['MDS69_deleted']!=0].index))"
   ]
  },
  {
   "cell_type": "code",
   "execution_count": 5,
   "id": "b4d16904",
   "metadata": {},
   "outputs": [],
   "source": [
    "strains_wbnumber = {'MS56':genes_MS56,'MDS12':genes_12_v2, 'MDS42':genes_42, 'MDS69':genes_69}"
   ]
  },
  {
   "cell_type": "code",
   "execution_count": 6,
   "id": "e036ccdc",
   "metadata": {},
   "outputs": [],
   "source": [
    "# Save this information for each strain in a csv the file \n",
    "genes_finalesMG1655 = {}\n",
    "\n",
    "for strain in strains_wbnumber.keys():\n",
    "    genes_finalesMG1655[strain] = genomeMG1655.loc[genomeMG1655.Bnumber.isin(strains_wbnumber[strain]),['Bnumber', 'Gen', 'Length']]\n",
    "    genes_finalesMG1655[strain] = genes_finalesMG1655[strain].drop_duplicates()\n",
    "    genes_finalesMG1655[strain].to_csv('../files/deleted_genes/mapped_del_genes_'+strain+'.csv',header=True)"
   ]
  },
  {
   "cell_type": "markdown",
   "id": "40444b7c",
   "metadata": {},
   "source": [
    "#### W3110"
   ]
  },
  {
   "cell_type": "code",
   "execution_count": 7,
   "id": "07bec099",
   "metadata": {},
   "outputs": [
    {
     "name": "stdout",
     "output_type": "stream",
     "text": [
      "1727\n",
      "1392\n",
      "1176\n",
      "1035\n"
     ]
    }
   ],
   "source": [
    "# Get the ranges from the W3110 related strains and map those genes from the AP009048.1 NCBI entry \n",
    "\n",
    "\n",
    "names_W3110 = ['DGF298', 'DGF327', 'MGF02', 'MGF01' ]\n",
    "\n",
    "rangos = pd.read_csv('../files/deleted_ranges/MGF_line.csv',encoding='latin1')\n",
    "genomeW3110_path = '../files/genomes/W3110.gb'\n",
    "genomeW3110 = get_genome_info(genomeW3110_path) # Read and extract info from the NCBI file \n",
    "\n",
    "strains = []\n",
    "\n",
    "for name_W3110 in names_W3110:\n",
    "    strains.append(rangos.loc[:,[name_W3110+'_L', name_W3110+'_R']].dropna()) # Give format to the ranges\n",
    "    \n",
    "genes_finalesW3110 = {}\n",
    "\n",
    "for strain in strains:\n",
    "    nombre = strain.columns[0].split('_')[0]\n",
    "    genes_finalesW3110[nombre] = get_genes_from_ranges(strain, genomeW3110) # Map the ranges to the genes\n",
    "    genes_finalesW3110[nombre] = genes_finalesW3110[nombre].drop_duplicates()\n",
    "    \n",
    "    # Save the information in a csv file \n",
    "    genes_finalesW3110[nombre].to_csv('../files/deleted_genes/mapped_del_genes_'+nombre+'.csv',header=True)    "
   ]
  },
  {
   "cell_type": "code",
   "execution_count": 8,
   "id": "d1790f80",
   "metadata": {},
   "outputs": [],
   "source": [
    "# Choose some examples for visualization \n",
    "\n",
    "range_ej_1 = delta16.head()\n",
    "range_ej_2 = strains[0].head()\n",
    "gene_ej_1 = genes_finalesMG1655['MS56'].head().set_index('Bnumber')\n",
    "gene_ej_2 = genes_finalesW3110['DGF298'].head().set_index('Bnumber')"
   ]
  },
  {
   "cell_type": "markdown",
   "id": "3e07b128",
   "metadata": {},
   "source": [
    "In the end, ranges from the strains from MG1655 and W3110 were mapped to its genes."
   ]
  },
  {
   "cell_type": "markdown",
   "id": "0da67e89",
   "metadata": {},
   "source": [
    "<div class=\"alert alert-block alert-info\">\n",
    "<b>Mapping genes:</b> In the end, ranges from the strains from MG1655 and W3110 were mapped to its genes.</div>\n",
    "​"
   ]
  },
  {
   "cell_type": "code",
   "execution_count": 9,
   "id": "98cc3cae",
   "metadata": {},
   "outputs": [
    {
     "data": {
      "text/html": [
       "<th style=\"text-align:center\"><td style=\"vertical-align:top\"><h2>Ranges Δ16 -></h2><table style=\"display:inline\" border=\"1\" class=\"dataframe\">\n",
       "  <thead>\n",
       "    <tr style=\"text-align: right;\">\n",
       "      <th></th>\n",
       "      <th>D16_L</th>\n",
       "      <th>D16_R</th>\n",
       "    </tr>\n",
       "  </thead>\n",
       "  <tbody>\n",
       "    <tr>\n",
       "      <th>0</th>\n",
       "      <td>2947930</td>\n",
       "      <td>2962780</td>\n",
       "    </tr>\n",
       "    <tr>\n",
       "      <th>1</th>\n",
       "      <td>289030</td>\n",
       "      <td>366193</td>\n",
       "    </tr>\n",
       "    <tr>\n",
       "      <th>2</th>\n",
       "      <td>3542486</td>\n",
       "      <td>3572350</td>\n",
       "    </tr>\n",
       "    <tr>\n",
       "      <th>3</th>\n",
       "      <td>4619264</td>\n",
       "      <td>4637974</td>\n",
       "    </tr>\n",
       "    <tr>\n",
       "      <th>4</th>\n",
       "      <td>3533214</td>\n",
       "      <td>3552459</td>\n",
       "    </tr>\n",
       "  </tbody>\n",
       "</table style=\"display:inline\"></td></th><th style=\"text-align:center\"><td style=\"vertical-align:top\"><h2>Genes Δ16</h2><table style=\"display:inline\" border=\"1\" class=\"dataframe\">\n",
       "  <thead>\n",
       "    <tr style=\"text-align: right;\">\n",
       "      <th></th>\n",
       "      <th>Gen</th>\n",
       "      <th>Length</th>\n",
       "    </tr>\n",
       "    <tr>\n",
       "      <th>Bnumber</th>\n",
       "      <th></th>\n",
       "      <th></th>\n",
       "    </tr>\n",
       "  </thead>\n",
       "  <tbody>\n",
       "    <tr>\n",
       "      <th>b0016</th>\n",
       "      <td>insL-1</td>\n",
       "      <td>1114</td>\n",
       "    </tr>\n",
       "    <tr>\n",
       "      <th>b0018</th>\n",
       "      <td>mokC</td>\n",
       "      <td>211</td>\n",
       "    </tr>\n",
       "    <tr>\n",
       "      <th>b0019</th>\n",
       "      <td>nhaA</td>\n",
       "      <td>1168</td>\n",
       "    </tr>\n",
       "    <tr>\n",
       "      <th>b0020</th>\n",
       "      <td>nhaR</td>\n",
       "      <td>907</td>\n",
       "    </tr>\n",
       "    <tr>\n",
       "      <th>b0022</th>\n",
       "      <td>insA-1</td>\n",
       "      <td>277</td>\n",
       "    </tr>\n",
       "  </tbody>\n",
       "</table style=\"display:inline\"></td></th><th style=\"text-align:center\"><td style=\"vertical-align:top\"><h2>Ranges DGF-></h2><table style=\"display:inline\" border=\"1\" class=\"dataframe\">\n",
       "  <thead>\n",
       "    <tr style=\"text-align: right;\">\n",
       "      <th></th>\n",
       "      <th>DGF298_L</th>\n",
       "      <th>DGF298_R</th>\n",
       "    </tr>\n",
       "  </thead>\n",
       "  <tbody>\n",
       "    <tr>\n",
       "      <th>0</th>\n",
       "      <td>747145</td>\n",
       "      <td>753217</td>\n",
       "    </tr>\n",
       "    <tr>\n",
       "      <th>1</th>\n",
       "      <td>3918091</td>\n",
       "      <td>3969123</td>\n",
       "    </tr>\n",
       "    <tr>\n",
       "      <th>2</th>\n",
       "      <td>4281498</td>\n",
       "      <td>4291254</td>\n",
       "    </tr>\n",
       "    <tr>\n",
       "      <th>3</th>\n",
       "      <td>4298072</td>\n",
       "      <td>4366613</td>\n",
       "    </tr>\n",
       "    <tr>\n",
       "      <th>4</th>\n",
       "      <td>1130992</td>\n",
       "      <td>1142564</td>\n",
       "    </tr>\n",
       "  </tbody>\n",
       "</table style=\"display:inline\"></td></th><th style=\"text-align:center\"><td style=\"vertical-align:top\"><h2>Genes DGF</h2><table style=\"display:inline\" border=\"1\" class=\"dataframe\">\n",
       "  <thead>\n",
       "    <tr style=\"text-align: right;\">\n",
       "      <th></th>\n",
       "      <th>Gen</th>\n",
       "      <th>Length</th>\n",
       "    </tr>\n",
       "    <tr>\n",
       "      <th>Bnumber</th>\n",
       "      <th></th>\n",
       "      <th></th>\n",
       "    </tr>\n",
       "  </thead>\n",
       "  <tbody>\n",
       "    <tr>\n",
       "      <th>b0714</th>\n",
       "      <td>nei</td>\n",
       "      <td>793</td>\n",
       "    </tr>\n",
       "    <tr>\n",
       "      <th>b0715</th>\n",
       "      <td>abrB</td>\n",
       "      <td>1048</td>\n",
       "    </tr>\n",
       "    <tr>\n",
       "      <th>b0716</th>\n",
       "      <td>ybgO</td>\n",
       "      <td>1063</td>\n",
       "    </tr>\n",
       "    <tr>\n",
       "      <th>b0717</th>\n",
       "      <td>ybgP</td>\n",
       "      <td>730</td>\n",
       "    </tr>\n",
       "    <tr>\n",
       "      <th>b0718</th>\n",
       "      <td>ybgQ</td>\n",
       "      <td>2449</td>\n",
       "    </tr>\n",
       "  </tbody>\n",
       "</table style=\"display:inline\"></td></th>"
      ]
     },
     "metadata": {},
     "output_type": "display_data"
    }
   ],
   "source": [
    "display_side_by_side(range_ej_1, gene_ej_1, range_ej_2, gene_ej_2, titles=['Ranges Δ16 ->','Genes Δ16','Ranges DGF->','Genes DGF']) "
   ]
  },
  {
   "cell_type": "markdown",
   "id": "2c57d5d3",
   "metadata": {},
   "source": [
    "<p id=\"Map_prot\"></p>\n",
    "\n",
    "# Proteome mapping"
   ]
  },
  {
   "cell_type": "markdown",
   "id": "652b5491",
   "metadata": {},
   "source": [
    "See how much the deleted genes represent in proteome fraction for each of the conditions of the Schmidt et al, 2016\n",
    "data"
   ]
  },
  {
   "cell_type": "code",
   "execution_count": 10,
   "id": "e4efd317",
   "metadata": {},
   "outputs": [],
   "source": [
    "# Proteomic data from Schmidt et al, 2016\n",
    "\n",
    "proteomic_data = pd.read_excel(\"../files/proteome_Schmidt/Proteomic_data_fg.xlsx\") \n",
    "proteome_size = pd.read_excel(\"../files/proteome_Schmidt/Proteome_size.xlsx\")"
   ]
  },
  {
   "cell_type": "code",
   "execution_count": 11,
   "id": "0558a3e7",
   "metadata": {},
   "outputs": [
    {
     "data": {
      "text/html": [
       "<div>\n",
       "<style scoped>\n",
       "    .dataframe tbody tr th:only-of-type {\n",
       "        vertical-align: middle;\n",
       "    }\n",
       "\n",
       "    .dataframe tbody tr th {\n",
       "        vertical-align: top;\n",
       "    }\n",
       "\n",
       "    .dataframe thead th {\n",
       "        text-align: right;\n",
       "    }\n",
       "</style>\n",
       "<table border=\"1\" class=\"dataframe\">\n",
       "  <thead>\n",
       "    <tr style=\"text-align: right;\">\n",
       "      <th></th>\n",
       "      <th>Bnumber</th>\n",
       "      <th>Gene</th>\n",
       "      <th>Glucosa</th>\n",
       "      <th>LB</th>\n",
       "      <th>Glicerol + AA</th>\n",
       "    </tr>\n",
       "  </thead>\n",
       "  <tbody>\n",
       "    <tr>\n",
       "      <th>0</th>\n",
       "      <td>b2836</td>\n",
       "      <td>aas</td>\n",
       "      <td>0.000845</td>\n",
       "      <td>0.001648</td>\n",
       "      <td>0.001316</td>\n",
       "    </tr>\n",
       "    <tr>\n",
       "      <th>1</th>\n",
       "      <td>b0185</td>\n",
       "      <td>accA</td>\n",
       "      <td>0.223594</td>\n",
       "      <td>0.465969</td>\n",
       "      <td>0.396601</td>\n",
       "    </tr>\n",
       "    <tr>\n",
       "      <th>2</th>\n",
       "      <td>b3255</td>\n",
       "      <td>accB</td>\n",
       "      <td>0.071193</td>\n",
       "      <td>0.168232</td>\n",
       "      <td>0.122404</td>\n",
       "    </tr>\n",
       "    <tr>\n",
       "      <th>3</th>\n",
       "      <td>b3256</td>\n",
       "      <td>accC</td>\n",
       "      <td>0.148113</td>\n",
       "      <td>0.437881</td>\n",
       "      <td>0.259203</td>\n",
       "    </tr>\n",
       "    <tr>\n",
       "      <th>4</th>\n",
       "      <td>b2316</td>\n",
       "      <td>accD</td>\n",
       "      <td>0.091758</td>\n",
       "      <td>0.190092</td>\n",
       "      <td>0.155012</td>\n",
       "    </tr>\n",
       "  </tbody>\n",
       "</table>\n",
       "</div>"
      ],
      "text/plain": [
       "  Bnumber  Gene   Glucosa        LB  Glicerol + AA\n",
       "0   b2836   aas  0.000845  0.001648       0.001316\n",
       "1   b0185  accA  0.223594  0.465969       0.396601\n",
       "2   b3255  accB  0.071193  0.168232       0.122404\n",
       "3   b3256  accC  0.148113  0.437881       0.259203\n",
       "4   b2316  accD  0.091758  0.190092       0.155012"
      ]
     },
     "execution_count": 11,
     "metadata": {},
     "output_type": "execute_result"
    }
   ],
   "source": [
    "# Example of the information (protein in fg)\n",
    "\n",
    "proteomic_data.iloc[0:5,0:5]"
   ]
  },
  {
   "cell_type": "code",
   "execution_count": 12,
   "id": "785d6c47",
   "metadata": {},
   "outputs": [
    {
     "data": {
      "text/html": [
       "<div>\n",
       "<style scoped>\n",
       "    .dataframe tbody tr th:only-of-type {\n",
       "        vertical-align: middle;\n",
       "    }\n",
       "\n",
       "    .dataframe tbody tr th {\n",
       "        vertical-align: top;\n",
       "    }\n",
       "\n",
       "    .dataframe thead th {\n",
       "        text-align: right;\n",
       "    }\n",
       "</style>\n",
       "<table border=\"1\" class=\"dataframe\">\n",
       "  <thead>\n",
       "    <tr style=\"text-align: right;\">\n",
       "      <th></th>\n",
       "      <th>Unnamed: 0</th>\n",
       "      <th>Glucosa</th>\n",
       "      <th>LB</th>\n",
       "      <th>Glicerol + AA</th>\n",
       "      <th>Acetato</th>\n",
       "    </tr>\n",
       "  </thead>\n",
       "  <tbody>\n",
       "    <tr>\n",
       "      <th>0</th>\n",
       "      <td>Proteoma Total</td>\n",
       "      <td>243.195528</td>\n",
       "      <td>366.968242</td>\n",
       "      <td>326.553153</td>\n",
       "      <td>196.363377</td>\n",
       "    </tr>\n",
       "  </tbody>\n",
       "</table>\n",
       "</div>"
      ],
      "text/plain": [
       "       Unnamed: 0     Glucosa          LB  Glicerol + AA     Acetato\n",
       "0  Proteoma Total  243.195528  366.968242     326.553153  196.363377"
      ]
     },
     "execution_count": 12,
     "metadata": {},
     "output_type": "execute_result"
    }
   ],
   "source": [
    "# Total proteome in fg for each condition\n",
    "proteome_size.iloc[:,0:5]"
   ]
  },
  {
   "cell_type": "markdown",
   "id": "c0c27e22",
   "metadata": {},
   "source": [
    "#### MG1655"
   ]
  },
  {
   "cell_type": "code",
   "execution_count": 13,
   "id": "3342f776",
   "metadata": {},
   "outputs": [],
   "source": [
    "names_MG1655 = ['Δ16', 'MS56', 'MDS69','MDS42','MDS12']\n",
    "cepas_MG1655 = {}\n",
    "\n",
    "for name_MG1655 in names_MG1655:\n",
    "    strain_df = pd.read_csv(\"../files/deleted_genes/mapped_del_genes_\"+name_MG1655+\".csv\")\n",
    "    strain_df = strain_df.drop('Unnamed: 0', axis=1)\n",
    "    cepas_MG1655[name_MG1655] = strain_df"
   ]
  },
  {
   "cell_type": "markdown",
   "id": "a328aba4",
   "metadata": {},
   "source": [
    "#### W3110"
   ]
  },
  {
   "cell_type": "code",
   "execution_count": 14,
   "id": "e026bbdb",
   "metadata": {},
   "outputs": [],
   "source": [
    "cepas_W3110 = {}\n",
    "\n",
    "for name_W3110 in names_W3110:\n",
    "    strain_df = pd.read_csv(\"../files/deleted_genes/mapped_del_genes_\"+name_W3110+\".csv\")\n",
    "    strain_df = strain_df.drop('Unnamed: 0', axis=1)\n",
    "    cepas_W3110[name_W3110]=strain_df"
   ]
  },
  {
   "cell_type": "code",
   "execution_count": 15,
   "id": "7623ea8c",
   "metadata": {},
   "outputs": [
    {
     "data": {
      "text/html": [
       "<th style=\"text-align:center\"><td style=\"vertical-align:top\"><h2>MG1655 (MS56)</h2><table style=\"display:inline\" border=\"1\" class=\"dataframe\">\n",
       "  <thead>\n",
       "    <tr style=\"text-align: right;\">\n",
       "      <th></th>\n",
       "      <th>Bnumber</th>\n",
       "      <th>Gen</th>\n",
       "      <th>Length</th>\n",
       "    </tr>\n",
       "  </thead>\n",
       "  <tbody>\n",
       "    <tr>\n",
       "      <th>0</th>\n",
       "      <td>b0016</td>\n",
       "      <td>insL-1</td>\n",
       "      <td>1114</td>\n",
       "    </tr>\n",
       "    <tr>\n",
       "      <th>1</th>\n",
       "      <td>b0018</td>\n",
       "      <td>mokC</td>\n",
       "      <td>211</td>\n",
       "    </tr>\n",
       "    <tr>\n",
       "      <th>2</th>\n",
       "      <td>b0019</td>\n",
       "      <td>nhaA</td>\n",
       "      <td>1168</td>\n",
       "    </tr>\n",
       "    <tr>\n",
       "      <th>3</th>\n",
       "      <td>b0020</td>\n",
       "      <td>nhaR</td>\n",
       "      <td>907</td>\n",
       "    </tr>\n",
       "    <tr>\n",
       "      <th>4</th>\n",
       "      <td>b0022</td>\n",
       "      <td>insA-1</td>\n",
       "      <td>277</td>\n",
       "    </tr>\n",
       "  </tbody>\n",
       "</table style=\"display:inline\"></td></th><th style=\"text-align:center\"><td style=\"vertical-align:top\"><h2>W3110 (DGF298)</h2><table style=\"display:inline\" border=\"1\" class=\"dataframe\">\n",
       "  <thead>\n",
       "    <tr style=\"text-align: right;\">\n",
       "      <th></th>\n",
       "      <th>Bnumber</th>\n",
       "      <th>Gen</th>\n",
       "      <th>Length</th>\n",
       "    </tr>\n",
       "  </thead>\n",
       "  <tbody>\n",
       "    <tr>\n",
       "      <th>0</th>\n",
       "      <td>b0714</td>\n",
       "      <td>nei</td>\n",
       "      <td>793</td>\n",
       "    </tr>\n",
       "    <tr>\n",
       "      <th>1</th>\n",
       "      <td>b0715</td>\n",
       "      <td>abrB</td>\n",
       "      <td>1048</td>\n",
       "    </tr>\n",
       "    <tr>\n",
       "      <th>2</th>\n",
       "      <td>b0716</td>\n",
       "      <td>ybgO</td>\n",
       "      <td>1063</td>\n",
       "    </tr>\n",
       "    <tr>\n",
       "      <th>3</th>\n",
       "      <td>b0717</td>\n",
       "      <td>ybgP</td>\n",
       "      <td>730</td>\n",
       "    </tr>\n",
       "    <tr>\n",
       "      <th>4</th>\n",
       "      <td>b0718</td>\n",
       "      <td>ybgQ</td>\n",
       "      <td>2449</td>\n",
       "    </tr>\n",
       "  </tbody>\n",
       "</table style=\"display:inline\"></td></th>"
      ]
     },
     "metadata": {},
     "output_type": "display_data"
    }
   ],
   "source": [
    "    display_side_by_side(cepas_MG1655['MS56'].head(), cepas_W3110['DGF298'].head(), titles=['MG1655 (MS56)','W3110 (DGF298)']) "
   ]
  },
  {
   "cell_type": "code",
   "execution_count": 16,
   "id": "2ba10a45",
   "metadata": {},
   "outputs": [],
   "source": [
    "matched_genes_cepas_MG1655 = match_proteomic_data(names_MG1655, cepas_MG1655, proteomic_data)\n",
    "matched_genes_cepas_W3110 = match_proteomic_data(names_W3110, cepas_W3110, proteomic_data)"
   ]
  },
  {
   "cell_type": "markdown",
   "id": "0786be00",
   "metadata": {},
   "source": [
    "<div class=\"alert alert-block alert-info\">\n",
    "<b>Proteome mapping:</b> We mapped the deleted genes of every strain with the proteomic data</div>\n",
    "​"
   ]
  },
  {
   "cell_type": "code",
   "execution_count": 17,
   "id": "a348a26a",
   "metadata": {},
   "outputs": [
    {
     "data": {
      "text/html": [
       "<th style=\"text-align:center\"><td style=\"vertical-align:top\"><h2>MG1655 (MS56)</h2><table style=\"display:inline\" border=\"1\" class=\"dataframe\">\n",
       "  <thead>\n",
       "    <tr style=\"text-align: right;\">\n",
       "      <th></th>\n",
       "      <th>Bnumber</th>\n",
       "      <th>Gene</th>\n",
       "      <th>Gen NCBI</th>\n",
       "      <th>Length</th>\n",
       "      <th>Glucosa</th>\n",
       "      <th>LB</th>\n",
       "    </tr>\n",
       "  </thead>\n",
       "  <tbody>\n",
       "    <tr>\n",
       "      <th>26</th>\n",
       "      <td>b3714</td>\n",
       "      <td>adeP</td>\n",
       "      <td>adeP</td>\n",
       "      <td>1339</td>\n",
       "      <td>0.007098</td>\n",
       "      <td>3.361445e-03</td>\n",
       "    </tr>\n",
       "    <tr>\n",
       "      <th>28</th>\n",
       "      <td>b1478</td>\n",
       "      <td>adhP</td>\n",
       "      <td>adhP</td>\n",
       "      <td>1012</td>\n",
       "      <td>0.001540</td>\n",
       "      <td>2.830379e-03</td>\n",
       "    </tr>\n",
       "    <tr>\n",
       "      <th>33</th>\n",
       "      <td>b1002</td>\n",
       "      <td>agp</td>\n",
       "      <td>agp</td>\n",
       "      <td>1243</td>\n",
       "      <td>0.037989</td>\n",
       "      <td>1.035732e-01</td>\n",
       "    </tr>\n",
       "    <tr>\n",
       "      <th>44</th>\n",
       "      <td>b0516</td>\n",
       "      <td>allC</td>\n",
       "      <td>allC</td>\n",
       "      <td>1237</td>\n",
       "      <td>0.000009</td>\n",
       "      <td>1.736672e-07</td>\n",
       "    </tr>\n",
       "    <tr>\n",
       "      <th>45</th>\n",
       "      <td>b0506</td>\n",
       "      <td>allR</td>\n",
       "      <td>allR</td>\n",
       "      <td>817</td>\n",
       "      <td>0.009976</td>\n",
       "      <td>8.665591e-03</td>\n",
       "    </tr>\n",
       "  </tbody>\n",
       "</table style=\"display:inline\"></td></th><th style=\"text-align:center\"><td style=\"vertical-align:top\"><h2>W3110 (DGF298)</h2><table style=\"display:inline\" border=\"1\" class=\"dataframe\">\n",
       "  <thead>\n",
       "    <tr style=\"text-align: right;\">\n",
       "      <th></th>\n",
       "      <th>Bnumber</th>\n",
       "      <th>Gene</th>\n",
       "      <th>Gen NCBI</th>\n",
       "      <th>Length</th>\n",
       "      <th>Glucosa</th>\n",
       "      <th>LB</th>\n",
       "    </tr>\n",
       "  </thead>\n",
       "  <tbody>\n",
       "    <tr>\n",
       "      <th>20</th>\n",
       "      <td>b4069</td>\n",
       "      <td>acs</td>\n",
       "      <td>acs</td>\n",
       "      <td>1960</td>\n",
       "      <td>0.118984</td>\n",
       "      <td>0.280561</td>\n",
       "    </tr>\n",
       "    <tr>\n",
       "      <th>21</th>\n",
       "      <td>b4067</td>\n",
       "      <td>actP</td>\n",
       "      <td>actP</td>\n",
       "      <td>1651</td>\n",
       "      <td>0.003972</td>\n",
       "      <td>0.011103</td>\n",
       "    </tr>\n",
       "    <tr>\n",
       "      <th>25</th>\n",
       "      <td>b3665</td>\n",
       "      <td>ade</td>\n",
       "      <td>ade</td>\n",
       "      <td>1768</td>\n",
       "      <td>0.000522</td>\n",
       "      <td>0.005758</td>\n",
       "    </tr>\n",
       "    <tr>\n",
       "      <th>26</th>\n",
       "      <td>b3714</td>\n",
       "      <td>adeP</td>\n",
       "      <td>yieG</td>\n",
       "      <td>1339</td>\n",
       "      <td>0.007098</td>\n",
       "      <td>0.003361</td>\n",
       "    </tr>\n",
       "    <tr>\n",
       "      <th>27</th>\n",
       "      <td>b1241</td>\n",
       "      <td>adhE</td>\n",
       "      <td>adhE</td>\n",
       "      <td>2677</td>\n",
       "      <td>0.773712</td>\n",
       "      <td>0.872685</td>\n",
       "    </tr>\n",
       "  </tbody>\n",
       "</table style=\"display:inline\"></td></th>"
      ]
     },
     "metadata": {},
     "output_type": "display_data"
    }
   ],
   "source": [
    "display_side_by_side(matched_genes_cepas_MG1655['MS56'].head().iloc[:,0:6], matched_genes_cepas_W3110['DGF298'].head().iloc[:,0:6], titles=['MG1655 (MS56)','W3110 (DGF298)']) "
   ]
  },
  {
   "cell_type": "markdown",
   "id": "79723397",
   "metadata": {},
   "source": [
    "<p id=\"Prot_load\"></p>\n",
    "\n",
    "# Proteomic load "
   ]
  },
  {
   "cell_type": "markdown",
   "id": "d6eaf2fa",
   "metadata": {},
   "source": [
    "Now that we have the data mapped, we calculate how much of the proteome would be released by eliminating the genes reported by each strain"
   ]
  },
  {
   "cell_type": "code",
   "execution_count": 18,
   "id": "185ddd57",
   "metadata": {},
   "outputs": [],
   "source": [
    "prot_load_MG1655, prot_perc_MG1655 = calculate_proteomic_load(names_MG1655, matched_genes_cepas_MG1655, proteome_size  )\n",
    "prot_load_W3110, prot_perc_W3110 = calculate_proteomic_load(names_W3110, matched_genes_cepas_W3110, proteome_size  )"
   ]
  },
  {
   "cell_type": "code",
   "execution_count": 19,
   "id": "c1d305f9",
   "metadata": {},
   "outputs": [],
   "source": [
    "# We join the information for both strains and format it for visualization\n",
    "prot_load = prot_load_MG1655+prot_load_W3110\n",
    "prot_perc = prot_perc_MG1655+prot_perc_W3110\n",
    "\n",
    "prot_load = (pd.concat(prot_load,axis=1))\n",
    "prot_perc = (pd.concat(prot_perc,axis=0).T)"
   ]
  },
  {
   "cell_type": "markdown",
   "id": "c71a5770",
   "metadata": {},
   "source": [
    "<div class=\"alert alert-block alert-info\">\n",
    "<b>Proteome load:</b> Now we know the estimated proteomic load released (in fg and percentage) by eliminating the genes reported by each strain </div>\n",
    "​"
   ]
  },
  {
   "cell_type": "code",
   "execution_count": 20,
   "id": "83bb0318",
   "metadata": {},
   "outputs": [
    {
     "data": {
      "text/html": [
       "<th style=\"text-align:center\"><td style=\"vertical-align:top\"><h2>Proteome Load</h2><table style=\"display:inline\" border=\"1\" class=\"dataframe\">\n",
       "  <thead>\n",
       "    <tr style=\"text-align: right;\">\n",
       "      <th></th>\n",
       "      <th>Δ16</th>\n",
       "      <th>MDS69</th>\n",
       "      <th>MDS12</th>\n",
       "      <th>DGF327</th>\n",
       "      <th>MGF01</th>\n",
       "    </tr>\n",
       "  </thead>\n",
       "  <tbody>\n",
       "    <tr>\n",
       "      <th>Glucosa</th>\n",
       "      <td>20.429299</td>\n",
       "      <td>5.976414</td>\n",
       "      <td>1.760846</td>\n",
       "      <td>13.387407</td>\n",
       "      <td>9.758176</td>\n",
       "    </tr>\n",
       "    <tr>\n",
       "      <th>LB</th>\n",
       "      <td>29.830063</td>\n",
       "      <td>11.564342</td>\n",
       "      <td>1.707077</td>\n",
       "      <td>21.614665</td>\n",
       "      <td>13.103638</td>\n",
       "    </tr>\n",
       "    <tr>\n",
       "      <th>Glicerol + AA</th>\n",
       "      <td>28.959023</td>\n",
       "      <td>13.794031</td>\n",
       "      <td>2.207994</td>\n",
       "      <td>28.235209</td>\n",
       "      <td>13.582319</td>\n",
       "    </tr>\n",
       "    <tr>\n",
       "      <th>Acetato</th>\n",
       "      <td>25.791522</td>\n",
       "      <td>9.116245</td>\n",
       "      <td>1.721988</td>\n",
       "      <td>16.776233</td>\n",
       "      <td>13.2063</td>\n",
       "    </tr>\n",
       "    <tr>\n",
       "      <th>Fumarato</th>\n",
       "      <td>24.530995</td>\n",
       "      <td>8.501137</td>\n",
       "      <td>1.724558</td>\n",
       "      <td>19.209616</td>\n",
       "      <td>14.41106</td>\n",
       "    </tr>\n",
       "  </tbody>\n",
       "</table style=\"display:inline\"></td></th><th style=\"text-align:center\"><td style=\"vertical-align:top\"><h2>Proteome Percentage</h2><table style=\"display:inline\" border=\"1\" class=\"dataframe\">\n",
       "  <thead>\n",
       "    <tr style=\"text-align: right;\">\n",
       "      <th></th>\n",
       "      <th>Δ16</th>\n",
       "      <th>MDS69</th>\n",
       "      <th>MDS12</th>\n",
       "      <th>DGF327</th>\n",
       "      <th>MGF01</th>\n",
       "    </tr>\n",
       "  </thead>\n",
       "  <tbody>\n",
       "    <tr>\n",
       "      <th>Glucosa</th>\n",
       "      <td>8.40036</td>\n",
       "      <td>2.457452</td>\n",
       "      <td>0.724045</td>\n",
       "      <td>5.504791</td>\n",
       "      <td>4.012482</td>\n",
       "    </tr>\n",
       "    <tr>\n",
       "      <th>LB</th>\n",
       "      <td>8.128786</td>\n",
       "      <td>3.15132</td>\n",
       "      <td>0.465184</td>\n",
       "      <td>5.890064</td>\n",
       "      <td>3.570783</td>\n",
       "    </tr>\n",
       "    <tr>\n",
       "      <th>Glicerol + AA</th>\n",
       "      <td>8.868089</td>\n",
       "      <td>4.22413</td>\n",
       "      <td>0.676152</td>\n",
       "      <td>8.646436</td>\n",
       "      <td>4.159298</td>\n",
       "    </tr>\n",
       "    <tr>\n",
       "      <th>Acetato</th>\n",
       "      <td>13.134589</td>\n",
       "      <td>4.642538</td>\n",
       "      <td>0.87694</td>\n",
       "      <td>8.543463</td>\n",
       "      <td>6.725439</td>\n",
       "    </tr>\n",
       "    <tr>\n",
       "      <th>Fumarato</th>\n",
       "      <td>11.289511</td>\n",
       "      <td>3.912343</td>\n",
       "      <td>0.793666</td>\n",
       "      <td>8.840536</td>\n",
       "      <td>6.632173</td>\n",
       "    </tr>\n",
       "  </tbody>\n",
       "</table style=\"display:inline\"></td></th>"
      ]
     },
     "metadata": {},
     "output_type": "display_data"
    }
   ],
   "source": [
    "    display_side_by_side(prot_load.iloc[0:5,0::2], prot_perc.iloc[0:5,0::2], titles=['Proteome Load','Proteome Percentage']) "
   ]
  },
  {
   "cell_type": "markdown",
   "id": "8511f901",
   "metadata": {},
   "source": [
    "We plot only some of the conditions to make easier the visualization"
   ]
  },
  {
   "cell_type": "code",
   "execution_count": 21,
   "id": "b6155bc3",
   "metadata": {},
   "outputs": [],
   "source": [
    "# To plot all the conditions \n",
    "#new_order = [\"LB\",\"Glicerol + AA\",\"42°C glucosa\",\"Fructosa\",\"pH6 glucosa\",\n",
    "#             \"Glucosa\",\"Estrés-osmótico glucosa\",\"Xilosa\",\"Quimiostato µ=0.5\",\n",
    "#             \"Manosa\",\"Glicerol\",\"Glucosamina\",\"Succinato\",\"Fumarato\",\"Piruvato\",\n",
    "#             \"Quimiostato µ=0.35\",\"Acetato\",\"Galactosa\",\"Quimiostato µ=0.20\",\n",
    "#             \"Quimiostato µ=0.12\",\"Fase estacionaria 1 día\",\"Fase estacionaria 3 días\"]\n",
    "#plot_perc_load(prot_load, prot_perc, conditions = new_order, save=True, identifier='K12' )"
   ]
  },
  {
   "cell_type": "code",
   "execution_count": 22,
   "id": "de413ad9",
   "metadata": {},
   "outputs": [],
   "source": [
    "representative_conditions = [\"LB\",\"Fructosa\", \"Glucosa\",\"Estrés-osmótico glucosa\",\n",
    "                             \"Quimiostato µ=0.5\", \"Glicerol\",\"Fumarato\",\"Piruvato\",\n",
    "                             \"Acetato\",\"Galactosa\", \"Quimiostato µ=0.12\",\"Fase estacionaria 1 día\"]\n",
    "representative_strains = ['Δ16', 'MS56', 'MDS69', 'DGF298', 'MGF02']"
   ]
  },
  {
   "cell_type": "markdown",
   "id": "2eeae968",
   "metadata": {},
   "source": [
    "<p id=\"Plot_load\"></p>\n",
    "\n",
    "<div class=\"alert alert-block alert-success\">\n",
    "<b>Plot proteomic load</b> \n",
    "</div>\n",
    "\n"
   ]
  },
  {
   "cell_type": "code",
   "execution_count": 23,
   "id": "68edfdb1",
   "metadata": {},
   "outputs": [
    {
     "data": {
      "image/png": "[encoded data removed]",
      "text/plain": [
       "<Figure size 432x288 with 1 Axes>"
      ]
     },
     "metadata": {},
     "output_type": "display_data"
    },
    {
     "data": {
      "image/png": "[encoded data removed]",
      "text/plain": [
       "<Figure size 432x288 with 1 Axes>"
      ]
     },
     "metadata": {},
     "output_type": "display_data"
    }
   ],
   "source": [
    "plot_perc_load(prot_load, prot_perc, conditions = representative_conditions,\n",
    "               strains = representative_strains, identifier='K12', colors_per_strain = colors )"
   ]
  },
  {
   "cell_type": "markdown",
   "id": "95e93c25",
   "metadata": {},
   "source": [
    "<p id=\"Prot_dist\"></p>\n",
    "\n",
    "# Proteome distribution"
   ]
  },
  {
   "cell_type": "markdown",
   "id": "5c73ba7c",
   "metadata": {},
   "source": [
    "Now lets see how the proteome is distributed"
   ]
  },
  {
   "cell_type": "code",
   "execution_count": 24,
   "id": "8f52c897",
   "metadata": {},
   "outputs": [],
   "source": [
    "# We take the average of proteomic load of each gene per condition\n",
    "\n",
    "distribucion_prot = pd.DataFrame({'Gen':proteomic_data.Bnumber,'Promedio':proteomic_data.iloc[:,2:24].T.mean(),'STD':proteomic_data.iloc[:,2:24].T.std()})"
   ]
  },
  {
   "cell_type": "code",
   "execution_count": 25,
   "id": "106e2c3c",
   "metadata": {},
   "outputs": [],
   "source": [
    "distribucion_prot = distribucion_prot.sort_values(by='Promedio',ascending=False).reset_index().drop(columns=['index'])"
   ]
  },
  {
   "cell_type": "markdown",
   "id": "059c63b9",
   "metadata": {},
   "source": [
    "<div class=\"alert alert-block alert-info\">\n",
    "<b>Average proteome distribution</b> </div>\n",
    "​"
   ]
  },
  {
   "cell_type": "code",
   "execution_count": 26,
   "id": "6173ac74",
   "metadata": {},
   "outputs": [
    {
     "data": {
      "text/html": [
       "<div>\n",
       "<style scoped>\n",
       "    .dataframe tbody tr th:only-of-type {\n",
       "        vertical-align: middle;\n",
       "    }\n",
       "\n",
       "    .dataframe tbody tr th {\n",
       "        vertical-align: top;\n",
       "    }\n",
       "\n",
       "    .dataframe thead th {\n",
       "        text-align: right;\n",
       "    }\n",
       "</style>\n",
       "<table border=\"1\" class=\"dataframe\">\n",
       "  <thead>\n",
       "    <tr style=\"text-align: right;\">\n",
       "      <th></th>\n",
       "      <th>Gen</th>\n",
       "      <th>Promedio</th>\n",
       "      <th>STD</th>\n",
       "    </tr>\n",
       "  </thead>\n",
       "  <tbody>\n",
       "    <tr>\n",
       "      <th>0</th>\n",
       "      <td>b3339</td>\n",
       "      <td>14.050141</td>\n",
       "      <td>6.025027</td>\n",
       "    </tr>\n",
       "    <tr>\n",
       "      <th>1</th>\n",
       "      <td>b4015</td>\n",
       "      <td>7.379211</td>\n",
       "      <td>5.911134</td>\n",
       "    </tr>\n",
       "    <tr>\n",
       "      <th>2</th>\n",
       "      <td>b0957</td>\n",
       "      <td>6.355356</td>\n",
       "      <td>1.664707</td>\n",
       "    </tr>\n",
       "    <tr>\n",
       "      <th>3</th>\n",
       "      <td>b3340</td>\n",
       "      <td>3.947647</td>\n",
       "      <td>2.130137</td>\n",
       "    </tr>\n",
       "    <tr>\n",
       "      <th>4</th>\n",
       "      <td>b2414</td>\n",
       "      <td>3.670652</td>\n",
       "      <td>1.389756</td>\n",
       "    </tr>\n",
       "  </tbody>\n",
       "</table>\n",
       "</div>"
      ],
      "text/plain": [
       "     Gen   Promedio       STD\n",
       "0  b3339  14.050141  6.025027\n",
       "1  b4015   7.379211  5.911134\n",
       "2  b0957   6.355356  1.664707\n",
       "3  b3340   3.947647  2.130137\n",
       "4  b2414   3.670652  1.389756"
      ]
     },
     "execution_count": 26,
     "metadata": {},
     "output_type": "execute_result"
    }
   ],
   "source": [
    "distribucion_prot.head()"
   ]
  },
  {
   "cell_type": "markdown",
   "id": "bffcdae5",
   "metadata": {},
   "source": [
    "<p id=\"Plot_average\"></p>\n",
    "\n",
    "<div class=\"alert alert-block alert-success\">\n",
    "<b>Plot average proteome distribution</b> \n",
    "</div>\n",
    "\n"
   ]
  },
  {
   "cell_type": "code",
   "execution_count": 27,
   "id": "d545d3d4",
   "metadata": {},
   "outputs": [
    {
     "data": {
      "image/png": "[encoded data removed]",
      "text/plain": [
       "<Figure size 600x400 with 1 Axes>"
      ]
     },
     "metadata": {},
     "output_type": "display_data"
    }
   ],
   "source": [
    "plot_distribution(distribucion_prot, 'Promedio', eng=True, colors_distribution = colors2 ) "
   ]
  },
  {
   "cell_type": "markdown",
   "id": "9ac26547",
   "metadata": {},
   "source": [
    "We can also see the distribution for each condition "
   ]
  },
  {
   "cell_type": "code",
   "execution_count": 28,
   "id": "22e6f1f6",
   "metadata": {},
   "outputs": [],
   "source": [
    "distribucion_prot_glc = pd.DataFrame({'Gen':proteomic_data.Bnumber,'Glucosa':proteomic_data['Glucosa']})"
   ]
  },
  {
   "cell_type": "code",
   "execution_count": 29,
   "id": "19133a5f",
   "metadata": {},
   "outputs": [],
   "source": [
    "distribucion_prot_glc = distribucion_prot_glc.loc[distribucion_prot_glc['Glucosa']>0] "
   ]
  },
  {
   "cell_type": "markdown",
   "id": "32e74337",
   "metadata": {},
   "source": [
    "<p id=\"Plot_glc\"></p>\n",
    "\n",
    "<div class=\"alert alert-block alert-success\">\n",
    "<b>Plot proteome distribution in glucose condition</b> \n",
    "</div>\n"
   ]
  },
  {
   "cell_type": "code",
   "execution_count": 30,
   "id": "ed5a267f",
   "metadata": {},
   "outputs": [
    {
     "data": {
      "image/png": "[encoded data removed]",
      "text/plain": [
       "<Figure size 600x400 with 1 Axes>"
      ]
     },
     "metadata": {},
     "output_type": "display_data"
    }
   ],
   "source": [
    "plot_distribution(distribucion_prot_glc , 'Glucosa', eng=True, colors_distribution = colors2) "
   ]
  },
  {
   "cell_type": "markdown",
   "id": "484cd8cd",
   "metadata": {},
   "source": [
    "<p id=\"Prot_dist_s\"></p>\n",
    "\n",
    "# Proteome distribution (Deleted Genes from Strains)"
   ]
  },
  {
   "cell_type": "markdown",
   "id": "886d1e27",
   "metadata": {},
   "source": [
    "Now we analyze the distribution of the estimated proteomic load released from the eliminated the genes reported by each strain"
   ]
  },
  {
   "cell_type": "code",
   "execution_count": 31,
   "id": "7d29c084",
   "metadata": {},
   "outputs": [],
   "source": [
    "# Filtering data\n",
    "\n",
    "genes_total = {}\n",
    "for strain, info in matched_genes_cepas_W3110.items():\n",
    "    genes_total[strain] = info.Bnumber\n",
    "for strain, info in matched_genes_cepas_MG1655.items():\n",
    "    genes_total[strain] = info.Bnumber\n"
   ]
  },
  {
   "cell_type": "markdown",
   "id": "4d8cc8c0",
   "metadata": {},
   "source": [
    "<div class=\"alert alert-block alert-success\">\n",
    "<b>Plot proteome distribution of deleted genes in glucose condition </b> \n",
    "</div>\n",
    "\n"
   ]
  },
  {
   "cell_type": "code",
   "execution_count": 32,
   "id": "d6c0a748",
   "metadata": {
    "scrolled": true
   },
   "outputs": [
    {
     "data": {
      "image/png": "[encoded data removed]",
      "text/plain": [
       "<Figure size 800x300 with 2 Axes>"
      ]
     },
     "metadata": {},
     "output_type": "display_data"
    }
   ],
   "source": [
    "plot_strain_distribution(genes_total, distribucion_prot_glc, representative_strains, 'K12',\n",
    "                         'Glucosa', save=True, identifier='Multi_panel_dist_cepas_2', colors_per_strain = colors )"
   ]
  }
 ],
 "metadata": {
  "kernelspec": {
   "display_name": "Python 3 (ipykernel)",
   "language": "python",
   "name": "python3"
  },
  "language_info": {
   "codemirror_mode": {
    "name": "ipython",
    "version": 3
   },
   "file_extension": ".py",
   "mimetype": "text/x-python",
   "name": "python",
   "nbconvert_exporter": "python",
   "pygments_lexer": "ipython3",
   "version": "3.9.7"
  }
 },
 "nbformat": 4,
 "nbformat_minor": 5
}
