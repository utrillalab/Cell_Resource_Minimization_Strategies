{
 "cells": [
  {
   "cell_type": "code",
   "execution_count": 1,
   "id": "f615d013",
   "metadata": {},
   "outputs": [],
   "source": [
    "import pandas as pd\n",
    "from get_gene_info import get_genome_info, get_genes_from_ranges"
   ]
  },
  {
   "cell_type": "markdown",
   "id": "2cc2005c",
   "metadata": {},
   "source": [
    "Getting the genes that should be affected by the deleted ranges (Only for Delta 16 from MG1655 and all the W3110 strains as the others already report which genes are deleted)\n"
   ]
  },
  {
   "cell_type": "code",
   "execution_count": 2,
   "id": "76be8ada",
   "metadata": {},
   "outputs": [
    {
     "name": "stdout",
     "output_type": "stream",
     "text": [
      "1170\n"
     ]
    }
   ],
   "source": [
    "# MG1655\n",
    "\n",
    "delta16 = pd.read_csv('../files/deleted_ranges/delta_16.csv',encoding='latin1')\n",
    "\n",
    "genomeMG1655_path = '../files/genomes/MG1655.gb'\n",
    "genomeMG1655 = get_genome_info(genomeMG1655_path)\n",
    "\n",
    "delta_16_genes = get_genes_from_ranges(delta16, genomeMG1655)\n",
    "\n",
    "delta_16_genes.to_csv('../files/deleted_genes/mapped_del_genes_Δ16.csv',header=False)"
   ]
  },
  {
   "cell_type": "code",
   "execution_count": 3,
   "id": "e09091b4",
   "metadata": {},
   "outputs": [
    {
     "name": "stdout",
     "output_type": "stream",
     "text": [
      "1035\n",
      "1176\n",
      "1727\n",
      "1392\n"
     ]
    }
   ],
   "source": [
    "# W3110 \n",
    "rangos = pd.read_csv('../files/deleted_ranges/MGF_line.csv',encoding='latin1')\n",
    "genomeW3110_path = '../files/genomes/W3110.gb'\n",
    "genomeW3110 = get_genome_info(genomeW3110_path)\n",
    "\n",
    "MGF01 = rangos.loc[:,['MGF01_L','MGF01_R']].dropna()\n",
    "MGF02 = rangos.loc[:,['MGF02_L','MGF02_R']].dropna()\n",
    "DGF298 = rangos.loc[:,['DGF298_L','DGF298_R']].dropna()\n",
    "DGF327 = rangos.loc[:,['DGF327_L','DGF327_R']].dropna()\n",
    "\n",
    "strains = [MGF01,MGF02,DGF298,DGF327]\n",
    "\n",
    "genes_finales = {}\n",
    "for strain in strains:\n",
    "    nombre = strain.columns[0].split('_')[0]\n",
    "    genes_finales[nombre] = get_genes_from_ranges(strain, genomeW3110)\n",
    "\n",
    "\n",
    "for strain in genes_finales.keys():\n",
    "    genes_finales[strain].to_csv('../files/deleted_genes/mapped_del_genes_'+strain+'.csv',header=False)"
   ]
  },
  {
   "cell_type": "code",
   "execution_count": null,
   "id": "51fac041",
   "metadata": {},
   "outputs": [],
   "source": []
  }
 ],
 "metadata": {
  "kernelspec": {
   "display_name": "Python 3 (ipykernel)",
   "language": "python",
   "name": "python3"
  },
  "language_info": {
   "codemirror_mode": {
    "name": "ipython",
    "version": 3
   },
   "file_extension": ".py",
   "mimetype": "text/x-python",
   "name": "python",
   "nbconvert_exporter": "python",
   "pygments_lexer": "ipython3",
   "version": "3.9.7"
  }
 },
 "nbformat": 4,
 "nbformat_minor": 5
}
