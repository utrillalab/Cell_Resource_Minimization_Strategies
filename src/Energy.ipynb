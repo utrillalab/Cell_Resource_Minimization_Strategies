{
 "cells": [
  {
   "cell_type": "markdown",
   "id": "6eca1444",
   "metadata": {},
   "source": [
    "TODO pasar a funciones el cálculo de energía de gen "
   ]
  },
  {
   "cell_type": "code",
   "execution_count": null,
   "id": "00ba6730",
   "metadata": {},
   "outputs": [],
   "source": [
    "# Energy from the ME model"
   ]
  },
  {
   "cell_type": "code",
   "execution_count": 1,
   "id": "fd0b9c33",
   "metadata": {},
   "outputs": [],
   "source": [
    "import re\n",
    "import pickle\n",
    "import numpy as np\n",
    "import pandas as pd\n",
    "import matplotlib.pyplot as plt\n"
   ]
  },
  {
   "cell_type": "code",
   "execution_count": 2,
   "id": "8c7e7801",
   "metadata": {},
   "outputs": [],
   "source": [
    "# load de ME model\n",
    "with open('../files/models/iJL1678b_solver.pickle', 'rb') as f:\n",
    "    me = pickle.load(f)"
   ]
  },
  {
   "cell_type": "code",
   "execution_count": null,
   "id": "150d5238",
   "metadata": {},
   "outputs": [],
   "source": []
  },
  {
   "cell_type": "code",
   "execution_count": 3,
   "id": "f709e40c",
   "metadata": {},
   "outputs": [],
   "source": [
    "from energy_analisis import get_energy_consumption_production"
   ]
  },
  {
   "cell_type": "code",
   "execution_count": 4,
   "id": "04ac24e5",
   "metadata": {},
   "outputs": [],
   "source": [
    "# Get the consumption and production of energy per reaction\n",
    "reactions_energy_consumption,reactions_energy_production = get_energy_consumption_production(me)"
   ]
  },
  {
   "cell_type": "code",
   "execution_count": 5,
   "id": "59db213f",
   "metadata": {},
   "outputs": [
    {
     "data": {
      "text/html": [
       "<div>\n",
       "<style scoped>\n",
       "    .dataframe tbody tr th:only-of-type {\n",
       "        vertical-align: middle;\n",
       "    }\n",
       "\n",
       "    .dataframe tbody tr th {\n",
       "        vertical-align: top;\n",
       "    }\n",
       "\n",
       "    .dataframe thead th {\n",
       "        text-align: right;\n",
       "    }\n",
       "</style>\n",
       "<table border=\"1\" class=\"dataframe\">\n",
       "  <thead>\n",
       "    <tr style=\"text-align: right;\">\n",
       "      <th></th>\n",
       "      <th>Type</th>\n",
       "      <th>Total</th>\n",
       "      <th>Used</th>\n",
       "      <th>ATP</th>\n",
       "    </tr>\n",
       "    <tr>\n",
       "      <th>Reactions</th>\n",
       "      <th></th>\n",
       "      <th></th>\n",
       "      <th></th>\n",
       "      <th></th>\n",
       "    </tr>\n",
       "  </thead>\n",
       "  <tbody>\n",
       "    <tr>\n",
       "      <th>transcription_TU0_8529_from_RpoD_mono</th>\n",
       "      <td>TranscriptionReaction</td>\n",
       "      <td>-347.0</td>\n",
       "      <td>-3.988197e-09</td>\n",
       "      <td>-347.0</td>\n",
       "    </tr>\n",
       "    <tr>\n",
       "      <th>transcription_TU0_8464_from_RpoD_mono</th>\n",
       "      <td>TranscriptionReaction</td>\n",
       "      <td>-88.0</td>\n",
       "      <td>-2.039023e-04</td>\n",
       "      <td>-88.0</td>\n",
       "    </tr>\n",
       "    <tr>\n",
       "      <th>transcription_TU0_13006_from_RpoD_mono</th>\n",
       "      <td>TranscriptionReaction</td>\n",
       "      <td>-172.0</td>\n",
       "      <td>-5.661036e-12</td>\n",
       "      <td>-172.0</td>\n",
       "    </tr>\n",
       "    <tr>\n",
       "      <th>transcription_TU0_5003_from_RPOH_MONOMER</th>\n",
       "      <td>TranscriptionReaction</td>\n",
       "      <td>-434.0</td>\n",
       "      <td>-1.200694e-07</td>\n",
       "      <td>-434.0</td>\n",
       "    </tr>\n",
       "    <tr>\n",
       "      <th>transcription_TU0_3423_from_RPOE_MONOMER</th>\n",
       "      <td>TranscriptionReaction</td>\n",
       "      <td>-109.0</td>\n",
       "      <td>-3.812990e-06</td>\n",
       "      <td>-109.0</td>\n",
       "    </tr>\n",
       "  </tbody>\n",
       "</table>\n",
       "</div>"
      ],
      "text/plain": [
       "                                                           Type  Total  \\\n",
       "Reactions                                                                \n",
       "transcription_TU0_8529_from_RpoD_mono     TranscriptionReaction -347.0   \n",
       "transcription_TU0_8464_from_RpoD_mono     TranscriptionReaction  -88.0   \n",
       "transcription_TU0_13006_from_RpoD_mono    TranscriptionReaction -172.0   \n",
       "transcription_TU0_5003_from_RPOH_MONOMER  TranscriptionReaction -434.0   \n",
       "transcription_TU0_3423_from_RPOE_MONOMER  TranscriptionReaction -109.0   \n",
       "\n",
       "                                                  Used    ATP  \n",
       "Reactions                                                      \n",
       "transcription_TU0_8529_from_RpoD_mono    -3.988197e-09 -347.0  \n",
       "transcription_TU0_8464_from_RpoD_mono    -2.039023e-04  -88.0  \n",
       "transcription_TU0_13006_from_RpoD_mono   -5.661036e-12 -172.0  \n",
       "transcription_TU0_5003_from_RPOH_MONOMER -1.200694e-07 -434.0  \n",
       "transcription_TU0_3423_from_RPOE_MONOMER -3.812990e-06 -109.0  "
      ]
     },
     "execution_count": 5,
     "metadata": {},
     "output_type": "execute_result"
    }
   ],
   "source": [
    "energy_consumption = pd.DataFrame.from_dict(reactions_energy_consumption).set_index('Reactions')\n",
    "energy_consumption.head()"
   ]
  },
  {
   "cell_type": "code",
   "execution_count": 19,
   "id": "175c38c2",
   "metadata": {},
   "outputs": [],
   "source": [
    "energy_consumption.to_pickle('../files/energy/energy_per_reaction.pickle')"
   ]
  },
  {
   "cell_type": "code",
   "execution_count": 20,
   "id": "5b959951",
   "metadata": {},
   "outputs": [],
   "source": [
    "with open('../files/energy/energy_per_reaction.pickle', 'rb') as f:\n",
    "    energy_consumption = pickle.load(f)"
   ]
  },
  {
   "cell_type": "code",
   "execution_count": 21,
   "id": "7b7059b4",
   "metadata": {},
   "outputs": [
    {
     "data": {
      "text/html": [
       "<div>\n",
       "<style scoped>\n",
       "    .dataframe tbody tr th:only-of-type {\n",
       "        vertical-align: middle;\n",
       "    }\n",
       "\n",
       "    .dataframe tbody tr th {\n",
       "        vertical-align: top;\n",
       "    }\n",
       "\n",
       "    .dataframe thead th {\n",
       "        text-align: right;\n",
       "    }\n",
       "</style>\n",
       "<table border=\"1\" class=\"dataframe\">\n",
       "  <thead>\n",
       "    <tr style=\"text-align: right;\">\n",
       "      <th></th>\n",
       "      <th>Type</th>\n",
       "      <th>Total</th>\n",
       "      <th>Used</th>\n",
       "      <th>ATP</th>\n",
       "    </tr>\n",
       "    <tr>\n",
       "      <th>Reactions</th>\n",
       "      <th></th>\n",
       "      <th></th>\n",
       "      <th></th>\n",
       "      <th></th>\n",
       "    </tr>\n",
       "  </thead>\n",
       "  <tbody>\n",
       "    <tr>\n",
       "      <th>transcription_TU0_8529_from_RpoD_mono</th>\n",
       "      <td>TranscriptionReaction</td>\n",
       "      <td>-347.0</td>\n",
       "      <td>3.988197e-09</td>\n",
       "      <td>-347.0</td>\n",
       "    </tr>\n",
       "    <tr>\n",
       "      <th>transcription_TU0_8464_from_RpoD_mono</th>\n",
       "      <td>TranscriptionReaction</td>\n",
       "      <td>-88.0</td>\n",
       "      <td>2.039023e-04</td>\n",
       "      <td>-88.0</td>\n",
       "    </tr>\n",
       "    <tr>\n",
       "      <th>transcription_TU0_13006_from_RpoD_mono</th>\n",
       "      <td>TranscriptionReaction</td>\n",
       "      <td>-172.0</td>\n",
       "      <td>5.661036e-12</td>\n",
       "      <td>-172.0</td>\n",
       "    </tr>\n",
       "    <tr>\n",
       "      <th>transcription_TU0_5003_from_RPOH_MONOMER</th>\n",
       "      <td>TranscriptionReaction</td>\n",
       "      <td>-434.0</td>\n",
       "      <td>1.200694e-07</td>\n",
       "      <td>-434.0</td>\n",
       "    </tr>\n",
       "    <tr>\n",
       "      <th>transcription_TU0_3423_from_RPOE_MONOMER</th>\n",
       "      <td>TranscriptionReaction</td>\n",
       "      <td>-109.0</td>\n",
       "      <td>3.812990e-06</td>\n",
       "      <td>-109.0</td>\n",
       "    </tr>\n",
       "  </tbody>\n",
       "</table>\n",
       "</div>"
      ],
      "text/plain": [
       "                                                           Type  Total  \\\n",
       "Reactions                                                                \n",
       "transcription_TU0_8529_from_RpoD_mono     TranscriptionReaction -347.0   \n",
       "transcription_TU0_8464_from_RpoD_mono     TranscriptionReaction  -88.0   \n",
       "transcription_TU0_13006_from_RpoD_mono    TranscriptionReaction -172.0   \n",
       "transcription_TU0_5003_from_RPOH_MONOMER  TranscriptionReaction -434.0   \n",
       "transcription_TU0_3423_from_RPOE_MONOMER  TranscriptionReaction -109.0   \n",
       "\n",
       "                                                  Used    ATP  \n",
       "Reactions                                                      \n",
       "transcription_TU0_8529_from_RpoD_mono     3.988197e-09 -347.0  \n",
       "transcription_TU0_8464_from_RpoD_mono     2.039023e-04  -88.0  \n",
       "transcription_TU0_13006_from_RpoD_mono    5.661036e-12 -172.0  \n",
       "transcription_TU0_5003_from_RPOH_MONOMER  1.200694e-07 -434.0  \n",
       "transcription_TU0_3423_from_RPOE_MONOMER  3.812990e-06 -109.0  "
      ]
     },
     "execution_count": 21,
     "metadata": {},
     "output_type": "execute_result"
    }
   ],
   "source": [
    "data = energy_consumption\n",
    "data.loc[:,'Used'] = abs(data.Used)\n",
    "elegidos=data\n",
    "elegidos.head()"
   ]
  },
  {
   "cell_type": "code",
   "execution_count": 10,
   "id": "7f7f96eb",
   "metadata": {},
   "outputs": [],
   "source": [
    "elegidos = elegidos[elegidos.Type=='MetabolicReaction']\n",
    "genes_met={}\n",
    "faltante_metabolico=0\n",
    "elegidos_maximos={}\n",
    "genes_tot=[]\n",
    "reactant_tipos=[]\n",
    "Complejos = []\n",
    "complex_formation = []\n",
    "for reaction in elegidos.index:\n",
    "    elegidos_maximos[reaction]=[]\n",
    "    a =me.reactions.get_by_id(reaction)\n",
    "    for reactant in a.reactants:\n",
    "        reactant_tipos.append(type(reactant).__name__)\n",
    "        if((type(reactant).__name__)) =='Complex':\n",
    "            Complejos.append(reactant)\n",
    "            for reaccion_complejo in reactant.reactions:\n",
    "                if (type(reaccion_complejo).__name__) == 'ComplexFormation':\n",
    "                    complex_formation.append(reaccion_complejo)\n",
    "\n",
    "                    n_genes=0\n",
    "                    for reactant_complejo in reaccion_complejo.reactants:\n",
    "                        # Chech how many genes are involved\n",
    "                        if (type(reactant_complejo).__name__) == 'TranslatedGene':\n",
    "#                             print(reaction,reactant_complejo,'\\n')\n",
    "                            elegidos_maximos[reaction].append(reactant_complejo.id.split('_')[1])\n",
    "                            genes_tot.append(reactant_complejo.id.split('_')[1])\n",
    "                            n_genes+=1\n",
    "                    # Check each gene contribution \n",
    "                    if n_genes > 1:\n",
    "                        total = 0\n",
    "                        valores = {}\n",
    "                        for reactant_complejo in reaccion_complejo.reactants:\n",
    "                            if (type(reactant_complejo).__name__) == 'TranslatedGene':\n",
    "                                                    valores[reactant_complejo.id] = abs(reaccion_complejo.get_coefficient(reactant_complejo))\n",
    "                        total = np.sum(list(valores.values()))\n",
    "    \n",
    "                        for key,value in valores.items():\n",
    "                            bnumber_m= key.split('_')[1]\n",
    "                            genes_met[bnumber_m] = genes_met.get(bnumber_m, 0) + value/total*a.x\n",
    "                    elif n_genes == 1:\n",
    "                        genes_met[bnumber_m] = genes_met.get(bnumber_m, 0) + a.x\n",
    "                    else:\n",
    "                        faltante_metabolico+=(a.x)\n",
    "\n"
   ]
  },
  {
   "cell_type": "code",
   "execution_count": 55,
   "id": "9bbab0c3",
   "metadata": {},
   "outputs": [
    {
     "data": {
      "text/html": [
       "<div>\n",
       "<style scoped>\n",
       "    .dataframe tbody tr th:only-of-type {\n",
       "        vertical-align: middle;\n",
       "    }\n",
       "\n",
       "    .dataframe tbody tr th {\n",
       "        vertical-align: top;\n",
       "    }\n",
       "\n",
       "    .dataframe thead th {\n",
       "        text-align: right;\n",
       "    }\n",
       "</style>\n",
       "<table border=\"1\" class=\"dataframe\">\n",
       "  <thead>\n",
       "    <tr style=\"text-align: right;\">\n",
       "      <th></th>\n",
       "      <th>Metabolic</th>\n",
       "    </tr>\n",
       "  </thead>\n",
       "  <tbody>\n",
       "    <tr>\n",
       "      <th>b3255</th>\n",
       "      <td>0.016535</td>\n",
       "    </tr>\n",
       "    <tr>\n",
       "      <th>b2316</th>\n",
       "      <td>0.016859</td>\n",
       "    </tr>\n",
       "    <tr>\n",
       "      <th>b0185</th>\n",
       "      <td>0.016908</td>\n",
       "    </tr>\n",
       "    <tr>\n",
       "      <th>b3256</th>\n",
       "      <td>32.329844</td>\n",
       "    </tr>\n",
       "    <tr>\n",
       "      <th>b2751</th>\n",
       "      <td>0.093704</td>\n",
       "    </tr>\n",
       "  </tbody>\n",
       "</table>\n",
       "</div>"
      ],
      "text/plain": [
       "       Metabolic\n",
       "b3255   0.016535\n",
       "b2316   0.016859\n",
       "b0185   0.016908\n",
       "b3256  32.329844\n",
       "b2751   0.093704"
      ]
     },
     "execution_count": 55,
     "metadata": {},
     "output_type": "execute_result"
    }
   ],
   "source": [
    "pd.DataFrame(genes_met, index=['Metabolic']).T.head()\n"
   ]
  },
  {
   "cell_type": "code",
   "execution_count": 11,
   "id": "e678d577",
   "metadata": {},
   "outputs": [],
   "source": [
    "transcription = data.Used[data.Type==\"TranscriptionReaction\"]\n",
    "genes_transcription={}\n",
    "for ind in transcription.index:\n",
    "    \n",
    "    rxn = me.reactions.get_by_id(ind)\n",
    "    num_gen= 0\n",
    "    lista_genes = []\n",
    "    for gene in rxn.products:\n",
    "        \n",
    "        if type(gene).__name__ == 'TranscribedGene':\n",
    "            lista_genes.append(gene.id)\n",
    "    if len(lista_genes) > 1:\n",
    "                    total = 0\n",
    "                    valores = {}\n",
    "                    for gene in lista_genes:\n",
    "                           valores[gene] = abs(rxn.get_coefficient(gene))\n",
    "                            \n",
    "                    total = np.sum(list(valores.values()))\n",
    "    \n",
    "                    for key,value in valores.items():\n",
    "                        bnumber_m= key.split('_')[1]\n",
    "                        genes_transcription[bnumber_m] = genes_transcription.get(bnumber_m, 0) + value/total*rxn.x\n",
    "    elif len(lista_genes) == 1:\n",
    "                        bnumber_m= lista_genes[0].split('_')[1]\n",
    "                        genes_transcription[bnumber_m] = genes_transcription.get(bnumber_m, 0) + rxn.x\n",
    "    else:\n",
    "        print(rxn.x)"
   ]
  },
  {
   "cell_type": "code",
   "execution_count": 56,
   "id": "817ab09e",
   "metadata": {},
   "outputs": [
    {
     "data": {
      "text/html": [
       "<div>\n",
       "<style scoped>\n",
       "    .dataframe tbody tr th:only-of-type {\n",
       "        vertical-align: middle;\n",
       "    }\n",
       "\n",
       "    .dataframe tbody tr th {\n",
       "        vertical-align: top;\n",
       "    }\n",
       "\n",
       "    .dataframe thead th {\n",
       "        text-align: right;\n",
       "    }\n",
       "</style>\n",
       "<table border=\"1\" class=\"dataframe\">\n",
       "  <thead>\n",
       "    <tr style=\"text-align: right;\">\n",
       "      <th></th>\n",
       "      <th>Transcription</th>\n",
       "    </tr>\n",
       "  </thead>\n",
       "  <tbody>\n",
       "    <tr>\n",
       "      <th>b0423</th>\n",
       "      <td>1.149336e-11</td>\n",
       "    </tr>\n",
       "    <tr>\n",
       "      <th>b3986</th>\n",
       "      <td>2.445798e-06</td>\n",
       "    </tr>\n",
       "    <tr>\n",
       "      <th>b0630</th>\n",
       "      <td>3.291300e-14</td>\n",
       "    </tr>\n",
       "    <tr>\n",
       "      <th>b4143</th>\n",
       "      <td>1.383288e-10</td>\n",
       "    </tr>\n",
       "    <tr>\n",
       "      <th>b4142</th>\n",
       "      <td>1.383288e-10</td>\n",
       "    </tr>\n",
       "  </tbody>\n",
       "</table>\n",
       "</div>"
      ],
      "text/plain": [
       "       Transcription\n",
       "b0423   1.149336e-11\n",
       "b3986   2.445798e-06\n",
       "b0630   3.291300e-14\n",
       "b4143   1.383288e-10\n",
       "b4142   1.383288e-10"
      ]
     },
     "execution_count": 56,
     "metadata": {},
     "output_type": "execute_result"
    }
   ],
   "source": [
    "pd.DataFrame(genes_transcription, index=['Transcription']).T.head()\n",
    "\n"
   ]
  },
  {
   "cell_type": "code",
   "execution_count": null,
   "id": "672d6d96",
   "metadata": {},
   "outputs": [],
   "source": [
    "elegidos_trad = data.loc[data.Type=='TranslationReaction']\n",
    "elegidos_trad = elegidos_trad.Used"
   ]
  },
  {
   "cell_type": "code",
   "execution_count": 43,
   "id": "cc5d6a05",
   "metadata": {},
   "outputs": [
    {
     "data": {
      "text/plain": [
       "Reactions\n",
       "translation_b0003    0.010575\n",
       "translation_b0004    0.000034\n",
       "translation_b0014    0.000001\n",
       "translation_b0015    0.000001\n",
       "translation_b0023    0.007112\n",
       "Name: Used, dtype: float64"
      ]
     },
     "execution_count": 43,
     "metadata": {},
     "output_type": "execute_result"
    }
   ],
   "source": [
    "elegidos_trad.head()"
   ]
  },
  {
   "cell_type": "code",
   "execution_count": 35,
   "id": "cb348a2e",
   "metadata": {},
   "outputs": [],
   "source": [
    "totales = {}\n",
    "for trans_bnumber in elegidos_trad.index:\n",
    "    bnumber = trans_bnumber.split('_')[1]\n",
    "    totales[bnumber] = genes_met.get(bnumber, 0) + elegidos_trad.loc[trans_bnumber] + genes_transcription.get(bnumber, 0)"
   ]
  },
  {
   "cell_type": "code",
   "execution_count": 41,
   "id": "cb7446d4",
   "metadata": {},
   "outputs": [],
   "source": [
    "Energia_total_ME = pd.DataFrame(genes_met.items(), columns=['Bnumber', 'Value'])\n",
    "Energia_total_ME = Energia_total_ME.sort_values(by='Value',ascending=False).reset_index()\n",
    "Energia_total_ME = Energia_total_ME.loc[:,['Bnumber','Value']]"
   ]
  },
  {
   "cell_type": "code",
   "execution_count": 18,
   "id": "19826ad4",
   "metadata": {},
   "outputs": [],
   "source": [
    "Energia_total_ME.to_pickle('../files/energy/energy_per_gene.pickle')"
   ]
  },
  {
   "cell_type": "code",
   "execution_count": 28,
   "id": "7141f7b6",
   "metadata": {},
   "outputs": [
    {
     "data": {
      "text/html": [
       "<div>\n",
       "<style scoped>\n",
       "    .dataframe tbody tr th:only-of-type {\n",
       "        vertical-align: middle;\n",
       "    }\n",
       "\n",
       "    .dataframe tbody tr th {\n",
       "        vertical-align: top;\n",
       "    }\n",
       "\n",
       "    .dataframe thead th {\n",
       "        text-align: right;\n",
       "    }\n",
       "</style>\n",
       "<table border=\"1\" class=\"dataframe\">\n",
       "  <thead>\n",
       "    <tr style=\"text-align: right;\">\n",
       "      <th></th>\n",
       "      <th>Bnumber</th>\n",
       "      <th>Value</th>\n",
       "    </tr>\n",
       "  </thead>\n",
       "  <tbody>\n",
       "    <tr>\n",
       "      <th>0</th>\n",
       "      <td>b3256</td>\n",
       "      <td>32.329346</td>\n",
       "    </tr>\n",
       "    <tr>\n",
       "      <th>1</th>\n",
       "      <td>dummy</td>\n",
       "      <td>1.671430</td>\n",
       "    </tr>\n",
       "    <tr>\n",
       "      <th>2</th>\n",
       "      <td>b2752</td>\n",
       "      <td>0.977113</td>\n",
       "    </tr>\n",
       "    <tr>\n",
       "      <th>3</th>\n",
       "      <td>b1677</td>\n",
       "      <td>0.232180</td>\n",
       "    </tr>\n",
       "    <tr>\n",
       "      <th>4</th>\n",
       "      <td>b0727</td>\n",
       "      <td>0.194296</td>\n",
       "    </tr>\n",
       "  </tbody>\n",
       "</table>\n",
       "</div>"
      ],
      "text/plain": [
       "  Bnumber      Value\n",
       "0   b3256  32.329346\n",
       "1   dummy   1.671430\n",
       "2   b2752   0.977113\n",
       "3   b1677   0.232180\n",
       "4   b0727   0.194296"
      ]
     },
     "execution_count": 28,
     "metadata": {},
     "output_type": "execute_result"
    }
   ],
   "source": [
    "Energia_total_ME.head()"
   ]
  }
 ],
 "metadata": {
  "kernelspec": {
   "display_name": "emarquez_ME",
   "language": "python",
   "name": "emarquez_me"
  },
  "language_info": {
   "codemirror_mode": {
    "name": "ipython",
    "version": 3
   },
   "file_extension": ".py",
   "mimetype": "text/x-python",
   "name": "python",
   "nbconvert_exporter": "python",
   "pygments_lexer": "ipython3",
   "version": "3.6.10"
  }
 },
 "nbformat": 4,
 "nbformat_minor": 5
}
