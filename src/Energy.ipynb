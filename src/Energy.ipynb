{
 "cells": [
  {
   "cell_type": "code",
   "execution_count": null,
   "id": "00ba6730",
   "metadata": {},
   "outputs": [],
   "source": [
    "# Energy from the ME model"
   ]
  },
  {
   "cell_type": "code",
   "execution_count": 1,
   "id": "fd0b9c33",
   "metadata": {},
   "outputs": [],
   "source": [
    "import re\n",
    "import pickle\n",
    "import numpy as np\n",
    "import pandas as pd\n",
    "import matplotlib.pyplot as plt\n",
    "import sys\n"
   ]
  },
  {
   "cell_type": "code",
   "execution_count": null,
   "id": "8c7e7801",
   "metadata": {},
   "outputs": [],
   "source": [
    "# load de ME model\n",
    "with open('../files/models/iJL1678b.pickle', 'rb') as f:\n",
    "    me = pickle.load(f)"
   ]
  },
  {
   "cell_type": "code",
   "execution_count": null,
   "id": "f709e40c",
   "metadata": {},
   "outputs": [],
   "source": [
    "from energy_analisis import get_energy_consumption_production"
   ]
  },
  {
   "cell_type": "code",
   "execution_count": null,
   "id": "04ac24e5",
   "metadata": {},
   "outputs": [],
   "source": [
    "# Get the consumption and production of energy per reaction\n",
    "reactions_energy_consumption,reactions_energy_production = get_energy_consumption_production(me)"
   ]
  },
  {
   "cell_type": "code",
   "execution_count": null,
   "id": "59db213f",
   "metadata": {},
   "outputs": [],
   "source": [
    "energy_consumption = pd.DataFrame.from_dict(reactions_energy_consumption).set_index('Reactions')\n",
    "energy_consumption.head()"
   ]
  },
  {
   "cell_type": "code",
   "execution_count": null,
   "id": "175c38c2",
   "metadata": {},
   "outputs": [],
   "source": [
    "energy_consumption.to_pickle('energy_consumption.pickle')"
   ]
  },
  {
   "cell_type": "code",
   "execution_count": 8,
   "id": "5b959951",
   "metadata": {},
   "outputs": [],
   "source": [
    "with open('../files/energy/energy_consumption.pickle', 'rb') as f:\n",
    "    energy_consumption = pickle.load(f)"
   ]
  },
  {
   "cell_type": "code",
   "execution_count": 9,
   "id": "7b7059b4",
   "metadata": {},
   "outputs": [
    {
     "data": {
      "text/html": [
       "<div>\n",
       "<style scoped>\n",
       "    .dataframe tbody tr th:only-of-type {\n",
       "        vertical-align: middle;\n",
       "    }\n",
       "\n",
       "    .dataframe tbody tr th {\n",
       "        vertical-align: top;\n",
       "    }\n",
       "\n",
       "    .dataframe thead th {\n",
       "        text-align: right;\n",
       "    }\n",
       "</style>\n",
       "<table border=\"1\" class=\"dataframe\">\n",
       "  <thead>\n",
       "    <tr style=\"text-align: right;\">\n",
       "      <th></th>\n",
       "      <th>Type</th>\n",
       "      <th>Total</th>\n",
       "      <th>Used</th>\n",
       "      <th>ATP</th>\n",
       "      <th>GTP</th>\n",
       "    </tr>\n",
       "    <tr>\n",
       "      <th>Reactions</th>\n",
       "      <th></th>\n",
       "      <th></th>\n",
       "      <th></th>\n",
       "      <th></th>\n",
       "      <th></th>\n",
       "    </tr>\n",
       "  </thead>\n",
       "  <tbody>\n",
       "    <tr>\n",
       "      <th>transcription_TU0_8529_from_RpoD_mono</th>\n",
       "      <td>TranscriptionReaction</td>\n",
       "      <td>-347.0</td>\n",
       "      <td>3.937972e-09</td>\n",
       "      <td>-347.0</td>\n",
       "      <td>0</td>\n",
       "    </tr>\n",
       "    <tr>\n",
       "      <th>transcription_TU0_8464_from_RpoD_mono</th>\n",
       "      <td>TranscriptionReaction</td>\n",
       "      <td>-88.0</td>\n",
       "      <td>2.024358e-04</td>\n",
       "      <td>-88.0</td>\n",
       "      <td>0</td>\n",
       "    </tr>\n",
       "    <tr>\n",
       "      <th>transcription_TU0_13006_from_RpoD_mono</th>\n",
       "      <td>TranscriptionReaction</td>\n",
       "      <td>-172.0</td>\n",
       "      <td>5.577844e-12</td>\n",
       "      <td>-172.0</td>\n",
       "      <td>0</td>\n",
       "    </tr>\n",
       "    <tr>\n",
       "      <th>transcription_TU0_5003_from_RPOH_MONOMER</th>\n",
       "      <td>TranscriptionReaction</td>\n",
       "      <td>-434.0</td>\n",
       "      <td>1.183178e-07</td>\n",
       "      <td>-434.0</td>\n",
       "      <td>0</td>\n",
       "    </tr>\n",
       "    <tr>\n",
       "      <th>transcription_TU0_3423_from_RPOE_MONOMER</th>\n",
       "      <td>TranscriptionReaction</td>\n",
       "      <td>-109.0</td>\n",
       "      <td>3.756146e-06</td>\n",
       "      <td>-109.0</td>\n",
       "      <td>0</td>\n",
       "    </tr>\n",
       "  </tbody>\n",
       "</table>\n",
       "</div>"
      ],
      "text/plain": [
       "                                                           Type  Total  \\\n",
       "Reactions                                                                \n",
       "transcription_TU0_8529_from_RpoD_mono     TranscriptionReaction -347.0   \n",
       "transcription_TU0_8464_from_RpoD_mono     TranscriptionReaction  -88.0   \n",
       "transcription_TU0_13006_from_RpoD_mono    TranscriptionReaction -172.0   \n",
       "transcription_TU0_5003_from_RPOH_MONOMER  TranscriptionReaction -434.0   \n",
       "transcription_TU0_3423_from_RPOE_MONOMER  TranscriptionReaction -109.0   \n",
       "\n",
       "                                                  Used    ATP  GTP  \n",
       "Reactions                                                           \n",
       "transcription_TU0_8529_from_RpoD_mono     3.937972e-09 -347.0    0  \n",
       "transcription_TU0_8464_from_RpoD_mono     2.024358e-04  -88.0    0  \n",
       "transcription_TU0_13006_from_RpoD_mono    5.577844e-12 -172.0    0  \n",
       "transcription_TU0_5003_from_RPOH_MONOMER  1.183178e-07 -434.0    0  \n",
       "transcription_TU0_3423_from_RPOE_MONOMER  3.756146e-06 -109.0    0  "
      ]
     },
     "execution_count": 9,
     "metadata": {},
     "output_type": "execute_result"
    }
   ],
   "source": [
    "data = energy_consumption\n",
    "data.loc[:,'Used'] = abs(data.Used)\n",
    "elegidos=data\n",
    "elegidos.head()"
   ]
  },
  {
   "cell_type": "code",
   "execution_count": null,
   "id": "7f7f96eb",
   "metadata": {},
   "outputs": [],
   "source": [
    "elegidos = elegidos[elegidos.Type=='MetabolicReaction']\n",
    "genes_met={}\n",
    "faltante_metabolico=0\n",
    "elegidos_maximos={}\n",
    "genes_tot=[]\n",
    "reactant_tipos=[]\n",
    "Complejos = []\n",
    "complex_formation = []\n",
    "for reaction in elegidos.index:\n",
    "    elegidos_maximos[reaction]=[]\n",
    "    a =me.reactions.get_by_id(reaction)\n",
    "    for reactant in a.reactants:\n",
    "        reactant_tipos.append(type(reactant).__name__)\n",
    "        if((type(reactant).__name__)) =='Complex':\n",
    "            Complejos.append(reactant)\n",
    "            for reaccion_complejo in reactant.reactions:\n",
    "                if (type(reaccion_complejo).__name__) == 'ComplexFormation':\n",
    "                    complex_formation.append(reaccion_complejo)\n",
    "#                     print(reaction,reactant, reaccion_complejo.reactants,'\\n')\n",
    "\n",
    "                    n_genes=0\n",
    "                    for reactant_complejo in reaccion_complejo.reactants:\n",
    "                         # Ver si solo hay un gen\n",
    "#                         print(reactant_complejo,'miau')\n",
    "#                         print(type(reactant_complejo).__name__,'miau2')\n",
    "                        if (type(reactant_complejo).__name__) == 'TranslatedGene':\n",
    "#                             print(reaction,reactant_complejo,'\\n')\n",
    "                            elegidos_maximos[reaction].append(reactant_complejo.id.split('_')[1])\n",
    "                            genes_tot.append(reactant_complejo.id.split('_')[1])\n",
    "                            n_genes+=1\n",
    "                    # Calculo real tomando en cuenta cuanto aporta cada gen\n",
    "#                     print(n_genes)\n",
    "                    if n_genes > 1:\n",
    "                        total = 0\n",
    "                        valores = {}\n",
    "                        for reactant_complejo in reaccion_complejo.reactants:\n",
    "                            if (type(reactant_complejo).__name__) == 'TranslatedGene':\n",
    "                                                    valores[reactant_complejo.id] = abs(reaccion_complejo.get_coefficient(reactant_complejo))\n",
    "                        total = np.sum(list(valores.values()))\n",
    "    \n",
    "                        for key,value in valores.items():\n",
    "                            bnumber_m= key.split('_')[1]\n",
    "                            genes_met[bnumber_m] = genes_met.get(bnumber_m, 0) + value/total*a.x\n",
    "                    elif n_genes == 1:\n",
    "                        genes_met[bnumber_m] = genes_met.get(bnumber_m, 0) + a.x\n",
    "                    else:\n",
    "                        faltante_metabolico+=(a.x)\n",
    "\n"
   ]
  },
  {
   "cell_type": "code",
   "execution_count": null,
   "id": "e678d577",
   "metadata": {},
   "outputs": [],
   "source": [
    "transcription = data.Used[data.Type==\"TranscriptionReaction\"]\n",
    "genes_transcription={}\n",
    "for ind in transcription.index:\n",
    "    \n",
    "    rxn = me.reactions.get_by_id(ind)\n",
    "    num_gen= 0\n",
    "    lista_genes = []\n",
    "    for gene in rxn.products:\n",
    "        \n",
    "        if type(gene).__name__ == 'TranscribedGene':\n",
    "            lista_genes.append(gene.id)\n",
    "    if len(lista_genes) > 1:\n",
    "                    total = 0\n",
    "                    valores = {}\n",
    "                    for gene in lista_genes:\n",
    "                           valores[gene] = abs(rxn.get_coefficient(gene))\n",
    "                            \n",
    "                    total = np.sum(list(valores.values()))\n",
    "    \n",
    "                    for key,value in valores.items():\n",
    "                        bnumber_m= key.split('_')[1]\n",
    "                        genes_transcription[bnumber_m] = genes_transcription.get(bnumber_m, 0) + value/total*rxn.x\n",
    "    elif len(lista_genes) == 1:\n",
    "                        bnumber_m= lista_genes[0].split('_')[1]\n",
    "                        genes_transcription[bnumber_m] = genes_transcription.get(bnumber_m, 0) + rxn.x\n",
    "    else:\n",
    "        print(rxn.x)"
   ]
  },
  {
   "cell_type": "code",
   "execution_count": null,
   "id": "cb348a2e",
   "metadata": {},
   "outputs": [],
   "source": [
    "elegidos_trad = data.loc[data.Type=='TranslationReaction']\n",
    "# transl_w3110 = ['translation_'+ gen for gen in genes_W3110]\n",
    "# energia_translation = elegidos_trad.loc[elegidos_trad.index.isin(transl_w3110)]\n",
    "elegidos_trad = elegidos_trad.Used\n",
    "\n",
    "\n",
    "for trans_bnumber in elegidos_trad.index:\n",
    "    bnumber=trans_bnumber.split('_')[1]\n",
    "    genes_met[bnumber] = genes_met.get(bnumber, 0) + elegidos_trad.loc[trans_bnumber]"
   ]
  },
  {
   "cell_type": "code",
   "execution_count": 10,
   "id": "cb7446d4",
   "metadata": {},
   "outputs": [
    {
     "ename": "NameError",
     "evalue": "name 'genes_met' is not defined",
     "output_type": "error",
     "traceback": [
      "\u001b[0;31m---------------------------------------------------------------------------\u001b[0m",
      "\u001b[0;31mNameError\u001b[0m                                 Traceback (most recent call last)",
      "\u001b[0;32m/var/folders/v6/y2v6wwn93yj5vvhl558fx2zc0000gn/T/ipykernel_4306/1241543787.py\u001b[0m in \u001b[0;36m<module>\u001b[0;34m\u001b[0m\n\u001b[0;32m----> 1\u001b[0;31m \u001b[0mEnergia_total_ME\u001b[0m \u001b[0;34m=\u001b[0m \u001b[0mpd\u001b[0m\u001b[0;34m.\u001b[0m\u001b[0mDataFrame\u001b[0m\u001b[0;34m(\u001b[0m\u001b[0mgenes_met\u001b[0m\u001b[0;34m.\u001b[0m\u001b[0mitems\u001b[0m\u001b[0;34m(\u001b[0m\u001b[0;34m)\u001b[0m\u001b[0;34m,\u001b[0m \u001b[0mcolumns\u001b[0m\u001b[0;34m=\u001b[0m\u001b[0;34m[\u001b[0m\u001b[0;34m'Bnumber'\u001b[0m\u001b[0;34m,\u001b[0m \u001b[0;34m'Value'\u001b[0m\u001b[0;34m]\u001b[0m\u001b[0;34m)\u001b[0m\u001b[0;34m\u001b[0m\u001b[0;34m\u001b[0m\u001b[0m\n\u001b[0m\u001b[1;32m      2\u001b[0m \u001b[0mEnergia_total_ME\u001b[0m \u001b[0;34m=\u001b[0m \u001b[0mEnergia_total_ME\u001b[0m\u001b[0;34m.\u001b[0m\u001b[0msort_values\u001b[0m\u001b[0;34m(\u001b[0m\u001b[0mby\u001b[0m\u001b[0;34m=\u001b[0m\u001b[0;34m'Value'\u001b[0m\u001b[0;34m,\u001b[0m\u001b[0mascending\u001b[0m\u001b[0;34m=\u001b[0m\u001b[0;32mFalse\u001b[0m\u001b[0;34m)\u001b[0m\u001b[0;34m.\u001b[0m\u001b[0mreset_index\u001b[0m\u001b[0;34m(\u001b[0m\u001b[0;34m)\u001b[0m\u001b[0;34m\u001b[0m\u001b[0;34m\u001b[0m\u001b[0m\n\u001b[1;32m      3\u001b[0m \u001b[0mEnergia_total_ME\u001b[0m \u001b[0;34m=\u001b[0m \u001b[0mEnergia_total_ME\u001b[0m\u001b[0;34m.\u001b[0m\u001b[0mloc\u001b[0m\u001b[0;34m[\u001b[0m\u001b[0;34m:\u001b[0m\u001b[0;34m,\u001b[0m\u001b[0;34m[\u001b[0m\u001b[0;34m'Bnumber'\u001b[0m\u001b[0;34m,\u001b[0m\u001b[0;34m'Value'\u001b[0m\u001b[0;34m]\u001b[0m\u001b[0;34m]\u001b[0m\u001b[0;34m\u001b[0m\u001b[0;34m\u001b[0m\u001b[0m\n",
      "\u001b[0;31mNameError\u001b[0m: name 'genes_met' is not defined"
     ]
    }
   ],
   "source": [
    "Energia_total_ME = pd.DataFrame(genes_met.items(), columns=['Bnumber', 'Value'])\n",
    "Energia_total_ME = Energia_total_ME.sort_values(by='Value',ascending=False).reset_index()\n",
    "Energia_total_ME = Energia_total_ME.loc[:,['Bnumber','Value']]"
   ]
  },
  {
   "cell_type": "code",
   "execution_count": null,
   "id": "2c48462b",
   "metadata": {},
   "outputs": [],
   "source": [
    "Energia_W3110 = Energia_total_ME\n",
    "Energia_W3110 = Energia_W3110.sort_values(by='Value',ascending=False).reset_index()\n",
    "Energia_W3110 = Energia_W3110.loc[:,['Bnumber','Value']]"
   ]
  },
  {
   "cell_type": "code",
   "execution_count": null,
   "id": "19826ad4",
   "metadata": {},
   "outputs": [],
   "source": [
    "Energia_W3110.to_pickle('Energia_por_gen.pickle')"
   ]
  }
 ],
 "metadata": {
  "kernelspec": {
   "display_name": "Python 3 (ipykernel)",
   "language": "python",
   "name": "python3"
  },
  "language_info": {
   "codemirror_mode": {
    "name": "ipython",
    "version": 3
   },
   "file_extension": ".py",
   "mimetype": "text/x-python",
   "name": "python",
   "nbconvert_exporter": "python",
   "pygments_lexer": "ipython3",
   "version": "3.9.7"
  }
 },
 "nbformat": 4,
 "nbformat_minor": 5
}
