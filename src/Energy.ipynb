{
 "cells": [
  {
   "cell_type": "markdown",
   "id": "6eca1444",
   "metadata": {},
   "source": [
    "TODO Poner la cobertura de genes (muy pocos representados en el ME model)\n"
   ]
  },
  {
   "cell_type": "code",
   "execution_count": null,
   "id": "756ca0a2",
   "metadata": {},
   "outputs": [],
   "source": []
  },
  {
   "cell_type": "code",
   "execution_count": 1,
   "id": "00ba6730",
   "metadata": {},
   "outputs": [],
   "source": [
    "# Energy from the ME model"
   ]
  },
  {
   "cell_type": "code",
   "execution_count": 2,
   "id": "fd0b9c33",
   "metadata": {},
   "outputs": [],
   "source": [
    "import re\n",
    "import pickle\n",
    "import numpy as np\n",
    "import pandas as pd\n",
    "import matplotlib.pyplot as plt\n",
    "\n",
    "from energy_analisis import get_energy_consumption_production, get_energy_per_gene\n",
    "from plot_energy import plot_ME_energy"
   ]
  },
  {
   "cell_type": "code",
   "execution_count": 3,
   "id": "8c7e7801",
   "metadata": {},
   "outputs": [],
   "source": [
    "# load solved ME model\n",
    "with open('../files/models/iJL1678b_solver.pickle', 'rb') as f:\n",
    "    me = pickle.load(f)"
   ]
  },
  {
   "cell_type": "markdown",
   "id": "fb6fbcf5",
   "metadata": {},
   "source": [
    "# ATP consumption per reaction "
   ]
  },
  {
   "cell_type": "code",
   "execution_count": 4,
   "id": "04ac24e5",
   "metadata": {},
   "outputs": [],
   "source": [
    "# Get the consumption and production of energy per reaction\n",
    "reactions_energy_consumption,reactions_energy_production = get_energy_consumption_production(me)"
   ]
  },
  {
   "cell_type": "code",
   "execution_count": 5,
   "id": "59db213f",
   "metadata": {},
   "outputs": [
    {
     "data": {
      "text/html": [
       "<div>\n",
       "<style scoped>\n",
       "    .dataframe tbody tr th:only-of-type {\n",
       "        vertical-align: middle;\n",
       "    }\n",
       "\n",
       "    .dataframe tbody tr th {\n",
       "        vertical-align: top;\n",
       "    }\n",
       "\n",
       "    .dataframe thead th {\n",
       "        text-align: right;\n",
       "    }\n",
       "</style>\n",
       "<table border=\"1\" class=\"dataframe\">\n",
       "  <thead>\n",
       "    <tr style=\"text-align: right;\">\n",
       "      <th></th>\n",
       "      <th>Type</th>\n",
       "      <th>Total</th>\n",
       "      <th>Used</th>\n",
       "      <th>ATP</th>\n",
       "    </tr>\n",
       "    <tr>\n",
       "      <th>Reactions</th>\n",
       "      <th></th>\n",
       "      <th></th>\n",
       "      <th></th>\n",
       "      <th></th>\n",
       "    </tr>\n",
       "  </thead>\n",
       "  <tbody>\n",
       "    <tr>\n",
       "      <th>transcription_TU0_8529_from_RpoD_mono</th>\n",
       "      <td>TranscriptionReaction</td>\n",
       "      <td>-347.0</td>\n",
       "      <td>-3.988197e-09</td>\n",
       "      <td>-347.0</td>\n",
       "    </tr>\n",
       "    <tr>\n",
       "      <th>transcription_TU0_8464_from_RpoD_mono</th>\n",
       "      <td>TranscriptionReaction</td>\n",
       "      <td>-88.0</td>\n",
       "      <td>-2.039023e-04</td>\n",
       "      <td>-88.0</td>\n",
       "    </tr>\n",
       "    <tr>\n",
       "      <th>transcription_TU0_13006_from_RpoD_mono</th>\n",
       "      <td>TranscriptionReaction</td>\n",
       "      <td>-172.0</td>\n",
       "      <td>-5.661036e-12</td>\n",
       "      <td>-172.0</td>\n",
       "    </tr>\n",
       "    <tr>\n",
       "      <th>transcription_TU0_5003_from_RPOH_MONOMER</th>\n",
       "      <td>TranscriptionReaction</td>\n",
       "      <td>-434.0</td>\n",
       "      <td>-1.200694e-07</td>\n",
       "      <td>-434.0</td>\n",
       "    </tr>\n",
       "    <tr>\n",
       "      <th>transcription_TU0_3423_from_RPOE_MONOMER</th>\n",
       "      <td>TranscriptionReaction</td>\n",
       "      <td>-109.0</td>\n",
       "      <td>-3.812990e-06</td>\n",
       "      <td>-109.0</td>\n",
       "    </tr>\n",
       "  </tbody>\n",
       "</table>\n",
       "</div>"
      ],
      "text/plain": [
       "                                                           Type  Total  \\\n",
       "Reactions                                                                \n",
       "transcription_TU0_8529_from_RpoD_mono     TranscriptionReaction -347.0   \n",
       "transcription_TU0_8464_from_RpoD_mono     TranscriptionReaction  -88.0   \n",
       "transcription_TU0_13006_from_RpoD_mono    TranscriptionReaction -172.0   \n",
       "transcription_TU0_5003_from_RPOH_MONOMER  TranscriptionReaction -434.0   \n",
       "transcription_TU0_3423_from_RPOE_MONOMER  TranscriptionReaction -109.0   \n",
       "\n",
       "                                                  Used    ATP  \n",
       "Reactions                                                      \n",
       "transcription_TU0_8529_from_RpoD_mono    -3.988197e-09 -347.0  \n",
       "transcription_TU0_8464_from_RpoD_mono    -2.039023e-04  -88.0  \n",
       "transcription_TU0_13006_from_RpoD_mono   -5.661036e-12 -172.0  \n",
       "transcription_TU0_5003_from_RPOH_MONOMER -1.200694e-07 -434.0  \n",
       "transcription_TU0_3423_from_RPOE_MONOMER -3.812990e-06 -109.0  "
      ]
     },
     "execution_count": 5,
     "metadata": {},
     "output_type": "execute_result"
    }
   ],
   "source": [
    "energy_consumption = pd.DataFrame.from_dict(reactions_energy_consumption).set_index('Reactions')\n",
    "energy_consumption.head()"
   ]
  },
  {
   "cell_type": "code",
   "execution_count": 6,
   "id": "d5784ffc",
   "metadata": {},
   "outputs": [
    {
     "data": {
      "text/html": [
       "<div>\n",
       "<style scoped>\n",
       "    .dataframe tbody tr th:only-of-type {\n",
       "        vertical-align: middle;\n",
       "    }\n",
       "\n",
       "    .dataframe tbody tr th {\n",
       "        vertical-align: top;\n",
       "    }\n",
       "\n",
       "    .dataframe thead th {\n",
       "        text-align: right;\n",
       "    }\n",
       "</style>\n",
       "<table border=\"1\" class=\"dataframe\">\n",
       "  <thead>\n",
       "    <tr style=\"text-align: right;\">\n",
       "      <th></th>\n",
       "      <th>Type</th>\n",
       "      <th>Total</th>\n",
       "      <th>Used</th>\n",
       "      <th>ATP</th>\n",
       "    </tr>\n",
       "    <tr>\n",
       "      <th>Reactions</th>\n",
       "      <th></th>\n",
       "      <th></th>\n",
       "      <th></th>\n",
       "      <th></th>\n",
       "    </tr>\n",
       "  </thead>\n",
       "  <tbody>\n",
       "    <tr>\n",
       "      <th>ATPS4rpp_FWD_ATPSYN-CPLX_mod_mg2</th>\n",
       "      <td>MetabolicReaction</td>\n",
       "      <td>1.0</td>\n",
       "      <td>52.367990</td>\n",
       "      <td>1.0</td>\n",
       "    </tr>\n",
       "    <tr>\n",
       "      <th>PGK_REV_PGK-CPLX</th>\n",
       "      <td>MetabolicReaction</td>\n",
       "      <td>1.0</td>\n",
       "      <td>12.566816</td>\n",
       "      <td>1.0</td>\n",
       "    </tr>\n",
       "    <tr>\n",
       "      <th>PPK2r_REV_PPK-CPLX</th>\n",
       "      <td>MetabolicReaction</td>\n",
       "      <td>1.0</td>\n",
       "      <td>0.000097</td>\n",
       "      <td>1.0</td>\n",
       "    </tr>\n",
       "    <tr>\n",
       "      <th>SUCOAS_REV_SUCCCOASYN</th>\n",
       "      <td>MetabolicReaction</td>\n",
       "      <td>1.0</td>\n",
       "      <td>3.955319</td>\n",
       "      <td>1.0</td>\n",
       "    </tr>\n",
       "  </tbody>\n",
       "</table>\n",
       "</div>"
      ],
      "text/plain": [
       "                                               Type  Total       Used  ATP\n",
       "Reactions                                                                 \n",
       "ATPS4rpp_FWD_ATPSYN-CPLX_mod_mg2  MetabolicReaction    1.0  52.367990  1.0\n",
       "PGK_REV_PGK-CPLX                  MetabolicReaction    1.0  12.566816  1.0\n",
       "PPK2r_REV_PPK-CPLX                MetabolicReaction    1.0   0.000097  1.0\n",
       "SUCOAS_REV_SUCCCOASYN             MetabolicReaction    1.0   3.955319  1.0"
      ]
     },
     "execution_count": 6,
     "metadata": {},
     "output_type": "execute_result"
    }
   ],
   "source": [
    "energy_production = pd.DataFrame.from_dict(reactions_energy_production).set_index('Reactions')\n",
    "energy_production.head()"
   ]
  },
  {
   "cell_type": "code",
   "execution_count": 7,
   "id": "b3613543",
   "metadata": {},
   "outputs": [
    {
     "data": {
      "text/plain": [
       "68.89022155075351"
      ]
     },
     "execution_count": 7,
     "metadata": {},
     "output_type": "execute_result"
    }
   ],
   "source": [
    "total_produced = energy_production.sum().Used\n",
    "total_produced"
   ]
  },
  {
   "cell_type": "code",
   "execution_count": 8,
   "id": "175c38c2",
   "metadata": {},
   "outputs": [],
   "source": [
    "# Save file\n",
    "energy_consumption.to_pickle('../files/energy/energy_per_reaction.pickle')"
   ]
  },
  {
   "cell_type": "code",
   "execution_count": 9,
   "id": "5b959951",
   "metadata": {},
   "outputs": [],
   "source": [
    "with open('../files/energy/energy_per_reaction.pickle', 'rb') as f:\n",
    "    energy_consumption = pickle.load(f)"
   ]
  },
  {
   "cell_type": "code",
   "execution_count": 10,
   "id": "7b7059b4",
   "metadata": {},
   "outputs": [
    {
     "data": {
      "text/html": [
       "<div>\n",
       "<style scoped>\n",
       "    .dataframe tbody tr th:only-of-type {\n",
       "        vertical-align: middle;\n",
       "    }\n",
       "\n",
       "    .dataframe tbody tr th {\n",
       "        vertical-align: top;\n",
       "    }\n",
       "\n",
       "    .dataframe thead th {\n",
       "        text-align: right;\n",
       "    }\n",
       "</style>\n",
       "<table border=\"1\" class=\"dataframe\">\n",
       "  <thead>\n",
       "    <tr style=\"text-align: right;\">\n",
       "      <th></th>\n",
       "      <th>Type</th>\n",
       "      <th>Total</th>\n",
       "      <th>Used</th>\n",
       "      <th>ATP</th>\n",
       "    </tr>\n",
       "    <tr>\n",
       "      <th>Reactions</th>\n",
       "      <th></th>\n",
       "      <th></th>\n",
       "      <th></th>\n",
       "      <th></th>\n",
       "    </tr>\n",
       "  </thead>\n",
       "  <tbody>\n",
       "    <tr>\n",
       "      <th>transcription_TU0_8529_from_RpoD_mono</th>\n",
       "      <td>TranscriptionReaction</td>\n",
       "      <td>-347.0</td>\n",
       "      <td>3.988197e-09</td>\n",
       "      <td>-347.0</td>\n",
       "    </tr>\n",
       "    <tr>\n",
       "      <th>transcription_TU0_8464_from_RpoD_mono</th>\n",
       "      <td>TranscriptionReaction</td>\n",
       "      <td>-88.0</td>\n",
       "      <td>2.039023e-04</td>\n",
       "      <td>-88.0</td>\n",
       "    </tr>\n",
       "    <tr>\n",
       "      <th>transcription_TU0_13006_from_RpoD_mono</th>\n",
       "      <td>TranscriptionReaction</td>\n",
       "      <td>-172.0</td>\n",
       "      <td>5.661036e-12</td>\n",
       "      <td>-172.0</td>\n",
       "    </tr>\n",
       "    <tr>\n",
       "      <th>transcription_TU0_5003_from_RPOH_MONOMER</th>\n",
       "      <td>TranscriptionReaction</td>\n",
       "      <td>-434.0</td>\n",
       "      <td>1.200694e-07</td>\n",
       "      <td>-434.0</td>\n",
       "    </tr>\n",
       "    <tr>\n",
       "      <th>transcription_TU0_3423_from_RPOE_MONOMER</th>\n",
       "      <td>TranscriptionReaction</td>\n",
       "      <td>-109.0</td>\n",
       "      <td>3.812990e-06</td>\n",
       "      <td>-109.0</td>\n",
       "    </tr>\n",
       "  </tbody>\n",
       "</table>\n",
       "</div>"
      ],
      "text/plain": [
       "                                                           Type  Total  \\\n",
       "Reactions                                                                \n",
       "transcription_TU0_8529_from_RpoD_mono     TranscriptionReaction -347.0   \n",
       "transcription_TU0_8464_from_RpoD_mono     TranscriptionReaction  -88.0   \n",
       "transcription_TU0_13006_from_RpoD_mono    TranscriptionReaction -172.0   \n",
       "transcription_TU0_5003_from_RPOH_MONOMER  TranscriptionReaction -434.0   \n",
       "transcription_TU0_3423_from_RPOE_MONOMER  TranscriptionReaction -109.0   \n",
       "\n",
       "                                                  Used    ATP  \n",
       "Reactions                                                      \n",
       "transcription_TU0_8529_from_RpoD_mono     3.988197e-09 -347.0  \n",
       "transcription_TU0_8464_from_RpoD_mono     2.039023e-04  -88.0  \n",
       "transcription_TU0_13006_from_RpoD_mono    5.661036e-12 -172.0  \n",
       "transcription_TU0_5003_from_RPOH_MONOMER  1.200694e-07 -434.0  \n",
       "transcription_TU0_3423_from_RPOE_MONOMER  3.812990e-06 -109.0  "
      ]
     },
     "execution_count": 10,
     "metadata": {},
     "output_type": "execute_result"
    }
   ],
   "source": [
    "energy_consumption.loc[:,'Used'] = abs(energy_consumption.Used)\n",
    "energy_consumption.head()"
   ]
  },
  {
   "cell_type": "markdown",
   "id": "1b8d534e",
   "metadata": {},
   "source": [
    "# ATP consumption per gene"
   ]
  },
  {
   "cell_type": "code",
   "execution_count": 11,
   "id": "049486d2",
   "metadata": {},
   "outputs": [],
   "source": [
    "total = get_energy_per_gene(energy_consumption, me)"
   ]
  },
  {
   "cell_type": "code",
   "execution_count": 12,
   "id": "4c929dba",
   "metadata": {},
   "outputs": [],
   "source": [
    "Energia_total_ME = pd.DataFrame(total.items(), columns=['Bnumber', 'Value'])\n",
    "Energia_total_ME = Energia_total_ME.sort_values(by='Value',ascending=False).reset_index()\n",
    "Energia_total_ME = Energia_total_ME.loc[:,['Bnumber','Value']]"
   ]
  },
  {
   "cell_type": "code",
   "execution_count": 13,
   "id": "19826ad4",
   "metadata": {},
   "outputs": [],
   "source": [
    "Energia_total_ME.to_pickle('../files/energy/energy_per_gene.pickle')"
   ]
  },
  {
   "cell_type": "code",
   "execution_count": 14,
   "id": "7141f7b6",
   "metadata": {},
   "outputs": [
    {
     "data": {
      "text/html": [
       "<div>\n",
       "<style scoped>\n",
       "    .dataframe tbody tr th:only-of-type {\n",
       "        vertical-align: middle;\n",
       "    }\n",
       "\n",
       "    .dataframe tbody tr th {\n",
       "        vertical-align: top;\n",
       "    }\n",
       "\n",
       "    .dataframe thead th {\n",
       "        text-align: right;\n",
       "    }\n",
       "</style>\n",
       "<table border=\"1\" class=\"dataframe\">\n",
       "  <thead>\n",
       "    <tr style=\"text-align: right;\">\n",
       "      <th></th>\n",
       "      <th>Bnumber</th>\n",
       "      <th>Value</th>\n",
       "    </tr>\n",
       "  </thead>\n",
       "  <tbody>\n",
       "    <tr>\n",
       "      <th>0</th>\n",
       "      <td>b3256</td>\n",
       "      <td>32.329346</td>\n",
       "    </tr>\n",
       "    <tr>\n",
       "      <th>1</th>\n",
       "      <td>dummy</td>\n",
       "      <td>1.671482</td>\n",
       "    </tr>\n",
       "    <tr>\n",
       "      <th>2</th>\n",
       "      <td>b2752</td>\n",
       "      <td>0.977113</td>\n",
       "    </tr>\n",
       "    <tr>\n",
       "      <th>3</th>\n",
       "      <td>b1677</td>\n",
       "      <td>0.232208</td>\n",
       "    </tr>\n",
       "    <tr>\n",
       "      <th>4</th>\n",
       "      <td>b0727</td>\n",
       "      <td>0.194296</td>\n",
       "    </tr>\n",
       "  </tbody>\n",
       "</table>\n",
       "</div>"
      ],
      "text/plain": [
       "  Bnumber      Value\n",
       "0   b3256  32.329346\n",
       "1   dummy   1.671482\n",
       "2   b2752   0.977113\n",
       "3   b1677   0.232208\n",
       "4   b0727   0.194296"
      ]
     },
     "execution_count": 14,
     "metadata": {},
     "output_type": "execute_result"
    }
   ],
   "source": [
    "Energia_total_ME.head()"
   ]
  },
  {
   "cell_type": "markdown",
   "id": "aa19d8ff",
   "metadata": {},
   "source": [
    "# ATP consumption (Strains)"
   ]
  },
  {
   "cell_type": "code",
   "execution_count": 15,
   "id": "184bd530",
   "metadata": {},
   "outputs": [],
   "source": [
    "names_W3110 = ['DGF298', 'DGF327', 'MGF02', 'MGF01' ]\n",
    "names_MG1655 = ['Δ16', 'MS56', 'MDS69','MDS42','MDS12']\n",
    "strains = names_MG1655+names_W3110\n",
    "\n",
    "genes_finales = {}\n",
    "\n",
    "for strain in strains:\n",
    "    genes_finales[strain] = pd.read_csv('../files/deleted_genes/mapped_del_genes_'+strain+'.csv')\n",
    "    genes_finales[strain] = genes_finales[strain].drop(columns= 'Unnamed: 0')"
   ]
  },
  {
   "cell_type": "markdown",
   "id": "165978cc",
   "metadata": {},
   "source": [
    "#### Per gene"
   ]
  },
  {
   "cell_type": "code",
   "execution_count": 16,
   "id": "08cceb64",
   "metadata": {},
   "outputs": [],
   "source": [
    "strain_energy_per_gen={}\n",
    "for strain in strains:\n",
    "    genes = genes_finales[strain].Bnumber\n",
    "    strain_energy_per_gen[strain] = Energia_total_ME.loc[Energia_total_ME.Bnumber.isin(genes)]"
   ]
  },
  {
   "cell_type": "markdown",
   "id": "78d5fc34",
   "metadata": {},
   "source": [
    "#### Per strain"
   ]
  },
  {
   "cell_type": "code",
   "execution_count": 17,
   "id": "faae8eed",
   "metadata": {},
   "outputs": [],
   "source": [
    "strain_energy_total={}\n",
    "for strain in strains:\n",
    "    strain_energy_total[strain] = [strain_energy_per_gen[strain].Value.sum()]\n",
    "    \n",
    "strain_energy_total_per={}\n",
    "for strain in strains:\n",
    "    strain_energy_total_per[strain] = [(strain_energy_per_gen[strain].Value.sum()*100)/(total_produced)]"
   ]
  },
  {
   "cell_type": "code",
   "execution_count": 18,
   "id": "d233590f",
   "metadata": {},
   "outputs": [],
   "source": [
    "consumo = pd.DataFrame.from_dict(strain_energy_total)\n",
    "consumo = consumo.T.rename(columns={0:'Energy'}).T\n",
    "consumo_per =  pd.DataFrame.from_dict(strain_energy_total_per)\n",
    "consumo_per = consumo_per.T.rename(columns={0:'Energy'}).T"
   ]
  },
  {
   "cell_type": "code",
   "execution_count": 19,
   "id": "5016b664",
   "metadata": {},
   "outputs": [
    {
     "data": {
      "text/html": [
       "<div>\n",
       "<style scoped>\n",
       "    .dataframe tbody tr th:only-of-type {\n",
       "        vertical-align: middle;\n",
       "    }\n",
       "\n",
       "    .dataframe tbody tr th {\n",
       "        vertical-align: top;\n",
       "    }\n",
       "\n",
       "    .dataframe thead th {\n",
       "        text-align: right;\n",
       "    }\n",
       "</style>\n",
       "<table border=\"1\" class=\"dataframe\">\n",
       "  <thead>\n",
       "    <tr style=\"text-align: right;\">\n",
       "      <th></th>\n",
       "      <th>Δ16</th>\n",
       "      <th>MS56</th>\n",
       "      <th>MDS69</th>\n",
       "      <th>MDS42</th>\n",
       "      <th>MDS12</th>\n",
       "      <th>DGF298</th>\n",
       "      <th>DGF327</th>\n",
       "      <th>MGF02</th>\n",
       "      <th>MGF01</th>\n",
       "    </tr>\n",
       "  </thead>\n",
       "  <tbody>\n",
       "    <tr>\n",
       "      <th>Energy</th>\n",
       "      <td>0.788286</td>\n",
       "      <td>0.172213</td>\n",
       "      <td>0.167337</td>\n",
       "      <td>0.163238</td>\n",
       "      <td>0.163234</td>\n",
       "      <td>0.174018</td>\n",
       "      <td>0.168425</td>\n",
       "      <td>0.004769</td>\n",
       "      <td>0.003504</td>\n",
       "    </tr>\n",
       "  </tbody>\n",
       "</table>\n",
       "</div>"
      ],
      "text/plain": [
       "             Δ16      MS56     MDS69     MDS42     MDS12    DGF298    DGF327  \\\n",
       "Energy  0.788286  0.172213  0.167337  0.163238  0.163234  0.174018  0.168425   \n",
       "\n",
       "           MGF02     MGF01  \n",
       "Energy  0.004769  0.003504  "
      ]
     },
     "execution_count": 19,
     "metadata": {},
     "output_type": "execute_result"
    }
   ],
   "source": [
    "consumo"
   ]
  },
  {
   "cell_type": "code",
   "execution_count": 20,
   "id": "83821549",
   "metadata": {},
   "outputs": [],
   "source": [
    "relevant_strains = ['Δ16', 'MS56', 'MDS69', 'DGF298', 'MGF02']"
   ]
  },
  {
   "cell_type": "code",
   "execution_count": 21,
   "id": "adb2314e",
   "metadata": {},
   "outputs": [
    {
     "data": {
      "image/png": "[encoded data removed]",
      "text/plain": [
       "<Figure size 720x288 with 2 Axes>"
      ]
     },
     "metadata": {
      "needs_background": "light"
     },
     "output_type": "display_data"
    }
   ],
   "source": [
    "plot_ME_energy(relevant_strains,consumo, consumo_per )"
   ]
  },
  {
   "cell_type": "markdown",
   "id": "d3da2ae4",
   "metadata": {},
   "source": [
    "# Energy analysis for each process"
   ]
  },
  {
   "cell_type": "markdown",
   "id": "ce56d34e",
   "metadata": {},
   "source": [
    "#### Replication "
   ]
  },
  {
   "cell_type": "code",
   "execution_count": 22,
   "id": "b11dd4f2",
   "metadata": {},
   "outputs": [],
   "source": [
    "replication_models = ['1', '1.125', '1.25', '1.5']\n",
    "models = {}\n",
    "\n",
    "for rep_model in replication_models:\n",
    "    with open('../files/models/DNA_per'+rep_model+'.pickle', 'rb') as f:\n",
    "        models[rep_model] = pickle.load(f)"
   ]
  },
  {
   "cell_type": "code",
   "execution_count": 23,
   "id": "21d95863",
   "metadata": {},
   "outputs": [],
   "source": [
    "def analisis_energia(modelos):\n",
    "    production_me = []\n",
    "    consumption_me = {}\n",
    "    consumption_perc = [] \n",
    "\n",
    "    for modelo in modelos:\n",
    "        reactions_energy_consumption,reactions_energy_production =get_energy_consumption_production(modelos[modelo])\n",
    "        #Production\n",
    "        energy_production = pd.DataFrame.from_dict(reactions_energy_production).set_index('Reactions')\n",
    "        production_me.append(energy_production.sum().Used)\n",
    "        #Consumption\n",
    "        energy_consumption = pd.DataFrame.from_dict(reactions_energy_consumption).set_index('Reactions')\n",
    "        type_group_consumption = energy_consumption.Used.groupby(energy_consumption.Type)\n",
    "        consumption_me[modelo]=(abs(type_group_consumption.sum()).sum())\n",
    "    \n",
    "    return(consumption_me,production_me)"
   ]
  },
  {
   "cell_type": "code",
   "execution_count": 24,
   "id": "8b754b45",
   "metadata": {},
   "outputs": [],
   "source": [
    "import seaborn as sns"
   ]
  },
  {
   "cell_type": "code",
   "execution_count": 25,
   "id": "e026c7ce",
   "metadata": {},
   "outputs": [],
   "source": [
    "def plot_glc_ox_atp(consumption_me,modelos):\n",
    "    ''' Gráfica de consumo de energía con los ejes de consumo de glucosa y oxígeno'''\n",
    "    \n",
    "    valores_metabolicos = pd.DataFrame({key:modelos[key].get_metabolic_flux() for key in modelos.keys()})\n",
    "    glucosa = valores_metabolicos.loc['EX_glc__D_e'].sort_index()*(-1)\n",
    "    oxigeno = valores_metabolicos.loc['EX_o2_e'].sort_index()*(-1)\n",
    "    nombres= [nombre.split('me')[1] for nombre in consumption_me.keys()]\n",
    "    x =  [float(nombre) for nombre in nombres]\n",
    "    sns.set()\n",
    "    sns.set_style(\"ticks\")\n",
    "\n",
    "    fig, ax1 = plt.subplots()\n",
    "\n",
    "    color = 'tab:red'\n",
    "    ax1.set_xlabel('UPF',fontsize=16,fontweight='bold')\n",
    "    ax1.set_ylabel('Consumo de ATP\\n $mmol•gDW^{-1}•h^{-1}$', color=color,\\\n",
    "                  fontsize=16,fontweight='bold')\n",
    "\n",
    "    lb1 = ax1.plot(*zip(*sorted(consumption_me.items())), color=color,marker='o',markersize=8, label = 'ATP')\n",
    "    ax1.tick_params(axis='x', labelsize=14)\n",
    "    ax1.tick_params(axis='y', labelcolor=color,labelsize=14)\n",
    "\n",
    "    ax2 = ax1.twinx()  # instantiate a second axes that shares the same x-axis\n",
    "\n",
    "    color = 'tab:blue'\n",
    "    ax2.set_ylabel('Consumo de\\noxígeno y glucosa\\n $mmol•gDW^{-1}•h^{-1}$', color='black',\\\n",
    "                  fontsize=16,fontweight='bold')  # we already handled the x-label with ax1\n",
    "\n",
    "    lb2 = ax2.plot(*zip(*glucosa.sort_index().items()), color=color,marker='o',markersize=8, label = 'Glucosa')\n",
    "    color='tab:green'\n",
    "    lb3 = ax2.plot(*zip(*oxigeno.sort_index().items()), color=color,marker='o',markersize=8, label = 'Oxígeno')\n",
    "\n",
    "    ax2.tick_params(axis='y', labelcolor='black')\n",
    "\n",
    "    # fig.tight_layout()  \n",
    "    a = plt.xticks()[0]\n",
    "    plt.xticks(a, [str(nombre) for nombre in sorted(x)])\n",
    "#     plt.xticks(a, ['0.24','0.27','0.30','0.33','0.36'])\n",
    "    plt.yticks(fontsize=14)\n",
    "\n",
    "    leg = lb1 + lb2 + lb3\n",
    "    labs = [l.get_label() for l in leg]\n",
    "    ax1.legend(leg, labs,loc='center left', bbox_to_anchor=(1.25, 0.5))\n",
    "    plt.show()"
   ]
  },
  {
   "cell_type": "code",
   "execution_count": 26,
   "id": "10e208eb",
   "metadata": {},
   "outputs": [],
   "source": [
    "consumption_me,p = analisis_energia(models)"
   ]
  },
  {
   "cell_type": "code",
   "execution_count": 29,
   "id": "07d142b7",
   "metadata": {},
   "outputs": [
    {
     "data": {
      "text/plain": [
       "{'me1': 57.2357657981071,\n",
       " 'me1.125': 57.205545551383345,\n",
       " 'me1.25': 57.17532524611092,\n",
       " 'me1.5': 57.11488484494159}"
      ]
     },
     "execution_count": 29,
     "metadata": {},
     "output_type": "execute_result"
    }
   ],
   "source": [
    "consumption_me"
   ]
  },
  {
   "cell_type": "code",
   "execution_count": 27,
   "id": "115a655e",
   "metadata": {},
   "outputs": [],
   "source": [
    "consumption_me['me1'] = consumption_me.pop('1')\n",
    "consumption_me['me1.125'] = consumption_me.pop( '1.125')\n",
    "consumption_me['me1.25'] = consumption_me.pop('1.25')\n",
    "consumption_me['me1.5'] = consumption_me.pop('1.5')"
   ]
  },
  {
   "cell_type": "code",
   "execution_count": 28,
   "id": "f86b7bd9",
   "metadata": {},
   "outputs": [
    {
     "data": {
      "image/png": "[encoded data removed]",
      "text/plain": [
       "<Figure size 432x288 with 2 Axes>"
      ]
     },
     "metadata": {},
     "output_type": "display_data"
    }
   ],
   "source": [
    "plot_glc_ox_atp(consumption_me, models)"
   ]
  },
  {
   "cell_type": "code",
   "execution_count": 33,
   "id": "e37c0202",
   "metadata": {},
   "outputs": [],
   "source": [
    "from scipy import stats\n",
    "\n"
   ]
  },
  {
   "cell_type": "code",
   "execution_count": 34,
   "id": "403b2d33",
   "metadata": {},
   "outputs": [],
   "source": [
    "valores = [1, 1.125, 1.25, 1.5]\n",
    "new_valores = np.array(valores)\n",
    "\n",
    "equivalentes_genoma = new_valores*1.63 \n",
    "equivalentes_genoma\n",
    "bp = equivalentes_genoma*4641652/1.63\n",
    "Mb = bp*1/(1*10**6)"
   ]
  },
  {
   "cell_type": "code",
   "execution_count": 35,
   "id": "4c677131",
   "metadata": {},
   "outputs": [],
   "source": [
    "slope, intercept, r_value, p_value, std_err = stats.linregress(Mb, list(consumption_me.values()))"
   ]
  },
  {
   "cell_type": "code",
   "execution_count": 36,
   "id": "eddb86f5",
   "metadata": {},
   "outputs": [
    {
     "data": {
      "text/plain": [
       "-0.05208531742279945"
      ]
     },
     "execution_count": 36,
     "metadata": {},
     "output_type": "execute_result"
    }
   ],
   "source": [
    "slope"
   ]
  },
  {
   "cell_type": "markdown",
   "id": "5fb83acc",
   "metadata": {},
   "source": [
    "#### Transcription "
   ]
  },
  {
   "cell_type": "code",
   "execution_count": 39,
   "id": "0fa9e321",
   "metadata": {},
   "outputs": [],
   "source": [
    "    with open('../files/models/AumGenes_GLC_OX_230.pickle', 'rb') as f:\n",
    "        me_230_n = pickle.load(f)\n",
    "        \n",
    "    with open('../files/models/AumGenes_GLC_OX_460.pickle', 'rb') as f:\n",
    "        me_460_n = pickle.load(f)\n",
    "\n",
    "    with open('../files/models/AumGenes_GLC_OX_690.pickle', 'rb') as f:\n",
    "        me_690_n = pickle.load(f)\n",
    "\n",
    "    with open('../files/models/AumGenes_GLC_OX_920.pickle', 'rb') as f:\n",
    "        me_920_n = pickle.load(f)"
   ]
  },
  {
   "cell_type": "code",
   "execution_count": 40,
   "id": "4f6a678f",
   "metadata": {},
   "outputs": [],
   "source": [
    "me_230_n.name='230'\n",
    "me_460_n.name='460'\n",
    "me_690_n.name='690'\n",
    "me_920_n.name='920'"
   ]
  },
  {
   "cell_type": "code",
   "execution_count": 41,
   "id": "0590c030",
   "metadata": {},
   "outputs": [],
   "source": [
    "lista_modelos=[me_230_n,me_460_n,me_690_n,me_920_n]\n",
    "soluciones=[n.solution.f for n in lista_modelos]\n",
    "\n"
   ]
  },
  {
   "cell_type": "code",
   "execution_count": 42,
   "id": "7b75a106",
   "metadata": {},
   "outputs": [],
   "source": [
    "# Es la misma línea que la función de arriba? \n",
    "\n",
    "production_me = []\n",
    "consumption_me = []\n",
    "consumption_me_group = []\n",
    "consumption_perc = [] \n",
    "consumption_every_Reaction=[]\n",
    "\n",
    "for modelo in lista_modelos:\n",
    "    reactions_energy_consumption,reactions_energy_production =get_energy_consumption_production(modelo)\n",
    "    #Production\n",
    "    energy_production = pd.DataFrame.from_dict(reactions_energy_production).set_index('Reactions')\n",
    "    production_me.append(energy_production.sum().Used)\n",
    "    #Consumption\n",
    "    energy_consumption = pd.DataFrame.from_dict(reactions_energy_consumption).set_index('Reactions')\n",
    "    consumption_every_Reaction.append(energy_consumption)\n",
    "    type_group_consumption = energy_consumption.Used.groupby(energy_consumption.Type)\n",
    "    consumption_me_group.append(abs(type_group_consumption.sum()))\n",
    "    consumption_me.append(abs(type_group_consumption.sum()).sum())\n",
    "    "
   ]
  },
  {
   "cell_type": "code",
   "execution_count": 44,
   "id": "de9caad6",
   "metadata": {},
   "outputs": [
    {
     "data": {
      "image/png": "[encoded data removed]",
      "text/plain": [
       "<Figure size 432x288 with 1 Axes>"
      ]
     },
     "metadata": {},
     "output_type": "display_data"
    }
   ],
   "source": [
    "consumption_me\n",
    "num_genes =[230,460,690,920]\n",
    "\n",
    "\n",
    "plt.plot(num_genes, consumption_me, marker='o', markersize=8)\n",
    "plt.title('Costo ATP global\\naumentando la transcripción', fontsize=20, fontweight='bold')\n",
    "plt.xlabel('Aumento de genes', fontsize=18)\n",
    "plt.ylabel('Consumo de ATP\\n$mmol•gDW^{-1}•h^{-1}$', fontsize=18)\n",
    "plt.xticks([230,460,690,920], ['230','460','690','920'], fontsize=14)#, rotation=90)\n",
    "plt.yticks(fontsize=14)\n",
    "plt.show()"
   ]
  },
  {
   "cell_type": "code",
   "execution_count": 47,
   "id": "969a417d",
   "metadata": {},
   "outputs": [
    {
     "data": {
      "text/plain": [
       "14.702650988378222"
      ]
     },
     "execution_count": 47,
     "metadata": {},
     "output_type": "execute_result"
    }
   ],
   "source": [
    "slope, intercept, r_value, p_value, std_err = stats.linregress(num_genes,consumption_me)\n",
    "costo_Mb = (10**6 )* slope / 900\n",
    "costo_Mb"
   ]
  }
 ],
 "metadata": {
  "kernelspec": {
   "display_name": "emarquez_ME",
   "language": "python",
   "name": "emarquez_me"
  },
  "language_info": {
   "codemirror_mode": {
    "name": "ipython",
    "version": 3
   },
   "file_extension": ".py",
   "mimetype": "text/x-python",
   "name": "python",
   "nbconvert_exporter": "python",
   "pygments_lexer": "ipython3",
   "version": "3.6.10"
  }
 },
 "nbformat": 4,
 "nbformat_minor": 5
}
