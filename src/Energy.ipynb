{
 "cells": [
  {
   "cell_type": "markdown",
   "id": "6eca1444",
   "metadata": {},
   "source": [
    "TODO Poner cómo se hizo la conversión de Replciacion en equivalentes de genoma"
   ]
  },
  {
   "cell_type": "markdown",
   "id": "30d8eb1c",
   "metadata": {},
   "source": [
    "# Energy from the ME model"
   ]
  },
  {
   "cell_type": "markdown",
   "id": "8d338f4a",
   "metadata": {},
   "source": [
    "### Table of Contents\n",
    "* [Import and colors](#Colors)\n",
    "* [ATP consumption per reaction](#ATP_reaction)\n",
    "    * [Plot](#Plot_reaction_type)\n",
    "* [ATP consumption per gene](#ATP_gene)\n",
    "* [ATP consumption (Strains)](#ATP_strains)\n",
    "    * [Plot](#Plot_ATP_strains)\n",
    "* [ATP consumption analysis for each process (ME model)](#ATP_analysis)\n",
    "    * [Replication](#Replication_ATP)\n",
    "    * [Transcription](#Transcription_ATP)\n",
    "    * [UPF](#UPF_ATP)\n",
    "* [ATP consumption analysis for each process (ME model and proteomic data) ](#ATP_analysis_prot)\n",
    "* [Comparison between literature data and our analysis](#Comparison)\n",
    "\n",
    "\n",
    "\n"
   ]
  },
  {
   "cell_type": "markdown",
   "id": "6c987325",
   "metadata": {},
   "source": [
    "# Imports and colors <a class=\"anchor\" id=\"Colors\"></a>"
   ]
  },
  {
   "cell_type": "code",
   "execution_count": 12,
   "id": "fd0b9c33",
   "metadata": {},
   "outputs": [],
   "source": [
    "import re\n",
    "import pickle\n",
    "import numpy as np\n",
    "import pandas as pd\n",
    "from scipy import stats\n",
    "\n",
    "# Own modules for analysis\n",
    "from energy_analisis import (get_energy_consumption_production, energy_per_model,\n",
    "                             get_energy_per_gene, get_energy_ME_proteome)\n",
    "from plot_energy import plot_ME_energy, plot_glc_ox_atp, plot_energy_ME_proteome, plot_type_energy"
   ]
  },
  {
   "cell_type": "code",
   "execution_count": 2,
   "id": "8c7e7801",
   "metadata": {},
   "outputs": [],
   "source": [
    "# load solved ME model\n",
    "with open('../files/models/iJL1678b_solver.pickle', 'rb') as f:\n",
    "    me = pickle.load(f)"
   ]
  },
  {
   "cell_type": "markdown",
   "id": "518e3cff",
   "metadata": {},
   "source": [
    "# ATP consumption per reaction <a class=\"anchor\" id=\"ATP_reaction\"></a>"
   ]
  },
  {
   "cell_type": "markdown",
   "id": "5afd1d48",
   "metadata": {},
   "source": [
    "We use the ME model to see the ATP consumption per all the reactions in the model "
   ]
  },
  {
   "cell_type": "code",
   "execution_count": 3,
   "id": "04ac24e5",
   "metadata": {},
   "outputs": [],
   "source": [
    "# Get the consumption and production of energy per reaction\n",
    "reactions_energy_consumption,reactions_energy_production = get_energy_consumption_production(me)"
   ]
  },
  {
   "cell_type": "code",
   "execution_count": 4,
   "id": "59db213f",
   "metadata": {},
   "outputs": [
    {
     "data": {
      "text/html": [
       "<div>\n",
       "<style scoped>\n",
       "    .dataframe tbody tr th:only-of-type {\n",
       "        vertical-align: middle;\n",
       "    }\n",
       "\n",
       "    .dataframe tbody tr th {\n",
       "        vertical-align: top;\n",
       "    }\n",
       "\n",
       "    .dataframe thead th {\n",
       "        text-align: right;\n",
       "    }\n",
       "</style>\n",
       "<table border=\"1\" class=\"dataframe\">\n",
       "  <thead>\n",
       "    <tr style=\"text-align: right;\">\n",
       "      <th></th>\n",
       "      <th>Type</th>\n",
       "      <th>ATP</th>\n",
       "      <th>Used</th>\n",
       "    </tr>\n",
       "    <tr>\n",
       "      <th>Reactions</th>\n",
       "      <th></th>\n",
       "      <th></th>\n",
       "      <th></th>\n",
       "    </tr>\n",
       "  </thead>\n",
       "  <tbody>\n",
       "    <tr>\n",
       "      <th>transcription_TU0_8529_from_RpoD_mono</th>\n",
       "      <td>TranscriptionReaction</td>\n",
       "      <td>-347.0</td>\n",
       "      <td>-3.988197e-09</td>\n",
       "    </tr>\n",
       "    <tr>\n",
       "      <th>transcription_TU0_8464_from_RpoD_mono</th>\n",
       "      <td>TranscriptionReaction</td>\n",
       "      <td>-88.0</td>\n",
       "      <td>-2.039023e-04</td>\n",
       "    </tr>\n",
       "    <tr>\n",
       "      <th>transcription_TU0_13006_from_RpoD_mono</th>\n",
       "      <td>TranscriptionReaction</td>\n",
       "      <td>-172.0</td>\n",
       "      <td>-5.661036e-12</td>\n",
       "    </tr>\n",
       "    <tr>\n",
       "      <th>transcription_TU0_5003_from_RPOH_MONOMER</th>\n",
       "      <td>TranscriptionReaction</td>\n",
       "      <td>-434.0</td>\n",
       "      <td>-1.200694e-07</td>\n",
       "    </tr>\n",
       "    <tr>\n",
       "      <th>transcription_TU0_3423_from_RPOE_MONOMER</th>\n",
       "      <td>TranscriptionReaction</td>\n",
       "      <td>-109.0</td>\n",
       "      <td>-3.812990e-06</td>\n",
       "    </tr>\n",
       "  </tbody>\n",
       "</table>\n",
       "</div>"
      ],
      "text/plain": [
       "                                                           Type    ATP  \\\n",
       "Reactions                                                                \n",
       "transcription_TU0_8529_from_RpoD_mono     TranscriptionReaction -347.0   \n",
       "transcription_TU0_8464_from_RpoD_mono     TranscriptionReaction  -88.0   \n",
       "transcription_TU0_13006_from_RpoD_mono    TranscriptionReaction -172.0   \n",
       "transcription_TU0_5003_from_RPOH_MONOMER  TranscriptionReaction -434.0   \n",
       "transcription_TU0_3423_from_RPOE_MONOMER  TranscriptionReaction -109.0   \n",
       "\n",
       "                                                  Used  \n",
       "Reactions                                               \n",
       "transcription_TU0_8529_from_RpoD_mono    -3.988197e-09  \n",
       "transcription_TU0_8464_from_RpoD_mono    -2.039023e-04  \n",
       "transcription_TU0_13006_from_RpoD_mono   -5.661036e-12  \n",
       "transcription_TU0_5003_from_RPOH_MONOMER -1.200694e-07  \n",
       "transcription_TU0_3423_from_RPOE_MONOMER -3.812990e-06  "
      ]
     },
     "execution_count": 4,
     "metadata": {},
     "output_type": "execute_result"
    }
   ],
   "source": [
    "# Energy consumption\n",
    "energy_consumption = pd.DataFrame.from_dict(reactions_energy_consumption).set_index('Reactions')\n",
    "energy_consumption.head()"
   ]
  },
  {
   "cell_type": "code",
   "execution_count": 5,
   "id": "19e35863",
   "metadata": {},
   "outputs": [
    {
     "data": {
      "text/html": [
       "<div>\n",
       "<style scoped>\n",
       "    .dataframe tbody tr th:only-of-type {\n",
       "        vertical-align: middle;\n",
       "    }\n",
       "\n",
       "    .dataframe tbody tr th {\n",
       "        vertical-align: top;\n",
       "    }\n",
       "\n",
       "    .dataframe thead th {\n",
       "        text-align: right;\n",
       "    }\n",
       "</style>\n",
       "<table border=\"1\" class=\"dataframe\">\n",
       "  <thead>\n",
       "    <tr style=\"text-align: right;\">\n",
       "      <th></th>\n",
       "      <th>Type</th>\n",
       "      <th>ATP</th>\n",
       "      <th>Used</th>\n",
       "    </tr>\n",
       "    <tr>\n",
       "      <th>Reactions</th>\n",
       "      <th></th>\n",
       "      <th></th>\n",
       "      <th></th>\n",
       "    </tr>\n",
       "  </thead>\n",
       "  <tbody>\n",
       "    <tr>\n",
       "      <th>ATPS4rpp_FWD_ATPSYN-CPLX_mod_mg2</th>\n",
       "      <td>MetabolicReaction</td>\n",
       "      <td>1.0</td>\n",
       "      <td>52.367990</td>\n",
       "    </tr>\n",
       "    <tr>\n",
       "      <th>PGK_REV_PGK-CPLX</th>\n",
       "      <td>MetabolicReaction</td>\n",
       "      <td>1.0</td>\n",
       "      <td>12.566816</td>\n",
       "    </tr>\n",
       "    <tr>\n",
       "      <th>PPK2r_REV_PPK-CPLX</th>\n",
       "      <td>MetabolicReaction</td>\n",
       "      <td>1.0</td>\n",
       "      <td>0.000097</td>\n",
       "    </tr>\n",
       "    <tr>\n",
       "      <th>SUCOAS_REV_SUCCCOASYN</th>\n",
       "      <td>MetabolicReaction</td>\n",
       "      <td>1.0</td>\n",
       "      <td>3.955319</td>\n",
       "    </tr>\n",
       "  </tbody>\n",
       "</table>\n",
       "</div>"
      ],
      "text/plain": [
       "                                               Type  ATP       Used\n",
       "Reactions                                                          \n",
       "ATPS4rpp_FWD_ATPSYN-CPLX_mod_mg2  MetabolicReaction  1.0  52.367990\n",
       "PGK_REV_PGK-CPLX                  MetabolicReaction  1.0  12.566816\n",
       "PPK2r_REV_PPK-CPLX                MetabolicReaction  1.0   0.000097\n",
       "SUCOAS_REV_SUCCCOASYN             MetabolicReaction  1.0   3.955319"
      ]
     },
     "execution_count": 5,
     "metadata": {},
     "output_type": "execute_result"
    }
   ],
   "source": [
    "# Energy Production\n",
    "energy_production = pd.DataFrame.from_dict(reactions_energy_production).set_index('Reactions')\n",
    "energy_production.head()"
   ]
  },
  {
   "cell_type": "code",
   "execution_count": 6,
   "id": "a50243ff",
   "metadata": {},
   "outputs": [
    {
     "data": {
      "text/plain": [
       "68.89022155075351"
      ]
     },
     "execution_count": 6,
     "metadata": {},
     "output_type": "execute_result"
    }
   ],
   "source": [
    "total_produced = energy_production.sum().Used\n",
    "total_produced"
   ]
  },
  {
   "cell_type": "code",
   "execution_count": 7,
   "id": "175c38c2",
   "metadata": {},
   "outputs": [],
   "source": [
    "# Save file\n",
    "energy_consumption.to_pickle('../files/energy/energy_per_reaction.pickle')"
   ]
  },
  {
   "cell_type": "code",
   "execution_count": 8,
   "id": "5b959951",
   "metadata": {},
   "outputs": [],
   "source": [
    "with open('../files/energy/energy_per_reaction.pickle', 'rb') as f:\n",
    "    energy_consumption = pickle.load(f)"
   ]
  },
  {
   "cell_type": "markdown",
   "id": "7ef6cc74",
   "metadata": {},
   "source": [
    "<div class=\"alert alert-block alert-info\">\n",
    "<b>ATP consumption per reaction</b> We obtained how much ATP is consumed per reaction according to the ME model (ATP column) and that value multiplied by the reaction flux (Used column). We also extracted how that reaction was clasified in the ME model (Transcription Reaction, Metabolic Reaction, etc).</div>"
   ]
  },
  {
   "cell_type": "code",
   "execution_count": 9,
   "id": "7b7059b4",
   "metadata": {},
   "outputs": [
    {
     "data": {
      "text/html": [
       "<div>\n",
       "<style scoped>\n",
       "    .dataframe tbody tr th:only-of-type {\n",
       "        vertical-align: middle;\n",
       "    }\n",
       "\n",
       "    .dataframe tbody tr th {\n",
       "        vertical-align: top;\n",
       "    }\n",
       "\n",
       "    .dataframe thead th {\n",
       "        text-align: right;\n",
       "    }\n",
       "</style>\n",
       "<table border=\"1\" class=\"dataframe\">\n",
       "  <thead>\n",
       "    <tr style=\"text-align: right;\">\n",
       "      <th></th>\n",
       "      <th>Type</th>\n",
       "      <th>ATP</th>\n",
       "      <th>Used</th>\n",
       "    </tr>\n",
       "    <tr>\n",
       "      <th>Reactions</th>\n",
       "      <th></th>\n",
       "      <th></th>\n",
       "      <th></th>\n",
       "    </tr>\n",
       "  </thead>\n",
       "  <tbody>\n",
       "    <tr>\n",
       "      <th>transcription_TU0_8529_from_RpoD_mono</th>\n",
       "      <td>TranscriptionReaction</td>\n",
       "      <td>-347.0</td>\n",
       "      <td>3.988197e-09</td>\n",
       "    </tr>\n",
       "    <tr>\n",
       "      <th>transcription_TU0_8464_from_RpoD_mono</th>\n",
       "      <td>TranscriptionReaction</td>\n",
       "      <td>-88.0</td>\n",
       "      <td>2.039023e-04</td>\n",
       "    </tr>\n",
       "    <tr>\n",
       "      <th>transcription_TU0_13006_from_RpoD_mono</th>\n",
       "      <td>TranscriptionReaction</td>\n",
       "      <td>-172.0</td>\n",
       "      <td>5.661036e-12</td>\n",
       "    </tr>\n",
       "    <tr>\n",
       "      <th>transcription_TU0_5003_from_RPOH_MONOMER</th>\n",
       "      <td>TranscriptionReaction</td>\n",
       "      <td>-434.0</td>\n",
       "      <td>1.200694e-07</td>\n",
       "    </tr>\n",
       "    <tr>\n",
       "      <th>transcription_TU0_3423_from_RPOE_MONOMER</th>\n",
       "      <td>TranscriptionReaction</td>\n",
       "      <td>-109.0</td>\n",
       "      <td>3.812990e-06</td>\n",
       "    </tr>\n",
       "  </tbody>\n",
       "</table>\n",
       "</div>"
      ],
      "text/plain": [
       "                                                           Type    ATP  \\\n",
       "Reactions                                                                \n",
       "transcription_TU0_8529_from_RpoD_mono     TranscriptionReaction -347.0   \n",
       "transcription_TU0_8464_from_RpoD_mono     TranscriptionReaction  -88.0   \n",
       "transcription_TU0_13006_from_RpoD_mono    TranscriptionReaction -172.0   \n",
       "transcription_TU0_5003_from_RPOH_MONOMER  TranscriptionReaction -434.0   \n",
       "transcription_TU0_3423_from_RPOE_MONOMER  TranscriptionReaction -109.0   \n",
       "\n",
       "                                                  Used  \n",
       "Reactions                                               \n",
       "transcription_TU0_8529_from_RpoD_mono     3.988197e-09  \n",
       "transcription_TU0_8464_from_RpoD_mono     2.039023e-04  \n",
       "transcription_TU0_13006_from_RpoD_mono    5.661036e-12  \n",
       "transcription_TU0_5003_from_RPOH_MONOMER  1.200694e-07  \n",
       "transcription_TU0_3423_from_RPOE_MONOMER  3.812990e-06  "
      ]
     },
     "execution_count": 9,
     "metadata": {},
     "output_type": "execute_result"
    }
   ],
   "source": [
    "energy_consumption.loc[:,'Used'] = abs(energy_consumption.Used) # Absolute value\n",
    "energy_consumption.head()"
   ]
  },
  {
   "cell_type": "markdown",
   "id": "d522314e",
   "metadata": {},
   "source": [
    "### Per reaction type"
   ]
  },
  {
   "cell_type": "code",
   "execution_count": 10,
   "id": "e3b49e2a",
   "metadata": {},
   "outputs": [
    {
     "data": {
      "text/plain": [
       "Type\n",
       "MetabolicReaction          23.872284\n",
       "PostTranslationReaction     0.012913\n",
       "SummaryVariable            30.127076\n",
       "TranscriptionReaction       0.189973\n",
       "TranslationReaction         4.695724\n",
       "tRNAChargingReaction        0.000598\n",
       "Name: Used, dtype: float64"
      ]
     },
     "execution_count": 10,
     "metadata": {},
     "output_type": "execute_result"
    }
   ],
   "source": [
    "type_group_consumption = energy_consumption.Used.groupby(energy_consumption.Type)\n",
    "type_group_consumption.sum()"
   ]
  },
  {
   "cell_type": "markdown",
   "id": "64698994",
   "metadata": {},
   "source": [
    "Consumption of the energy produced by the ME model. The 'Other' category means the energy produced that is not consumed by the ME model \n"
   ]
  },
  {
   "cell_type": "markdown",
   "id": "4c3bfe95",
   "metadata": {},
   "source": [
    "<div class=\"alert alert-block alert-success\">\n",
    "<b>ATP consumption of the ATP produced per reaction type plot </b> \n",
    "</div>\n",
    " <a class=\"anchor\" id=\"Plot_reaction_type\"></a>\n",
    "\n"
   ]
  },
  {
   "cell_type": "code",
   "execution_count": 17,
   "id": "e8ca50c4",
   "metadata": {},
   "outputs": [],
   "source": [
    "import matplotlib.pyplot as plt\n",
    "\n"
   ]
  },
  {
   "cell_type": "code",
   "execution_count": 21,
   "id": "a12d9b52",
   "metadata": {},
   "outputs": [],
   "source": [
    "    type_group_consumption = energy_consumption.Used.groupby(energy_consumption.Type)\n",
    "    type_group_production = energy_production.Used.groupby(energy_production.Type)\n",
    "    energia_producida = float(type_group_production.sum().values)\n",
    "    no_usada = energia_producida + type_group_consumption.sum().sum()\n",
    "    nueva_info=type_group_consumption.sum().append(pd.Series([no_usada], index=['Other']))\n",
    "    nueva_info=abs(nueva_info)"
   ]
  },
  {
   "cell_type": "code",
   "execution_count": 27,
   "id": "a0efcf38",
   "metadata": {},
   "outputs": [
    {
     "data": {
      "text/plain": [
       "<pandas.core.groupby.generic.SeriesGroupBy object at 0x7f95e9a5f3c8>"
      ]
     },
     "execution_count": 27,
     "metadata": {},
     "output_type": "execute_result"
    }
   ],
   "source": [
    "type_group_production"
   ]
  },
  {
   "cell_type": "code",
   "execution_count": 24,
   "id": "8659d5b6",
   "metadata": {},
   "outputs": [
    {
     "data": {
      "text/plain": [
       "68.89022155075351"
      ]
     },
     "execution_count": 24,
     "metadata": {},
     "output_type": "execute_result"
    }
   ],
   "source": [
    "energia_producida"
   ]
  },
  {
   "cell_type": "code",
   "execution_count": 18,
   "id": "2210dbb7",
   "metadata": {},
   "outputs": [],
   "source": [
    "def plot_type_energy(energy_consumption, energy_production):\n",
    "    type_group_consumption = energy_consumption.Used.groupby(energy_consumption.Type)\n",
    "    type_group_production = energy_production.Used.groupby(energy_production.Type)\n",
    "    energia_producida = float(type_group_production.sum().values)\n",
    "    no_usada = energia_producida + type_group_consumption.sum().sum()\n",
    "    nueva_info=type_group_consumption.sum().append(pd.Series([no_usada], index=['Other']))\n",
    "    nueva_info=abs(nueva_info)\n",
    "\n",
    "\n",
    "    labels =list(nueva_info.index)\n",
    "    sizes = list(abs(nueva_info.values))\n",
    "    #colors\n",
    "    colors = ['#CC1330','#6986C3','#FAB611','#7760A7','#6986C3','#6986C3','#81B540']\n",
    "    explode = (0.05,0.05,0.05,0.05,0.05,0.05,0.05,)\n",
    "\n",
    "    fig1, ax1 = plt.subplots()\n",
    "\n",
    "    ax1.pie(sizes, colors = colors, labels=labels, autopct='%0.01f%%',\n",
    "            startangle=90, pctdistance=0.5, explode = explode)\n",
    "\n",
    "    #draw circle\n",
    "    centre_circle = plt.Circle((0,0),0.70,fc='white')\n",
    "    fig = plt.gcf()\n",
    "    fig.gca().add_artist(centre_circle)\n",
    "    # Equal aspect ratio ensures that pie is drawn as a circle\n",
    "    ax1.axis('equal')  \n",
    "    plt.tight_layout()\n",
    "    plt.show()"
   ]
  },
  {
   "cell_type": "code",
   "execution_count": 19,
   "id": "bdb683e6",
   "metadata": {},
   "outputs": [
    {
     "data": {
      "image/png": "[encoded data removed]",
      "text/plain": [
       "<Figure size 432x288 with 1 Axes>"
      ]
     },
     "metadata": {},
     "output_type": "display_data"
    }
   ],
   "source": [
    "plot_type_energy(energy_consumption, energy_production)"
   ]
  },
  {
   "cell_type": "markdown",
   "id": "b98bb478",
   "metadata": {},
   "source": [
    "# ATP consumption per gene <a class=\"anchor\" id=\"ATP_gene\"></a>"
   ]
  },
  {
   "cell_type": "markdown",
   "id": "bf31dc1f",
   "metadata": {},
   "source": [
    "Now we want to know which genes are related to those reactions and extract the ATP consumption of all the reactions related to each gene"
   ]
  },
  {
   "cell_type": "code",
   "execution_count": null,
   "id": "049486d2",
   "metadata": {},
   "outputs": [],
   "source": [
    "# Get ATP consumption per gene\n",
    "total = get_energy_per_gene(energy_consumption, me)"
   ]
  },
  {
   "cell_type": "code",
   "execution_count": null,
   "id": "4c929dba",
   "metadata": {},
   "outputs": [],
   "source": [
    "Energia_total_ME = pd.DataFrame(total.items(), columns=['Bnumber', 'Value'])\n",
    "Energia_total_ME = Energia_total_ME.sort_values(by='Value',ascending=False).reset_index()\n",
    "Energia_total_ME = Energia_total_ME.loc[:,['Bnumber','Value']]"
   ]
  },
  {
   "cell_type": "code",
   "execution_count": null,
   "id": "19826ad4",
   "metadata": {},
   "outputs": [],
   "source": [
    "Energia_total_ME.to_pickle('../files/energy/energy_per_gene.pickle')"
   ]
  },
  {
   "cell_type": "markdown",
   "id": "a8b64e94",
   "metadata": {},
   "source": [
    "<div class=\"alert alert-block alert-info\">\n",
    "<b>ATP consumption per gene </b> Now we have the ATP consumption for each gene present in the ME model</div>"
   ]
  },
  {
   "cell_type": "code",
   "execution_count": null,
   "id": "7141f7b6",
   "metadata": {},
   "outputs": [],
   "source": [
    "Energia_total_ME.head()"
   ]
  },
  {
   "cell_type": "markdown",
   "id": "83fd2adb",
   "metadata": {},
   "source": [
    "# ATP consumption (Strains) <a class=\"anchor\" id=\"ATP_strains\"></a>"
   ]
  },
  {
   "cell_type": "markdown",
   "id": "8ed15111",
   "metadata": {},
   "source": [
    "After calculating the ATP consumption per gene, we wanted to know the ATP consumption of the genes that were deleted on the minimized strains would represent"
   ]
  },
  {
   "cell_type": "code",
   "execution_count": null,
   "id": "8e75021c",
   "metadata": {},
   "outputs": [],
   "source": [
    "names_W3110 = ['DGF298', 'DGF327', 'MGF02', 'MGF01' ]\n",
    "names_MG1655 = ['Δ16', 'MS56', 'MDS69','MDS42','MDS12']\n",
    "strains = names_MG1655+names_W3110\n",
    "\n",
    "genes_finales = {}\n",
    "\n",
    "# Get the deleted genes per strain\n",
    "for strain in strains:\n",
    "    genes_finales[strain] = pd.read_csv('../files/deleted_genes/mapped_del_genes_'+strain+'.csv')\n",
    "    genes_finales[strain] = genes_finales[strain].drop(columns= 'Unnamed: 0')"
   ]
  },
  {
   "cell_type": "markdown",
   "id": "192a30fc",
   "metadata": {},
   "source": [
    "#### Per gene"
   ]
  },
  {
   "cell_type": "code",
   "execution_count": null,
   "id": "beb93eda",
   "metadata": {},
   "outputs": [],
   "source": [
    "# ATP consumption per gene of each strain\n",
    "strain_energy_per_gen={}\n",
    "for strain in strains:\n",
    "    genes = genes_finales[strain].Bnumber\n",
    "    strain_energy_per_gen[strain] = Energia_total_ME.loc[Energia_total_ME.Bnumber.isin(genes)]"
   ]
  },
  {
   "cell_type": "markdown",
   "id": "9f2a3c9b",
   "metadata": {},
   "source": [
    "#### Per strain"
   ]
  },
  {
   "cell_type": "code",
   "execution_count": null,
   "id": "e07026ab",
   "metadata": {},
   "outputs": [],
   "source": [
    "# Total ATP consumption per strain (in mmol*gDW-1*h-1 and in percentage)\n",
    "strain_energy_total={}\n",
    "for strain in strains:\n",
    "    strain_energy_total[strain] = [strain_energy_per_gen[strain].Value.sum()]\n",
    "    \n",
    "strain_energy_total_per={}\n",
    "for strain in strains:\n",
    "    strain_energy_total_per[strain] = [(strain_energy_per_gen[strain].Value.sum()*100)/(total_produced)]"
   ]
  },
  {
   "cell_type": "code",
   "execution_count": null,
   "id": "efe1a50d",
   "metadata": {},
   "outputs": [],
   "source": [
    "consumo = pd.DataFrame.from_dict(strain_energy_total)\n",
    "consumo = consumo.T.rename(columns={0:'Energy'}).T\n",
    "consumo_per =  pd.DataFrame.from_dict(strain_energy_total_per)\n",
    "consumo_per = consumo_per.T.rename(columns={0:'Energy'}).T"
   ]
  },
  {
   "cell_type": "markdown",
   "id": "0f5535cb",
   "metadata": {},
   "source": [
    "<div class=\"alert alert-block alert-info\">\n",
    "<b>ATP consumption</b> Now we have the calculated ATP consumption that would be represented by the genes that were deleted </div>"
   ]
  },
  {
   "cell_type": "code",
   "execution_count": null,
   "id": "82045e49",
   "metadata": {},
   "outputs": [],
   "source": [
    "consumo"
   ]
  },
  {
   "cell_type": "code",
   "execution_count": null,
   "id": "4782fd61",
   "metadata": {},
   "outputs": [],
   "source": [
    "relevant_strains = ['Δ16', 'MS56', 'MDS69', 'DGF298', 'MGF02']"
   ]
  },
  {
   "cell_type": "markdown",
   "id": "807ce6e2",
   "metadata": {},
   "source": [
    "<div class=\"alert alert-block alert-success\">\n",
    "<b>ATP consumption per strain plot </b> \n",
    "</div>\n",
    "\n",
    " <a class=\"anchor\" id=\"Plot_ATP_strains\"></a>\n",
    "\n",
    "\n"
   ]
  },
  {
   "cell_type": "code",
   "execution_count": null,
   "id": "56feaa37",
   "metadata": {},
   "outputs": [],
   "source": [
    "plot_ME_energy(relevant_strains,consumo, consumo_per )"
   ]
  },
  {
   "cell_type": "markdown",
   "id": "4a068a26",
   "metadata": {},
   "source": [
    "# ATP consumption analysis for each process  (ME model)<a class=\"anchor\" id=\"ATP_analysis\"></a>"
   ]
  },
  {
   "cell_type": "markdown",
   "id": "798356a0",
   "metadata": {},
   "source": [
    "As not all the genes are represented in the ME model (1678 genes are in the model, while E. coli has more than 4000 genes), to take into account all the genes we can make an estimate of how much ATP is consumed in the replication process, transcription process and protein production process per Mb in average so we can apply that to all the genes"
   ]
  },
  {
   "cell_type": "code",
   "execution_count": null,
   "id": "a4218e7d",
   "metadata": {},
   "outputs": [],
   "source": [
    "n_genes = len(me.metabolites.query(re.compile('RNA_b[0-9]')))\n",
    "print(\"number of genes in the model: %d\" % (n_genes))"
   ]
  },
  {
   "cell_type": "markdown",
   "id": "73970f3a",
   "metadata": {},
   "source": [
    "## Replication  <a class=\"anchor\" id=\"Replication_ATP\"></a>"
   ]
  },
  {
   "cell_type": "markdown",
   "id": "afb82870",
   "metadata": {},
   "source": [
    "We analyze the simulations from the ME model were we increased the DNA percentage of the cell. More details of the simulation in [Replication_cost.ipynb](https://github.com/utrillalab/proteomeVSgenome/blob/main/src/Energy_simulations/Replication_cost.ipynb)"
   ]
  },
  {
   "cell_type": "code",
   "execution_count": null,
   "id": "92cdd8ec",
   "metadata": {},
   "outputs": [],
   "source": [
    "# How much the DNA percentage in the cell will be increased\n",
    "replication_models = ['1', '1.125', '1.25', '1.5']  # 1 means the percentage stays the same, 1.5 means 50% increase\n",
    "models = {}\n",
    "\n",
    "for rep_model in replication_models:\n",
    "    with open('../files/models/DNA_per'+rep_model+'.pickle', 'rb') as f:\n",
    "        models[rep_model] = pickle.load(f)"
   ]
  },
  {
   "cell_type": "code",
   "execution_count": null,
   "id": "3529491a",
   "metadata": {},
   "outputs": [],
   "source": [
    "models"
   ]
  },
  {
   "cell_type": "code",
   "execution_count": null,
   "id": "018a5a69",
   "metadata": {},
   "outputs": [],
   "source": [
    "# ATP consumption calculation per model \n",
    "consumption_me, p = energy_per_model(models)"
   ]
  },
  {
   "cell_type": "code",
   "execution_count": null,
   "id": "b767aeda",
   "metadata": {},
   "outputs": [],
   "source": [
    "consumption_me"
   ]
  },
  {
   "cell_type": "markdown",
   "id": "279db830",
   "metadata": {},
   "source": [
    "<div class=\"alert alert-block alert-success\">\n",
    "<b>Replication process ATP consumption plot</b> \n",
    "</div>\n",
    "\n",
    "\n",
    "\n"
   ]
  },
  {
   "cell_type": "code",
   "execution_count": null,
   "id": "07fecd24",
   "metadata": {
    "scrolled": true
   },
   "outputs": [],
   "source": [
    "plot_glc_ox_atp(consumption_me, models, tipo='Replication')"
   ]
  },
  {
   "cell_type": "code",
   "execution_count": null,
   "id": "b464a6d1",
   "metadata": {},
   "outputs": [],
   "source": [
    "valores = [1, 1.125, 1.25, 1.5]\n",
    "new_valores = np.array(valores)\n",
    "\n",
    "equivalentes_genoma = new_valores*1.63 \n",
    "equivalentes_genoma\n",
    "bp = equivalentes_genoma*4641652/1.63\n",
    "Mb = bp*1/(1*10**6)"
   ]
  },
  {
   "cell_type": "code",
   "execution_count": null,
   "id": "6fd7fa4e",
   "metadata": {},
   "outputs": [],
   "source": [
    "slope, intercept, r_value, p_value, std_err = stats.linregress(Mb, list(consumption_me.values()))"
   ]
  },
  {
   "cell_type": "markdown",
   "id": "1d6556c0",
   "metadata": {},
   "source": [
    "<div class=\"alert alert-block alert-info\">\n",
    "<b>Replication process ATP cost:</b> We have a replication cost of  $$\\frac{0.017\\;mmol\\;ATP}{gDW\\cdot h} \\;per\\;Mb$$  </div>"
   ]
  },
  {
   "cell_type": "code",
   "execution_count": null,
   "id": "ea5be336",
   "metadata": {},
   "outputs": [],
   "source": [
    "replication_cost = slope\n",
    "replication_cost"
   ]
  },
  {
   "cell_type": "markdown",
   "id": "f3602aa2",
   "metadata": {},
   "source": [
    "## Transcription  <a class=\"anchor\" id=\"Transcription_ATP\"></a>"
   ]
  },
  {
   "cell_type": "markdown",
   "id": "42a78a35",
   "metadata": {},
   "source": [
    "We analyze the simulations from the ME model were we increased the number of genes being transcripted but not trasnlated in the model. More details of the simulation in [Transcription_cost.ipynb](https://github.com/utrillalab/proteomeVSgenome/blob/main/src/Energy_simulations/Transcription_cost.ipynb)"
   ]
  },
  {
   "cell_type": "code",
   "execution_count": null,
   "id": "4fbf230a",
   "metadata": {},
   "outputs": [],
   "source": [
    "# Number of genes added being transcripted but not translated\n",
    "extra_genes = ['230', '460', '690', '920']\n",
    "extra_genes_int = [int(genes) for genes in extra_genes]\n",
    "transcription_models = {}\n",
    "solutions = []\n",
    "\n",
    "for gene in extra_genes:\n",
    "    with open('../files/models/AumGenes_GLC_OX_'+gene+'.pickle', 'rb') as f:\n",
    "        model = pickle.load(f)\n",
    "        model.name = gene\n",
    "        transcription_models[gene]= model\n",
    "        solutions.append(model.solution.f)\n",
    "    \n"
   ]
  },
  {
   "cell_type": "markdown",
   "id": "69273394",
   "metadata": {},
   "source": [
    "### Global"
   ]
  },
  {
   "cell_type": "markdown",
   "id": "1cf64145",
   "metadata": {},
   "source": [
    "ATP consumption of all the fluxes"
   ]
  },
  {
   "cell_type": "code",
   "execution_count": null,
   "id": "da6e736b",
   "metadata": {},
   "outputs": [],
   "source": [
    "consumption_me_trn, consumption_me_group, p = energy_per_model(transcription_models, group=True)"
   ]
  },
  {
   "cell_type": "code",
   "execution_count": null,
   "id": "be39972a",
   "metadata": {},
   "outputs": [],
   "source": [
    "consumption_me_trn"
   ]
  },
  {
   "cell_type": "markdown",
   "id": "09ddf239",
   "metadata": {},
   "source": [
    "<div class=\"alert alert-block alert-success\">\n",
    "<b>Transcription ATP consumption in all the fluxes plot </b> \n",
    "</div>\n",
    "\n",
    "\n",
    "\n"
   ]
  },
  {
   "cell_type": "code",
   "execution_count": null,
   "id": "8f8fe764",
   "metadata": {},
   "outputs": [],
   "source": [
    "plot_glc_ox_atp(consumption_me_trn, transcription_models, tipo='Transcription')"
   ]
  },
  {
   "cell_type": "code",
   "execution_count": null,
   "id": "9f4486de",
   "metadata": {},
   "outputs": [],
   "source": [
    "slope, intercept, r_value, p_value, std_err = stats.linregress(extra_genes_int, [consumption_me_trn['me'+genes] for genes in extra_genes])\n",
    "costo_Mb = (10**6 )* slope / 900\n",
    "costo_Mb"
   ]
  },
  {
   "cell_type": "markdown",
   "id": "416c422e",
   "metadata": {},
   "source": [
    "<div class=\"alert alert-block alert-info\">\n",
    "<b>Transcription ATP cost in all fluxes</b> As we are interested in the changes of ATP consumption of transcription, instead of taking this cost, we only then checked the ATP consumption on the transcription fluxes . But the global cost was   $$\\frac{14.12\\;mmol\\;ATP}{gDW\\cdot h} \\;per\\;Mb$$</div>"
   ]
  },
  {
   "cell_type": "code",
   "execution_count": null,
   "id": "05d6ac30",
   "metadata": {},
   "outputs": [],
   "source": [
    "transcription_gcost =  costo_Mb"
   ]
  },
  {
   "cell_type": "markdown",
   "id": "4cd72fba",
   "metadata": {},
   "source": [
    "### Transcription fluxes"
   ]
  },
  {
   "cell_type": "code",
   "execution_count": null,
   "id": "0ecf4818",
   "metadata": {},
   "outputs": [],
   "source": [
    "consumption_transR = {}\n",
    "for genes in consumption_me_group:\n",
    "    consumption_transR[genes] = consumption_me_group[genes].loc['TranscriptionReaction']"
   ]
  },
  {
   "cell_type": "code",
   "execution_count": null,
   "id": "d0b6b4cb",
   "metadata": {},
   "outputs": [],
   "source": [
    "consumption_transR"
   ]
  },
  {
   "cell_type": "markdown",
   "id": "6bb67a3a",
   "metadata": {},
   "source": [
    "<div class=\"alert alert-block alert-success\">\n",
    "<b>Transcription ATP consumption in transcription fluxes plot </b> \n",
    "</div>\n",
    "\n",
    "\n",
    "\n"
   ]
  },
  {
   "cell_type": "code",
   "execution_count": null,
   "id": "93c7be44",
   "metadata": {},
   "outputs": [],
   "source": [
    "plot_glc_ox_atp(consumption_transR, transcription_models, tipo='Transcription')"
   ]
  },
  {
   "cell_type": "code",
   "execution_count": null,
   "id": "5452601b",
   "metadata": {},
   "outputs": [],
   "source": [
    "slope_2, intercept_2, r_value, p_value, std_err = stats.linregress(extra_genes_int,\n",
    "                                                                   [consumption_transR['me'+genes] for genes in extra_genes])\n",
    "\n",
    "costo_Mb_2 = (10**6 )* slope_2 / 900\n",
    "costo_Mb_2"
   ]
  },
  {
   "cell_type": "markdown",
   "id": "07bbb4e5",
   "metadata": {},
   "source": [
    "<div class=\"alert alert-block alert-info\">\n",
    "<b>Transcription ATP cost in transcription fluxes</b> We have the ATP cost  on the transcription fluxes of increasing the genes that are being transcripted but not translated. $$\\frac{0.29\\;mmol\\;ATP}{gDW\\cdot h} \\;per\\;Mb$$</div>"
   ]
  },
  {
   "cell_type": "code",
   "execution_count": null,
   "id": "3656d39e",
   "metadata": {},
   "outputs": [],
   "source": [
    "transcription_tcost = costo_Mb_2\n",
    "transcription_tcost"
   ]
  },
  {
   "cell_type": "markdown",
   "id": "668a0e75",
   "metadata": {},
   "source": [
    "## UPF <a class=\"anchor\" id=\"UPF_ATP\"></a>"
   ]
  },
  {
   "cell_type": "markdown",
   "id": "1f5e0149",
   "metadata": {},
   "source": [
    "We analyze the protein production cost by making simulations in the ME were we changed the UPF. The objective function was ATPM. More details of the simulation in [UPF_cost.ipynb](https://github.com/utrillalab/proteomeVSgenome/blob/main/src/Energy_simulations/UPF_cost.ipynb)"
   ]
  },
  {
   "cell_type": "code",
   "execution_count": null,
   "id": "5a742676",
   "metadata": {},
   "outputs": [],
   "source": [
    "# Changes in the UPF values \n",
    "valores= ['0.24', '0.27', '0.3', '0.33', '0.36']\n",
    "modelos_ox_glc = {}\n",
    "\n",
    "for upf in valores:\n",
    "    name = 'me'+upf.split('.')[1]\n",
    "    with open('../files/models/ATPM_UPF_OX_GLC'+name+'.pickle', 'rb') as f:\n",
    "        modelos_ox_glc[upf] = pickle.load(f)\n"
   ]
  },
  {
   "cell_type": "code",
   "execution_count": null,
   "id": "62d5e155",
   "metadata": {},
   "outputs": [],
   "source": [
    "modelos_ox_glc"
   ]
  },
  {
   "cell_type": "markdown",
   "id": "feb6ed8b",
   "metadata": {},
   "source": [
    "### Whole"
   ]
  },
  {
   "cell_type": "code",
   "execution_count": null,
   "id": "f59147ec",
   "metadata": {},
   "outputs": [],
   "source": [
    "consumption_me_ox_glc, production_me_ox_glc = energy_per_model(modelos_ox_glc)"
   ]
  },
  {
   "cell_type": "markdown",
   "id": "2ba843af",
   "metadata": {},
   "source": [
    "<div class=\"alert alert-block alert-success\">\n",
    "<b>UPF ATP cost from all fluxes plot </b> \n",
    "</div>\n",
    "\n",
    "\n",
    "\n"
   ]
  },
  {
   "cell_type": "code",
   "execution_count": null,
   "id": "f12555a2",
   "metadata": {},
   "outputs": [],
   "source": [
    "plot_glc_ox_atp(consumption_me_ox_glc, modelos_ox_glc, tipo='UPF')"
   ]
  },
  {
   "cell_type": "markdown",
   "id": "66bf67b9",
   "metadata": {},
   "source": [
    "### Cellular consumption"
   ]
  },
  {
   "cell_type": "markdown",
   "id": "c23aa610",
   "metadata": {},
   "source": [
    "As the ATPM function was the objective, to see how much ATP was actually consumed by the cell we needed to substract the ATP from the ATPM reaction from the total ATP consumption "
   ]
  },
  {
   "cell_type": "code",
   "execution_count": null,
   "id": "cfb84ab6",
   "metadata": {},
   "outputs": [],
   "source": [
    "# Get the total ATP consumption, the ATPM ATP consumption and substract that to get the celular consumption\n",
    "suma_atpm_consum_ox = pd.DataFrame({'me'+modelo:[consumption_me_ox_glc['me'+modelo],\n",
    "                                            modelos_ox_glc[modelo].reactions.get_by_id('ATPM').x,\n",
    "                                            consumption_me_ox_glc['me'+modelo] - modelos_ox_glc[modelo].reactions.get_by_id('ATPM').x] for modelo in modelos_ox_glc})\n",
    "\n",
    "suma_atpm_consum_ox = suma_atpm_consum_ox.T\n",
    "suma_atpm_consum_ox.columns=['Total_Consumption','ATPM','Celular_Consumption']"
   ]
  },
  {
   "cell_type": "code",
   "execution_count": null,
   "id": "a9e017e8",
   "metadata": {},
   "outputs": [],
   "source": [
    "suma_atpm_consum_ox.sort_index()"
   ]
  },
  {
   "cell_type": "code",
   "execution_count": null,
   "id": "d2113030",
   "metadata": {},
   "outputs": [],
   "source": [
    "cel_con = suma_atpm_consum_ox['Celular_Consumption']"
   ]
  },
  {
   "cell_type": "code",
   "execution_count": null,
   "id": "367b979f",
   "metadata": {},
   "outputs": [],
   "source": [
    "cel_con"
   ]
  },
  {
   "cell_type": "markdown",
   "id": "1c4f3cc6",
   "metadata": {},
   "source": [
    "<div class=\"alert alert-block alert-success\">\n",
    "<b>UPF ATP cellular consumption plot </b> \n",
    "</div>\n",
    "\n",
    "\n",
    "\n"
   ]
  },
  {
   "cell_type": "code",
   "execution_count": null,
   "id": "a3d873b0",
   "metadata": {},
   "outputs": [],
   "source": [
    "plot_glc_ox_atp(cel_con.to_dict(), modelos_ox_glc, tipo='UPF')"
   ]
  },
  {
   "cell_type": "code",
   "execution_count": null,
   "id": "08d42f1f",
   "metadata": {},
   "outputs": [],
   "source": [
    "slope, intercept, r_value, p_value, std_err = stats.linregress([0.24,0.27,0.3,0.33,0.36],list(cel_con.values))\n",
    "\n"
   ]
  },
  {
   "cell_type": "markdown",
   "id": "f9d5ac63",
   "metadata": {},
   "source": [
    "slope por cada 1 de UPF o por cada 100 %, 0.01 de UPF  = 1% proteoma"
   ]
  },
  {
   "cell_type": "code",
   "execution_count": null,
   "id": "80fd47c0",
   "metadata": {},
   "outputs": [],
   "source": [
    "slope*0.01"
   ]
  },
  {
   "cell_type": "markdown",
   "id": "3737e469",
   "metadata": {},
   "source": [
    "<div class=\"alert alert-block alert-info\">\n",
    "<b>UPF ATP cost</b> Now we know the UPF ATP cost excluding the ATPM flux, we calculated that the cost of the protein production as: $$\\frac{0.16\\;mmol\\;ATP}{gDW\\cdot h} \\;per\\;1\\%\\;of\\;UPF$$</div>"
   ]
  },
  {
   "cell_type": "code",
   "execution_count": null,
   "id": "1a679627",
   "metadata": {},
   "outputs": [],
   "source": [
    "scientific_notation = \"{:.2e}\".format(slope*0.01)\n",
    "\n",
    "print(scientific_notation)"
   ]
  },
  {
   "cell_type": "code",
   "execution_count": null,
   "id": "fc3a92e8",
   "metadata": {},
   "outputs": [],
   "source": [
    "upf_cost = slope*0.01\n",
    "upf_cost\n",
    " "
   ]
  },
  {
   "cell_type": "markdown",
   "id": "9af984d7",
   "metadata": {},
   "source": [
    "# ATP consumption analysis for each process (ME model and proteomic data)<a class=\"anchor\" id=\"ATP_analysis_prot\"></a>"
   ]
  },
  {
   "cell_type": "markdown",
   "id": "0036bd6a",
   "metadata": {},
   "source": [
    "Now that we have all the costs for the processes, and we also have proteomic data from [Schmidt, Alexander, et al. 2016](https://www.nature.com/articles/nbt.3418) we can estimate how much energy is represented by the deleted genes even if they are not in the ME model  "
   ]
  },
  {
   "cell_type": "code",
   "execution_count": null,
   "id": "f3105cd5",
   "metadata": {},
   "outputs": [],
   "source": [
    "proteomic_data = pd.read_excel(\"../files/proteome_Schmidt/Proteomic_data_fg.xlsx\") \n",
    "\n"
   ]
  },
  {
   "cell_type": "code",
   "execution_count": null,
   "id": "5884680b",
   "metadata": {},
   "outputs": [],
   "source": [
    "print(replication_cost)\n",
    "print(transcription_gcost )\n",
    "print(transcription_tcost )\n",
    "print(upf_cost )\n",
    "\n",
    "\n"
   ]
  },
  {
   "cell_type": "code",
   "execution_count": null,
   "id": "6cddfa50",
   "metadata": {},
   "outputs": [],
   "source": [
    "# Calculate de cost of each process represented by the deleted genes by each strain\n",
    "costos_calculados = get_energy_ME_proteome(strains, genes_finales, proteomic_data, \n",
    "                                           replication_cost, transcription_tcost, upf_cost )"
   ]
  },
  {
   "cell_type": "code",
   "execution_count": null,
   "id": "3e25340b",
   "metadata": {},
   "outputs": [],
   "source": [
    "costos_calculados = pd.DataFrame(costos_calculados)"
   ]
  },
  {
   "cell_type": "code",
   "execution_count": null,
   "id": "cb374322",
   "metadata": {},
   "outputs": [],
   "source": [
    "costos_calculados.loc[['Replication', 'Transcription', 'UPF'],:]"
   ]
  },
  {
   "cell_type": "markdown",
   "id": "45f7ff45",
   "metadata": {},
   "source": [
    "<div class=\"alert alert-block alert-success\">\n",
    "<b>ATP consumption analysis per process per strain plot </b> \n",
    "</div>\n",
    "\n",
    "\n",
    "\n"
   ]
  },
  {
   "cell_type": "code",
   "execution_count": null,
   "id": "b4fd9422",
   "metadata": {},
   "outputs": [],
   "source": [
    "plot_energy_ME_proteome(strains, costos_calculados, ['UPF','Transcription','Replication'], medio='Glucose',\n",
    "                 normalizado=False, eng=True, identifier='Multipanel_Energy_prot'  ) "
   ]
  },
  {
   "cell_type": "markdown",
   "id": "679db0f7",
   "metadata": {},
   "source": [
    "#### Normalized"
   ]
  },
  {
   "cell_type": "code",
   "execution_count": null,
   "id": "2722906b",
   "metadata": {},
   "outputs": [],
   "source": [
    "plot_energy_ME_proteome(strains, costos_calculados, ['UPF','Transcription','Replication'], medio='Glucose',\n",
    "                 normalizado=True, eng=True, identifier='Multipanel_Energy_prot'  ) "
   ]
  },
  {
   "cell_type": "markdown",
   "id": "fc7fb6c7",
   "metadata": {},
   "source": [
    "# Comparison between literature data and our analysis <a class=\"anchor\" id=\"Comparison\"></a>"
   ]
  },
  {
   "cell_type": "markdown",
   "id": "c6e31bf9",
   "metadata": {},
   "source": [
    "To compare our results we used data from  [Lynch, Michael, and Georgi K. Marinov. 2015](https://www.pnas.org/doi/abs/10.1073/pnas.1514974112) were they describe the costs in ATP terms of a gene at the DNA, RNA and protein levels in E. coli. "
   ]
  },
  {
   "cell_type": "code",
   "execution_count": null,
   "id": "e5ae577a",
   "metadata": {},
   "outputs": [],
   "source": [
    "# Our calculations \n",
    "print(replication_cost) # ATP per Mb\n",
    "print(transcription_tcost) # ATP per M b\n",
    "print(upf_cost ) # ATP per 1% of UPF"
   ]
  },
  {
   "cell_type": "markdown",
   "id": "c228069c",
   "metadata": {},
   "source": [
    "We need the UPF cost in terms of Mb, so we calculate the UPF cost in Mb in a average gene (~1kb) in the glucose condition"
   ]
  },
  {
   "cell_type": "code",
   "execution_count": null,
   "id": "b606dd65",
   "metadata": {},
   "outputs": [],
   "source": [
    "mean_prot_glc = proteomic_data.Glucosa.mean() /proteomic_data.Glucosa.sum()*100\n",
    "mean_prot_glc"
   ]
  },
  {
   "cell_type": "code",
   "execution_count": null,
   "id": "fc33b514",
   "metadata": {},
   "outputs": [],
   "source": [
    "upf_cost_kb = upf_cost *  mean_prot_glc # ATP per 999b gene\n",
    "upf_cost_Mb = upf_cost_kb * 1*10**6 / 999\n"
   ]
  },
  {
   "cell_type": "code",
   "execution_count": null,
   "id": "a795ba3f",
   "metadata": {},
   "outputs": [],
   "source": [
    "upf_cost_Mb"
   ]
  },
  {
   "cell_type": "code",
   "execution_count": null,
   "id": "7a3d9153",
   "metadata": {},
   "outputs": [],
   "source": [
    "costs_ME = {'Replication':[replication_cost], 'Transcription':[transcription_tcost], 'UPF':[upf_cost_Mb] }"
   ]
  },
  {
   "cell_type": "code",
   "execution_count": null,
   "id": "310c675c",
   "metadata": {},
   "outputs": [],
   "source": [
    "costs_ME = pd.DataFrame.from_dict(costs_ME, orient='index', columns=['ME units'])"
   ]
  },
  {
   "cell_type": "markdown",
   "id": "7dcf79bf",
   "metadata": {},
   "source": [
    "As the units in Lynch and Marinov are in ATP hydrolisis, we convert our units to match those by taking into account the E. coli cell dry weight and the growth rate of our simulations"
   ]
  },
  {
   "cell_type": "markdown",
   "id": "14e7fd96",
   "metadata": {},
   "source": [
    "ME model units $$\\frac{x\\;mmol }{gDW\\cdot h}$$\n",
    "\n",
    "To get the units equivalent to Lynch & Marinov (ATP Hydrolysis)\n",
    "\n",
    "\n",
    "$$ \\frac{x\\;mmol }{gDW\\cdot h}\\;\\cdot\\;\\frac{1\\;mol}{1000\\;mmol}\\;\\cdot\\;\\frac{6.022x10^{23}\\;atoms}{1\\;mol}\\;\\cdot\\;\\frac{ 3x10^{-13}gDW}{0.69\\;h^{-1}}$$\n"
   ]
  },
  {
   "cell_type": "code",
   "execution_count": null,
   "id": "02a16ae6",
   "metadata": {},
   "outputs": [],
   "source": [
    "mol_mmol = 1*10**3  # 1 mol = 1000 mmol.\n",
    "avogadro =  (6.022*10**23 )  # Avogadro number\n",
    "cell_DW = 3*10**(-13)  # E. coli cell dry weight 3 x 10-13 g (https://ecmdb.ca/e_coli_stats)\n",
    "mu =  0.69 # Growth rate  (h-1)\n",
    "Mb_b = 1*10**6 # 1 Mb = 1 000 000 bp "
   ]
  },
  {
   "cell_type": "code",
   "execution_count": null,
   "id": "d3fa374e",
   "metadata": {},
   "outputs": [],
   "source": [
    "costs_ME.loc[:,'ME (ATP hydr) Mb'] = costs_ME.loc[:, 'ME units'] /mol_mmol *  avogadro * cell_DW / mu"
   ]
  },
  {
   "cell_type": "markdown",
   "id": "3a91e647",
   "metadata": {},
   "source": [
    "As Lynch & Marinov reported the costs for a 950b gene, we also make that conversion "
   ]
  },
  {
   "cell_type": "code",
   "execution_count": null,
   "id": "96aefe74",
   "metadata": {},
   "outputs": [],
   "source": [
    "# For 950 Mb\n",
    "costs_ME.loc[:,'ME (ATP hydr) 950b'] =  costs_ME.loc[:,'ME (ATP hydr) Mb'] * 950 / Mb_b"
   ]
  },
  {
   "cell_type": "code",
   "execution_count": null,
   "id": "64733d07",
   "metadata": {},
   "outputs": [],
   "source": [
    "costs_ME.loc[:,'Lynch & Marinov 950b'] = [136000,150000,4114000]"
   ]
  },
  {
   "cell_type": "markdown",
   "id": "6edfc824",
   "metadata": {},
   "source": [
    "<div class=\"alert alert-block alert-info\">\n",
    "<b>ATP costs comparisons</b> Now we have same units to compare the Lynch & marinov costs (\"Lynch & Marinov 950b\" column) with our calculations (\"ME (ATP hydr) 950b\" column)</div>"
   ]
  },
  {
   "cell_type": "code",
   "execution_count": null,
   "id": "7e596414",
   "metadata": {},
   "outputs": [],
   "source": [
    "costs_ME"
   ]
  },
  {
   "cell_type": "code",
   "execution_count": null,
   "id": "fb2e4a6e",
   "metadata": {},
   "outputs": [],
   "source": [
    "costs_ME.to_csv('../files/energy/Costs_L&M_ME.csv')"
   ]
  }
 ],
 "metadata": {
  "kernelspec": {
   "display_name": "emarquez_ME",
   "language": "python",
   "name": "emarquez_me"
  },
  "language_info": {
   "codemirror_mode": {
    "name": "ipython",
    "version": 3
   },
   "file_extension": ".py",
   "mimetype": "text/x-python",
   "name": "python",
   "nbconvert_exporter": "python",
   "pygments_lexer": "ipython3",
   "version": "3.6.10"
  }
 },
 "nbformat": 4,
 "nbformat_minor": 5
}
