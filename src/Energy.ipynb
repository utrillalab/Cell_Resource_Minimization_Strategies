{
 "cells": [
  {
   "cell_type": "markdown",
   "id": "6eca1444",
   "metadata": {},
   "source": [
    "TODO Poner la cobertura de genes (muy pocos representados en el ME model)  \n",
    "Titulos en ingles"
   ]
  },
  {
   "cell_type": "code",
   "execution_count": null,
   "id": "6c4cc9a1",
   "metadata": {},
   "outputs": [],
   "source": []
  },
  {
   "cell_type": "code",
   "execution_count": 1,
   "id": "00ba6730",
   "metadata": {},
   "outputs": [],
   "source": [
    "# Energy from the ME model"
   ]
  },
  {
   "cell_type": "code",
   "execution_count": null,
   "id": "fd0b9c33",
   "metadata": {},
   "outputs": [],
   "source": [
    "import re\n",
    "import pickle\n",
    "import numpy as np\n",
    "import pandas as pd\n",
    "from scipy import stats\n",
    "\n",
    "import matplotlib.pyplot as plt\n",
    "\n",
    "# Own modules for analysis\n",
    "from energy_analisis import get_energy_consumption_production, energy_per_model, get_energy_per_gene\n",
    "from plot_energy import plot_ME_energy, plot_glc_ox_atp"
   ]
  },
  {
   "cell_type": "code",
   "execution_count": 3,
   "id": "8c7e7801",
   "metadata": {},
   "outputs": [],
   "source": [
    "# load solved ME model\n",
    "with open('../files/models/iJL1678b_solver.pickle', 'rb') as f:\n",
    "    me = pickle.load(f)"
   ]
  },
  {
   "cell_type": "markdown",
   "id": "518e3cff",
   "metadata": {},
   "source": [
    "# ATP consumption per reaction "
   ]
  },
  {
   "cell_type": "code",
   "execution_count": 4,
   "id": "04ac24e5",
   "metadata": {},
   "outputs": [],
   "source": [
    "# Get the consumption and production of energy per reaction\n",
    "reactions_energy_consumption,reactions_energy_production = get_energy_consumption_production(me)"
   ]
  },
  {
   "cell_type": "code",
   "execution_count": 5,
   "id": "59db213f",
   "metadata": {},
   "outputs": [
    {
     "data": {
      "text/html": [
       "<div>\n",
       "<style scoped>\n",
       "    .dataframe tbody tr th:only-of-type {\n",
       "        vertical-align: middle;\n",
       "    }\n",
       "\n",
       "    .dataframe tbody tr th {\n",
       "        vertical-align: top;\n",
       "    }\n",
       "\n",
       "    .dataframe thead th {\n",
       "        text-align: right;\n",
       "    }\n",
       "</style>\n",
       "<table border=\"1\" class=\"dataframe\">\n",
       "  <thead>\n",
       "    <tr style=\"text-align: right;\">\n",
       "      <th></th>\n",
       "      <th>Type</th>\n",
       "      <th>Total</th>\n",
       "      <th>Used</th>\n",
       "      <th>ATP</th>\n",
       "    </tr>\n",
       "    <tr>\n",
       "      <th>Reactions</th>\n",
       "      <th></th>\n",
       "      <th></th>\n",
       "      <th></th>\n",
       "      <th></th>\n",
       "    </tr>\n",
       "  </thead>\n",
       "  <tbody>\n",
       "    <tr>\n",
       "      <th>transcription_TU0_8529_from_RpoD_mono</th>\n",
       "      <td>TranscriptionReaction</td>\n",
       "      <td>-347.0</td>\n",
       "      <td>-3.988197e-09</td>\n",
       "      <td>-347.0</td>\n",
       "    </tr>\n",
       "    <tr>\n",
       "      <th>transcription_TU0_8464_from_RpoD_mono</th>\n",
       "      <td>TranscriptionReaction</td>\n",
       "      <td>-88.0</td>\n",
       "      <td>-2.039023e-04</td>\n",
       "      <td>-88.0</td>\n",
       "    </tr>\n",
       "    <tr>\n",
       "      <th>transcription_TU0_13006_from_RpoD_mono</th>\n",
       "      <td>TranscriptionReaction</td>\n",
       "      <td>-172.0</td>\n",
       "      <td>-5.661036e-12</td>\n",
       "      <td>-172.0</td>\n",
       "    </tr>\n",
       "    <tr>\n",
       "      <th>transcription_TU0_5003_from_RPOH_MONOMER</th>\n",
       "      <td>TranscriptionReaction</td>\n",
       "      <td>-434.0</td>\n",
       "      <td>-1.200694e-07</td>\n",
       "      <td>-434.0</td>\n",
       "    </tr>\n",
       "    <tr>\n",
       "      <th>transcription_TU0_3423_from_RPOE_MONOMER</th>\n",
       "      <td>TranscriptionReaction</td>\n",
       "      <td>-109.0</td>\n",
       "      <td>-3.812990e-06</td>\n",
       "      <td>-109.0</td>\n",
       "    </tr>\n",
       "  </tbody>\n",
       "</table>\n",
       "</div>"
      ],
      "text/plain": [
       "                                                           Type  Total  \\\n",
       "Reactions                                                                \n",
       "transcription_TU0_8529_from_RpoD_mono     TranscriptionReaction -347.0   \n",
       "transcription_TU0_8464_from_RpoD_mono     TranscriptionReaction  -88.0   \n",
       "transcription_TU0_13006_from_RpoD_mono    TranscriptionReaction -172.0   \n",
       "transcription_TU0_5003_from_RPOH_MONOMER  TranscriptionReaction -434.0   \n",
       "transcription_TU0_3423_from_RPOE_MONOMER  TranscriptionReaction -109.0   \n",
       "\n",
       "                                                  Used    ATP  \n",
       "Reactions                                                      \n",
       "transcription_TU0_8529_from_RpoD_mono    -3.988197e-09 -347.0  \n",
       "transcription_TU0_8464_from_RpoD_mono    -2.039023e-04  -88.0  \n",
       "transcription_TU0_13006_from_RpoD_mono   -5.661036e-12 -172.0  \n",
       "transcription_TU0_5003_from_RPOH_MONOMER -1.200694e-07 -434.0  \n",
       "transcription_TU0_3423_from_RPOE_MONOMER -3.812990e-06 -109.0  "
      ]
     },
     "execution_count": 5,
     "metadata": {},
     "output_type": "execute_result"
    }
   ],
   "source": [
    "energy_consumption = pd.DataFrame.from_dict(reactions_energy_consumption).set_index('Reactions')\n",
    "energy_consumption.head()"
   ]
  },
  {
   "cell_type": "code",
   "execution_count": 6,
   "id": "19e35863",
   "metadata": {},
   "outputs": [
    {
     "data": {
      "text/html": [
       "<div>\n",
       "<style scoped>\n",
       "    .dataframe tbody tr th:only-of-type {\n",
       "        vertical-align: middle;\n",
       "    }\n",
       "\n",
       "    .dataframe tbody tr th {\n",
       "        vertical-align: top;\n",
       "    }\n",
       "\n",
       "    .dataframe thead th {\n",
       "        text-align: right;\n",
       "    }\n",
       "</style>\n",
       "<table border=\"1\" class=\"dataframe\">\n",
       "  <thead>\n",
       "    <tr style=\"text-align: right;\">\n",
       "      <th></th>\n",
       "      <th>Type</th>\n",
       "      <th>Total</th>\n",
       "      <th>Used</th>\n",
       "      <th>ATP</th>\n",
       "    </tr>\n",
       "    <tr>\n",
       "      <th>Reactions</th>\n",
       "      <th></th>\n",
       "      <th></th>\n",
       "      <th></th>\n",
       "      <th></th>\n",
       "    </tr>\n",
       "  </thead>\n",
       "  <tbody>\n",
       "    <tr>\n",
       "      <th>ATPS4rpp_FWD_ATPSYN-CPLX_mod_mg2</th>\n",
       "      <td>MetabolicReaction</td>\n",
       "      <td>1.0</td>\n",
       "      <td>52.367990</td>\n",
       "      <td>1.0</td>\n",
       "    </tr>\n",
       "    <tr>\n",
       "      <th>NDPK1_FWD_ADENYL-KIN-MONOMER_mod_mg2</th>\n",
       "      <td>MetabolicReaction</td>\n",
       "      <td>-1.0</td>\n",
       "      <td>-9.991650</td>\n",
       "      <td>-1.0</td>\n",
       "    </tr>\n",
       "    <tr>\n",
       "      <th>PGK_REV_PGK-CPLX</th>\n",
       "      <td>MetabolicReaction</td>\n",
       "      <td>1.0</td>\n",
       "      <td>12.566816</td>\n",
       "      <td>1.0</td>\n",
       "    </tr>\n",
       "    <tr>\n",
       "      <th>PPK2r_REV_PPK-CPLX</th>\n",
       "      <td>MetabolicReaction</td>\n",
       "      <td>1.0</td>\n",
       "      <td>0.000097</td>\n",
       "      <td>1.0</td>\n",
       "    </tr>\n",
       "    <tr>\n",
       "      <th>SUCOAS_REV_SUCCCOASYN</th>\n",
       "      <td>MetabolicReaction</td>\n",
       "      <td>1.0</td>\n",
       "      <td>3.955319</td>\n",
       "      <td>1.0</td>\n",
       "    </tr>\n",
       "  </tbody>\n",
       "</table>\n",
       "</div>"
      ],
      "text/plain": [
       "                                                   Type  Total       Used  ATP\n",
       "Reactions                                                                     \n",
       "ATPS4rpp_FWD_ATPSYN-CPLX_mod_mg2      MetabolicReaction    1.0  52.367990  1.0\n",
       "NDPK1_FWD_ADENYL-KIN-MONOMER_mod_mg2  MetabolicReaction   -1.0  -9.991650 -1.0\n",
       "PGK_REV_PGK-CPLX                      MetabolicReaction    1.0  12.566816  1.0\n",
       "PPK2r_REV_PPK-CPLX                    MetabolicReaction    1.0   0.000097  1.0\n",
       "SUCOAS_REV_SUCCCOASYN                 MetabolicReaction    1.0   3.955319  1.0"
      ]
     },
     "execution_count": 6,
     "metadata": {},
     "output_type": "execute_result"
    }
   ],
   "source": [
    "energy_production = pd.DataFrame.from_dict(reactions_energy_production).set_index('Reactions')\n",
    "energy_production.head()"
   ]
  },
  {
   "cell_type": "code",
   "execution_count": 7,
   "id": "a50243ff",
   "metadata": {},
   "outputs": [
    {
     "data": {
      "text/plain": [
       "58.8985714173988"
      ]
     },
     "execution_count": 7,
     "metadata": {},
     "output_type": "execute_result"
    }
   ],
   "source": [
    "total_produced = energy_production.sum().Used\n",
    "total_produced"
   ]
  },
  {
   "cell_type": "code",
   "execution_count": 8,
   "id": "175c38c2",
   "metadata": {},
   "outputs": [],
   "source": [
    "# Save file\n",
    "energy_consumption.to_pickle('../files/energy/energy_per_reaction.pickle')"
   ]
  },
  {
   "cell_type": "code",
   "execution_count": 9,
   "id": "5b959951",
   "metadata": {},
   "outputs": [],
   "source": [
    "with open('../files/energy/energy_per_reaction.pickle', 'rb') as f:\n",
    "    energy_consumption = pickle.load(f)"
   ]
  },
  {
   "cell_type": "code",
   "execution_count": 10,
   "id": "7b7059b4",
   "metadata": {},
   "outputs": [
    {
     "data": {
      "text/html": [
       "<div>\n",
       "<style scoped>\n",
       "    .dataframe tbody tr th:only-of-type {\n",
       "        vertical-align: middle;\n",
       "    }\n",
       "\n",
       "    .dataframe tbody tr th {\n",
       "        vertical-align: top;\n",
       "    }\n",
       "\n",
       "    .dataframe thead th {\n",
       "        text-align: right;\n",
       "    }\n",
       "</style>\n",
       "<table border=\"1\" class=\"dataframe\">\n",
       "  <thead>\n",
       "    <tr style=\"text-align: right;\">\n",
       "      <th></th>\n",
       "      <th>Type</th>\n",
       "      <th>Total</th>\n",
       "      <th>Used</th>\n",
       "      <th>ATP</th>\n",
       "    </tr>\n",
       "    <tr>\n",
       "      <th>Reactions</th>\n",
       "      <th></th>\n",
       "      <th></th>\n",
       "      <th></th>\n",
       "      <th></th>\n",
       "    </tr>\n",
       "  </thead>\n",
       "  <tbody>\n",
       "    <tr>\n",
       "      <th>transcription_TU0_8529_from_RpoD_mono</th>\n",
       "      <td>TranscriptionReaction</td>\n",
       "      <td>-347.0</td>\n",
       "      <td>3.988197e-09</td>\n",
       "      <td>-347.0</td>\n",
       "    </tr>\n",
       "    <tr>\n",
       "      <th>transcription_TU0_8464_from_RpoD_mono</th>\n",
       "      <td>TranscriptionReaction</td>\n",
       "      <td>-88.0</td>\n",
       "      <td>2.039023e-04</td>\n",
       "      <td>-88.0</td>\n",
       "    </tr>\n",
       "    <tr>\n",
       "      <th>transcription_TU0_13006_from_RpoD_mono</th>\n",
       "      <td>TranscriptionReaction</td>\n",
       "      <td>-172.0</td>\n",
       "      <td>5.661036e-12</td>\n",
       "      <td>-172.0</td>\n",
       "    </tr>\n",
       "    <tr>\n",
       "      <th>transcription_TU0_5003_from_RPOH_MONOMER</th>\n",
       "      <td>TranscriptionReaction</td>\n",
       "      <td>-434.0</td>\n",
       "      <td>1.200694e-07</td>\n",
       "      <td>-434.0</td>\n",
       "    </tr>\n",
       "    <tr>\n",
       "      <th>transcription_TU0_3423_from_RPOE_MONOMER</th>\n",
       "      <td>TranscriptionReaction</td>\n",
       "      <td>-109.0</td>\n",
       "      <td>3.812990e-06</td>\n",
       "      <td>-109.0</td>\n",
       "    </tr>\n",
       "  </tbody>\n",
       "</table>\n",
       "</div>"
      ],
      "text/plain": [
       "                                                           Type  Total  \\\n",
       "Reactions                                                                \n",
       "transcription_TU0_8529_from_RpoD_mono     TranscriptionReaction -347.0   \n",
       "transcription_TU0_8464_from_RpoD_mono     TranscriptionReaction  -88.0   \n",
       "transcription_TU0_13006_from_RpoD_mono    TranscriptionReaction -172.0   \n",
       "transcription_TU0_5003_from_RPOH_MONOMER  TranscriptionReaction -434.0   \n",
       "transcription_TU0_3423_from_RPOE_MONOMER  TranscriptionReaction -109.0   \n",
       "\n",
       "                                                  Used    ATP  \n",
       "Reactions                                                      \n",
       "transcription_TU0_8529_from_RpoD_mono     3.988197e-09 -347.0  \n",
       "transcription_TU0_8464_from_RpoD_mono     2.039023e-04  -88.0  \n",
       "transcription_TU0_13006_from_RpoD_mono    5.661036e-12 -172.0  \n",
       "transcription_TU0_5003_from_RPOH_MONOMER  1.200694e-07 -434.0  \n",
       "transcription_TU0_3423_from_RPOE_MONOMER  3.812990e-06 -109.0  "
      ]
     },
     "execution_count": 10,
     "metadata": {},
     "output_type": "execute_result"
    }
   ],
   "source": [
    "energy_consumption.loc[:,'Used'] = abs(energy_consumption.Used)\n",
    "energy_consumption.head()"
   ]
  },
  {
   "cell_type": "markdown",
   "id": "b98bb478",
   "metadata": {},
   "source": [
    "# ATP consumption per gene"
   ]
  },
  {
   "cell_type": "code",
   "execution_count": 11,
   "id": "049486d2",
   "metadata": {},
   "outputs": [],
   "source": [
    "total = get_energy_per_gene(energy_consumption, me)"
   ]
  },
  {
   "cell_type": "code",
   "execution_count": 12,
   "id": "4c929dba",
   "metadata": {},
   "outputs": [],
   "source": [
    "Energia_total_ME = pd.DataFrame(total.items(), columns=['Bnumber', 'Value'])\n",
    "Energia_total_ME = Energia_total_ME.sort_values(by='Value',ascending=False).reset_index()\n",
    "Energia_total_ME = Energia_total_ME.loc[:,['Bnumber','Value']]"
   ]
  },
  {
   "cell_type": "code",
   "execution_count": 13,
   "id": "19826ad4",
   "metadata": {},
   "outputs": [],
   "source": [
    "Energia_total_ME.to_pickle('../files/energy/energy_per_gene.pickle')"
   ]
  },
  {
   "cell_type": "code",
   "execution_count": 14,
   "id": "7141f7b6",
   "metadata": {},
   "outputs": [
    {
     "data": {
      "text/html": [
       "<div>\n",
       "<style scoped>\n",
       "    .dataframe tbody tr th:only-of-type {\n",
       "        vertical-align: middle;\n",
       "    }\n",
       "\n",
       "    .dataframe tbody tr th {\n",
       "        vertical-align: top;\n",
       "    }\n",
       "\n",
       "    .dataframe thead th {\n",
       "        text-align: right;\n",
       "    }\n",
       "</style>\n",
       "<table border=\"1\" class=\"dataframe\">\n",
       "  <thead>\n",
       "    <tr style=\"text-align: right;\">\n",
       "      <th></th>\n",
       "      <th>Bnumber</th>\n",
       "      <th>Value</th>\n",
       "    </tr>\n",
       "  </thead>\n",
       "  <tbody>\n",
       "    <tr>\n",
       "      <th>0</th>\n",
       "      <td>b3256</td>\n",
       "      <td>22.337696</td>\n",
       "    </tr>\n",
       "    <tr>\n",
       "      <th>1</th>\n",
       "      <td>dummy</td>\n",
       "      <td>1.671482</td>\n",
       "    </tr>\n",
       "    <tr>\n",
       "      <th>2</th>\n",
       "      <td>b2752</td>\n",
       "      <td>0.977113</td>\n",
       "    </tr>\n",
       "    <tr>\n",
       "      <th>3</th>\n",
       "      <td>b1677</td>\n",
       "      <td>0.232208</td>\n",
       "    </tr>\n",
       "    <tr>\n",
       "      <th>4</th>\n",
       "      <td>b0727</td>\n",
       "      <td>0.194296</td>\n",
       "    </tr>\n",
       "  </tbody>\n",
       "</table>\n",
       "</div>"
      ],
      "text/plain": [
       "  Bnumber      Value\n",
       "0   b3256  22.337696\n",
       "1   dummy   1.671482\n",
       "2   b2752   0.977113\n",
       "3   b1677   0.232208\n",
       "4   b0727   0.194296"
      ]
     },
     "execution_count": 14,
     "metadata": {},
     "output_type": "execute_result"
    }
   ],
   "source": [
    "Energia_total_ME.head()"
   ]
  },
  {
   "cell_type": "markdown",
   "id": "83fd2adb",
   "metadata": {},
   "source": [
    "# ATP consumption (Strains)"
   ]
  },
  {
   "cell_type": "code",
   "execution_count": 15,
   "id": "8e75021c",
   "metadata": {},
   "outputs": [],
   "source": [
    "names_W3110 = ['DGF298', 'DGF327', 'MGF02', 'MGF01' ]\n",
    "names_MG1655 = ['Δ16', 'MS56', 'MDS69','MDS42','MDS12']\n",
    "strains = names_MG1655+names_W3110\n",
    "\n",
    "genes_finales = {}\n",
    "\n",
    "for strain in strains:\n",
    "    genes_finales[strain] = pd.read_csv('../files/deleted_genes/mapped_del_genes_'+strain+'.csv')\n",
    "    genes_finales[strain] = genes_finales[strain].drop(columns= 'Unnamed: 0')"
   ]
  },
  {
   "cell_type": "markdown",
   "id": "192a30fc",
   "metadata": {},
   "source": [
    "#### Per gene"
   ]
  },
  {
   "cell_type": "code",
   "execution_count": 16,
   "id": "beb93eda",
   "metadata": {},
   "outputs": [],
   "source": [
    "strain_energy_per_gen={}\n",
    "for strain in strains:\n",
    "    genes = genes_finales[strain].Bnumber\n",
    "    strain_energy_per_gen[strain] = Energia_total_ME.loc[Energia_total_ME.Bnumber.isin(genes)]"
   ]
  },
  {
   "cell_type": "markdown",
   "id": "9f2a3c9b",
   "metadata": {},
   "source": [
    "#### Per strain"
   ]
  },
  {
   "cell_type": "code",
   "execution_count": 17,
   "id": "e07026ab",
   "metadata": {},
   "outputs": [],
   "source": [
    "strain_energy_total={}\n",
    "for strain in strains:\n",
    "    strain_energy_total[strain] = [strain_energy_per_gen[strain].Value.sum()]\n",
    "    \n",
    "strain_energy_total_per={}\n",
    "for strain in strains:\n",
    "    strain_energy_total_per[strain] = [(strain_energy_per_gen[strain].Value.sum()*100)/(total_produced)]"
   ]
  },
  {
   "cell_type": "code",
   "execution_count": 18,
   "id": "efe1a50d",
   "metadata": {},
   "outputs": [],
   "source": [
    "consumo = pd.DataFrame.from_dict(strain_energy_total)\n",
    "consumo = consumo.T.rename(columns={0:'Energy'}).T\n",
    "consumo_per =  pd.DataFrame.from_dict(strain_energy_total_per)\n",
    "consumo_per = consumo_per.T.rename(columns={0:'Energy'}).T"
   ]
  },
  {
   "cell_type": "code",
   "execution_count": 19,
   "id": "82045e49",
   "metadata": {},
   "outputs": [
    {
     "data": {
      "text/html": [
       "<div>\n",
       "<style scoped>\n",
       "    .dataframe tbody tr th:only-of-type {\n",
       "        vertical-align: middle;\n",
       "    }\n",
       "\n",
       "    .dataframe tbody tr th {\n",
       "        vertical-align: top;\n",
       "    }\n",
       "\n",
       "    .dataframe thead th {\n",
       "        text-align: right;\n",
       "    }\n",
       "</style>\n",
       "<table border=\"1\" class=\"dataframe\">\n",
       "  <thead>\n",
       "    <tr style=\"text-align: right;\">\n",
       "      <th></th>\n",
       "      <th>Δ16</th>\n",
       "      <th>MS56</th>\n",
       "      <th>MDS69</th>\n",
       "      <th>MDS42</th>\n",
       "      <th>MDS12</th>\n",
       "      <th>DGF298</th>\n",
       "      <th>DGF327</th>\n",
       "      <th>MGF02</th>\n",
       "      <th>MGF01</th>\n",
       "    </tr>\n",
       "  </thead>\n",
       "  <tbody>\n",
       "    <tr>\n",
       "      <th>Energy</th>\n",
       "      <td>0.788286</td>\n",
       "      <td>0.172213</td>\n",
       "      <td>0.167337</td>\n",
       "      <td>0.163238</td>\n",
       "      <td>0.163234</td>\n",
       "      <td>0.174018</td>\n",
       "      <td>0.168425</td>\n",
       "      <td>0.004769</td>\n",
       "      <td>0.003504</td>\n",
       "    </tr>\n",
       "  </tbody>\n",
       "</table>\n",
       "</div>"
      ],
      "text/plain": [
       "             Δ16      MS56     MDS69     MDS42     MDS12    DGF298    DGF327  \\\n",
       "Energy  0.788286  0.172213  0.167337  0.163238  0.163234  0.174018  0.168425   \n",
       "\n",
       "           MGF02     MGF01  \n",
       "Energy  0.004769  0.003504  "
      ]
     },
     "execution_count": 19,
     "metadata": {},
     "output_type": "execute_result"
    }
   ],
   "source": [
    "consumo"
   ]
  },
  {
   "cell_type": "code",
   "execution_count": 20,
   "id": "4782fd61",
   "metadata": {},
   "outputs": [],
   "source": [
    "relevant_strains = ['Δ16', 'MS56', 'MDS69', 'DGF298', 'MGF02']"
   ]
  },
  {
   "cell_type": "code",
   "execution_count": 21,
   "id": "56feaa37",
   "metadata": {},
   "outputs": [
    {
     "data": {
      "image/png": "[encoded data removed]",
      "text/plain": [
       "<Figure size 720x288 with 2 Axes>"
      ]
     },
     "metadata": {
      "needs_background": "light"
     },
     "output_type": "display_data"
    }
   ],
   "source": [
    "plot_ME_energy(relevant_strains,consumo, consumo_per )"
   ]
  },
  {
   "cell_type": "markdown",
   "id": "4a068a26",
   "metadata": {},
   "source": [
    "# Energy analysis for each process"
   ]
  },
  {
   "cell_type": "markdown",
   "id": "73970f3a",
   "metadata": {},
   "source": [
    "#### Replication "
   ]
  },
  {
   "cell_type": "code",
   "execution_count": 22,
   "id": "92cdd8ec",
   "metadata": {},
   "outputs": [],
   "source": [
    "replication_models = ['1', '1.125', '1.25', '1.5']\n",
    "models = {}\n",
    "\n",
    "for rep_model in replication_models:\n",
    "    with open('../files/models/DNA_per'+rep_model+'.pickle', 'rb') as f:\n",
    "        models[rep_model] = pickle.load(f)"
   ]
  },
  {
   "cell_type": "code",
   "execution_count": 23,
   "id": "3529491a",
   "metadata": {},
   "outputs": [
    {
     "data": {
      "text/plain": [
       "{'1': <MEModel iJL1678b-ME at 0x7fce71b83eb8>,\n",
       " '1.125': <MEModel iJL1678b-ME at 0x7fce71bde160>,\n",
       " '1.25': <MEModel iJL1678b-ME at 0x7fce71bf54a8>,\n",
       " '1.5': <MEModel iJL1678b-ME at 0x7fce71bdeeb8>}"
      ]
     },
     "execution_count": 23,
     "metadata": {},
     "output_type": "execute_result"
    }
   ],
   "source": [
    "models"
   ]
  },
  {
   "cell_type": "code",
   "execution_count": 24,
   "id": "018a5a69",
   "metadata": {},
   "outputs": [],
   "source": [
    "consumption_me,p = energy_per_model(models)"
   ]
  },
  {
   "cell_type": "code",
   "execution_count": 25,
   "id": "b767aeda",
   "metadata": {},
   "outputs": [
    {
     "data": {
      "text/plain": [
       "{'me1': 48.83228748371048,\n",
       " 'me1.125': 48.842039251079456,\n",
       " 'me1.25': 48.85179103734148,\n",
       " 'me1.5': 48.87129454230218}"
      ]
     },
     "execution_count": 25,
     "metadata": {},
     "output_type": "execute_result"
    }
   ],
   "source": [
    "consumption_me"
   ]
  },
  {
   "cell_type": "code",
   "execution_count": 26,
   "id": "07fecd24",
   "metadata": {},
   "outputs": [
    {
     "data": {
      "image/png": "[encoded data removed]",
      "text/plain": [
       "<Figure size 432x288 with 2 Axes>"
      ]
     },
     "metadata": {},
     "output_type": "display_data"
    }
   ],
   "source": [
    "plot_glc_ox_atp(consumption_me, models)"
   ]
  },
  {
   "cell_type": "code",
   "execution_count": 28,
   "id": "b464a6d1",
   "metadata": {},
   "outputs": [],
   "source": [
    "valores = [1, 1.125, 1.25, 1.5]\n",
    "new_valores = np.array(valores)\n",
    "\n",
    "equivalentes_genoma = new_valores*1.63 \n",
    "equivalentes_genoma\n",
    "bp = equivalentes_genoma*4641652/1.63\n",
    "Mb = bp*1/(1*10**6)"
   ]
  },
  {
   "cell_type": "code",
   "execution_count": 29,
   "id": "6fd7fa4e",
   "metadata": {},
   "outputs": [],
   "source": [
    "slope, intercept, r_value, p_value, std_err = stats.linregress(Mb, list(consumption_me.values()))"
   ]
  },
  {
   "cell_type": "code",
   "execution_count": 30,
   "id": "5c237443",
   "metadata": {},
   "outputs": [
    {
     "data": {
      "text/plain": [
       "0.016807404105231676"
      ]
     },
     "execution_count": 30,
     "metadata": {},
     "output_type": "execute_result"
    }
   ],
   "source": [
    "slope"
   ]
  },
  {
   "cell_type": "markdown",
   "id": "f3602aa2",
   "metadata": {},
   "source": [
    "#### Transcription "
   ]
  },
  {
   "cell_type": "code",
   "execution_count": 31,
   "id": "2ca2275f",
   "metadata": {},
   "outputs": [],
   "source": [
    "extra_genes = ['230', '460', '690', '920']\n",
    "extra_genes_int = [int(genes) for genes in extra_genes]\n",
    "transcription_models = {}\n",
    "solutions = []\n",
    "\n",
    "for gene in extra_genes:\n",
    "    with open('../files/models/AumGenes_GLC_OX_'+gene+'.pickle', 'rb') as f:\n",
    "        model = pickle.load(f)\n",
    "        model.name = gene\n",
    "        transcription_models[gene]= model\n",
    "        solutions.append(model.solution.f)\n",
    "    \n"
   ]
  },
  {
   "cell_type": "code",
   "execution_count": 33,
   "id": "30955601",
   "metadata": {},
   "outputs": [],
   "source": [
    "consumption_me_trn, consumption_me_group, p = energy_per_model(transcription_models, group=True)"
   ]
  },
  {
   "cell_type": "code",
   "execution_count": 34,
   "id": "f8d10c5e",
   "metadata": {},
   "outputs": [
    {
     "data": {
      "text/plain": [
       "{'me230': 51.77917211144516,\n",
       " 'me460': 54.70214019240527,\n",
       " 'me690': 57.625234172573656,\n",
       " 'me920': 60.54832815274208}"
      ]
     },
     "execution_count": 34,
     "metadata": {},
     "output_type": "execute_result"
    }
   ],
   "source": [
    "consumption_me_trn"
   ]
  },
  {
   "cell_type": "code",
   "execution_count": 35,
   "id": "f2804cbf",
   "metadata": {},
   "outputs": [
    {
     "data": {
      "image/png": "[encoded data removed]",
      "text/plain": [
       "<Figure size 432x288 with 2 Axes>"
      ]
     },
     "metadata": {},
     "output_type": "display_data"
    }
   ],
   "source": [
    "plot_glc_ox_atp(consumption_me_trn, transcription_models)"
   ]
  },
  {
   "cell_type": "code",
   "execution_count": 38,
   "id": "9f4486de",
   "metadata": {},
   "outputs": [
    {
     "data": {
      "text/plain": [
       "14.12104449471456"
      ]
     },
     "execution_count": 38,
     "metadata": {},
     "output_type": "execute_result"
    }
   ],
   "source": [
    "slope, intercept, r_value, p_value, std_err = stats.linregress(extra_genes_int, [consumption_me_trn['me'+genes] for genes in extra_genes])\n",
    "costo_Mb = (10**6 )* slope / 900\n",
    "costo_Mb"
   ]
  },
  {
   "cell_type": "code",
   "execution_count": 39,
   "id": "0ecf4818",
   "metadata": {},
   "outputs": [],
   "source": [
    "consumption_transR = {}\n",
    "for genes in consumption_me_group:\n",
    "    consumption_transR[genes] = consumption_me_group[genes].loc['TranscriptionReaction']"
   ]
  },
  {
   "cell_type": "code",
   "execution_count": null,
   "id": "32398ec8",
   "metadata": {},
   "outputs": [],
   "source": [
    "consumption_transR"
   ]
  },
  {
   "cell_type": "code",
   "execution_count": 40,
   "id": "215cdbac",
   "metadata": {},
   "outputs": [
    {
     "data": {
      "image/png": "[encoded data removed]",
      "text/plain": [
       "<Figure size 432x288 with 2 Axes>"
      ]
     },
     "metadata": {},
     "output_type": "display_data"
    }
   ],
   "source": [
    "plot_glc_ox_atp(consumption_transR, transcription_models)"
   ]
  },
  {
   "cell_type": "code",
   "execution_count": 41,
   "id": "5452601b",
   "metadata": {},
   "outputs": [
    {
     "data": {
      "text/plain": [
       "0.28688808644166874"
      ]
     },
     "execution_count": 41,
     "metadata": {},
     "output_type": "execute_result"
    }
   ],
   "source": [
    "slope_2, intercept_2, r_value, p_value, std_err = stats.linregress(extra_genes_int,\n",
    "                                                                   [consumption_transR['me'+genes] for genes in extra_genes])\n",
    "\n",
    "costo_Mb_2 = (10**6 )* slope_2 / 900\n",
    "costo_Mb_2"
   ]
  },
  {
   "cell_type": "markdown",
   "id": "668a0e75",
   "metadata": {},
   "source": [
    "#### UPF"
   ]
  },
  {
   "cell_type": "code",
   "execution_count": null,
   "id": "a7f9ffec",
   "metadata": {},
   "outputs": [],
   "source": [
    "plot_glc_ox_atp(consumption_transR, transcription_models)"
   ]
  }
 ],
 "metadata": {
  "kernelspec": {
   "display_name": "emarquez_ME",
   "language": "python",
   "name": "emarquez_me"
  },
  "language_info": {
   "codemirror_mode": {
    "name": "ipython",
    "version": 3
   },
   "file_extension": ".py",
   "mimetype": "text/x-python",
   "name": "python",
   "nbconvert_exporter": "python",
   "pygments_lexer": "ipython3",
   "version": "3.6.10"
  }
 },
 "nbformat": 4,
 "nbformat_minor": 5
}
