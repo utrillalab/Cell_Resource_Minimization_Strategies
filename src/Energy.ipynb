{
 "cells": [
  {
   "cell_type": "markdown",
   "id": "6eca1444",
   "metadata": {},
   "source": [
    "TODO pasar a funciones el cálculo de energía de gen "
   ]
  },
  {
   "cell_type": "code",
   "execution_count": 1,
   "id": "00ba6730",
   "metadata": {},
   "outputs": [],
   "source": [
    "# Energy from the ME model"
   ]
  },
  {
   "cell_type": "code",
   "execution_count": 2,
   "id": "fd0b9c33",
   "metadata": {},
   "outputs": [],
   "source": [
    "import re\n",
    "import pickle\n",
    "import numpy as np\n",
    "import pandas as pd\n",
    "import matplotlib.pyplot as plt\n",
    "\n",
    "from energy_analisis import get_energy_consumption_production, get_energy_per_gene"
   ]
  },
  {
   "cell_type": "code",
   "execution_count": 3,
   "id": "8c7e7801",
   "metadata": {},
   "outputs": [],
   "source": [
    "# load solved ME model\n",
    "with open('../files/models/iJL1678b_solver.pickle', 'rb') as f:\n",
    "    me = pickle.load(f)"
   ]
  },
  {
   "cell_type": "code",
   "execution_count": 4,
   "id": "04ac24e5",
   "metadata": {},
   "outputs": [],
   "source": [
    "# Get the consumption and production of energy per reaction\n",
    "reactions_energy_consumption,reactions_energy_production = get_energy_consumption_production(me)"
   ]
  },
  {
   "cell_type": "code",
   "execution_count": 5,
   "id": "59db213f",
   "metadata": {},
   "outputs": [
    {
     "data": {
      "text/html": [
       "<div>\n",
       "<style scoped>\n",
       "    .dataframe tbody tr th:only-of-type {\n",
       "        vertical-align: middle;\n",
       "    }\n",
       "\n",
       "    .dataframe tbody tr th {\n",
       "        vertical-align: top;\n",
       "    }\n",
       "\n",
       "    .dataframe thead th {\n",
       "        text-align: right;\n",
       "    }\n",
       "</style>\n",
       "<table border=\"1\" class=\"dataframe\">\n",
       "  <thead>\n",
       "    <tr style=\"text-align: right;\">\n",
       "      <th></th>\n",
       "      <th>Type</th>\n",
       "      <th>Total</th>\n",
       "      <th>Used</th>\n",
       "      <th>ATP</th>\n",
       "    </tr>\n",
       "    <tr>\n",
       "      <th>Reactions</th>\n",
       "      <th></th>\n",
       "      <th></th>\n",
       "      <th></th>\n",
       "      <th></th>\n",
       "    </tr>\n",
       "  </thead>\n",
       "  <tbody>\n",
       "    <tr>\n",
       "      <th>transcription_TU0_8529_from_RpoD_mono</th>\n",
       "      <td>TranscriptionReaction</td>\n",
       "      <td>-347.0</td>\n",
       "      <td>-3.988197e-09</td>\n",
       "      <td>-347.0</td>\n",
       "    </tr>\n",
       "    <tr>\n",
       "      <th>transcription_TU0_8464_from_RpoD_mono</th>\n",
       "      <td>TranscriptionReaction</td>\n",
       "      <td>-88.0</td>\n",
       "      <td>-2.039023e-04</td>\n",
       "      <td>-88.0</td>\n",
       "    </tr>\n",
       "    <tr>\n",
       "      <th>transcription_TU0_13006_from_RpoD_mono</th>\n",
       "      <td>TranscriptionReaction</td>\n",
       "      <td>-172.0</td>\n",
       "      <td>-5.661036e-12</td>\n",
       "      <td>-172.0</td>\n",
       "    </tr>\n",
       "    <tr>\n",
       "      <th>transcription_TU0_5003_from_RPOH_MONOMER</th>\n",
       "      <td>TranscriptionReaction</td>\n",
       "      <td>-434.0</td>\n",
       "      <td>-1.200694e-07</td>\n",
       "      <td>-434.0</td>\n",
       "    </tr>\n",
       "    <tr>\n",
       "      <th>transcription_TU0_3423_from_RPOE_MONOMER</th>\n",
       "      <td>TranscriptionReaction</td>\n",
       "      <td>-109.0</td>\n",
       "      <td>-3.812990e-06</td>\n",
       "      <td>-109.0</td>\n",
       "    </tr>\n",
       "  </tbody>\n",
       "</table>\n",
       "</div>"
      ],
      "text/plain": [
       "                                                           Type  Total  \\\n",
       "Reactions                                                                \n",
       "transcription_TU0_8529_from_RpoD_mono     TranscriptionReaction -347.0   \n",
       "transcription_TU0_8464_from_RpoD_mono     TranscriptionReaction  -88.0   \n",
       "transcription_TU0_13006_from_RpoD_mono    TranscriptionReaction -172.0   \n",
       "transcription_TU0_5003_from_RPOH_MONOMER  TranscriptionReaction -434.0   \n",
       "transcription_TU0_3423_from_RPOE_MONOMER  TranscriptionReaction -109.0   \n",
       "\n",
       "                                                  Used    ATP  \n",
       "Reactions                                                      \n",
       "transcription_TU0_8529_from_RpoD_mono    -3.988197e-09 -347.0  \n",
       "transcription_TU0_8464_from_RpoD_mono    -2.039023e-04  -88.0  \n",
       "transcription_TU0_13006_from_RpoD_mono   -5.661036e-12 -172.0  \n",
       "transcription_TU0_5003_from_RPOH_MONOMER -1.200694e-07 -434.0  \n",
       "transcription_TU0_3423_from_RPOE_MONOMER -3.812990e-06 -109.0  "
      ]
     },
     "execution_count": 5,
     "metadata": {},
     "output_type": "execute_result"
    }
   ],
   "source": [
    "energy_consumption = pd.DataFrame.from_dict(reactions_energy_consumption).set_index('Reactions')\n",
    "energy_consumption.head()"
   ]
  },
  {
   "cell_type": "code",
   "execution_count": 6,
   "id": "175c38c2",
   "metadata": {},
   "outputs": [],
   "source": [
    "# Save file\n",
    "energy_consumption.to_pickle('../files/energy/energy_per_reaction.pickle')"
   ]
  },
  {
   "cell_type": "code",
   "execution_count": 7,
   "id": "5b959951",
   "metadata": {},
   "outputs": [],
   "source": [
    "with open('../files/energy/energy_per_reaction.pickle', 'rb') as f:\n",
    "    energy_consumption = pickle.load(f)"
   ]
  },
  {
   "cell_type": "code",
   "execution_count": 17,
   "id": "7b7059b4",
   "metadata": {},
   "outputs": [
    {
     "data": {
      "text/html": [
       "<div>\n",
       "<style scoped>\n",
       "    .dataframe tbody tr th:only-of-type {\n",
       "        vertical-align: middle;\n",
       "    }\n",
       "\n",
       "    .dataframe tbody tr th {\n",
       "        vertical-align: top;\n",
       "    }\n",
       "\n",
       "    .dataframe thead th {\n",
       "        text-align: right;\n",
       "    }\n",
       "</style>\n",
       "<table border=\"1\" class=\"dataframe\">\n",
       "  <thead>\n",
       "    <tr style=\"text-align: right;\">\n",
       "      <th></th>\n",
       "      <th>Type</th>\n",
       "      <th>Total</th>\n",
       "      <th>Used</th>\n",
       "      <th>ATP</th>\n",
       "    </tr>\n",
       "    <tr>\n",
       "      <th>Reactions</th>\n",
       "      <th></th>\n",
       "      <th></th>\n",
       "      <th></th>\n",
       "      <th></th>\n",
       "    </tr>\n",
       "  </thead>\n",
       "  <tbody>\n",
       "    <tr>\n",
       "      <th>transcription_TU0_8529_from_RpoD_mono</th>\n",
       "      <td>TranscriptionReaction</td>\n",
       "      <td>-347.0</td>\n",
       "      <td>3.988197e-09</td>\n",
       "      <td>-347.0</td>\n",
       "    </tr>\n",
       "    <tr>\n",
       "      <th>transcription_TU0_8464_from_RpoD_mono</th>\n",
       "      <td>TranscriptionReaction</td>\n",
       "      <td>-88.0</td>\n",
       "      <td>2.039023e-04</td>\n",
       "      <td>-88.0</td>\n",
       "    </tr>\n",
       "    <tr>\n",
       "      <th>transcription_TU0_13006_from_RpoD_mono</th>\n",
       "      <td>TranscriptionReaction</td>\n",
       "      <td>-172.0</td>\n",
       "      <td>5.661036e-12</td>\n",
       "      <td>-172.0</td>\n",
       "    </tr>\n",
       "    <tr>\n",
       "      <th>transcription_TU0_5003_from_RPOH_MONOMER</th>\n",
       "      <td>TranscriptionReaction</td>\n",
       "      <td>-434.0</td>\n",
       "      <td>1.200694e-07</td>\n",
       "      <td>-434.0</td>\n",
       "    </tr>\n",
       "    <tr>\n",
       "      <th>transcription_TU0_3423_from_RPOE_MONOMER</th>\n",
       "      <td>TranscriptionReaction</td>\n",
       "      <td>-109.0</td>\n",
       "      <td>3.812990e-06</td>\n",
       "      <td>-109.0</td>\n",
       "    </tr>\n",
       "  </tbody>\n",
       "</table>\n",
       "</div>"
      ],
      "text/plain": [
       "                                                           Type  Total  \\\n",
       "Reactions                                                                \n",
       "transcription_TU0_8529_from_RpoD_mono     TranscriptionReaction -347.0   \n",
       "transcription_TU0_8464_from_RpoD_mono     TranscriptionReaction  -88.0   \n",
       "transcription_TU0_13006_from_RpoD_mono    TranscriptionReaction -172.0   \n",
       "transcription_TU0_5003_from_RPOH_MONOMER  TranscriptionReaction -434.0   \n",
       "transcription_TU0_3423_from_RPOE_MONOMER  TranscriptionReaction -109.0   \n",
       "\n",
       "                                                  Used    ATP  \n",
       "Reactions                                                      \n",
       "transcription_TU0_8529_from_RpoD_mono     3.988197e-09 -347.0  \n",
       "transcription_TU0_8464_from_RpoD_mono     2.039023e-04  -88.0  \n",
       "transcription_TU0_13006_from_RpoD_mono    5.661036e-12 -172.0  \n",
       "transcription_TU0_5003_from_RPOH_MONOMER  1.200694e-07 -434.0  \n",
       "transcription_TU0_3423_from_RPOE_MONOMER  3.812990e-06 -109.0  "
      ]
     },
     "execution_count": 17,
     "metadata": {},
     "output_type": "execute_result"
    }
   ],
   "source": [
    "energy_consumption.loc[:,'Used'] = abs(energy_consumption.Used)\n",
    "energy_consumption.head()"
   ]
  },
  {
   "cell_type": "code",
   "execution_count": 9,
   "id": "049486d2",
   "metadata": {},
   "outputs": [],
   "source": [
    "total = get_energy_per_gene(energy_consumption, me)"
   ]
  },
  {
   "cell_type": "code",
   "execution_count": 11,
   "id": "4c929dba",
   "metadata": {},
   "outputs": [],
   "source": [
    "Energia_total_ME = pd.DataFrame(total.items(), columns=['Bnumber', 'Value'])\n",
    "Energia_total_ME = Energia_total_ME.sort_values(by='Value',ascending=False).reset_index()\n",
    "Energia_total_ME = Energia_total_ME.loc[:,['Bnumber','Value']]"
   ]
  },
  {
   "cell_type": "code",
   "execution_count": 12,
   "id": "19826ad4",
   "metadata": {},
   "outputs": [],
   "source": [
    "Energia_total_ME.to_pickle('../files/energy/energy_per_gene.pickle')"
   ]
  },
  {
   "cell_type": "code",
   "execution_count": 13,
   "id": "7141f7b6",
   "metadata": {},
   "outputs": [
    {
     "data": {
      "text/html": [
       "<div>\n",
       "<style scoped>\n",
       "    .dataframe tbody tr th:only-of-type {\n",
       "        vertical-align: middle;\n",
       "    }\n",
       "\n",
       "    .dataframe tbody tr th {\n",
       "        vertical-align: top;\n",
       "    }\n",
       "\n",
       "    .dataframe thead th {\n",
       "        text-align: right;\n",
       "    }\n",
       "</style>\n",
       "<table border=\"1\" class=\"dataframe\">\n",
       "  <thead>\n",
       "    <tr style=\"text-align: right;\">\n",
       "      <th></th>\n",
       "      <th>Bnumber</th>\n",
       "      <th>Value</th>\n",
       "    </tr>\n",
       "  </thead>\n",
       "  <tbody>\n",
       "    <tr>\n",
       "      <th>0</th>\n",
       "      <td>b3256</td>\n",
       "      <td>32.329346</td>\n",
       "    </tr>\n",
       "    <tr>\n",
       "      <th>1</th>\n",
       "      <td>dummy</td>\n",
       "      <td>1.671482</td>\n",
       "    </tr>\n",
       "    <tr>\n",
       "      <th>2</th>\n",
       "      <td>b2752</td>\n",
       "      <td>0.977113</td>\n",
       "    </tr>\n",
       "    <tr>\n",
       "      <th>3</th>\n",
       "      <td>b1677</td>\n",
       "      <td>0.232208</td>\n",
       "    </tr>\n",
       "    <tr>\n",
       "      <th>4</th>\n",
       "      <td>b0727</td>\n",
       "      <td>0.194296</td>\n",
       "    </tr>\n",
       "  </tbody>\n",
       "</table>\n",
       "</div>"
      ],
      "text/plain": [
       "  Bnumber      Value\n",
       "0   b3256  32.329346\n",
       "1   dummy   1.671482\n",
       "2   b2752   0.977113\n",
       "3   b1677   0.232208\n",
       "4   b0727   0.194296"
      ]
     },
     "execution_count": 13,
     "metadata": {},
     "output_type": "execute_result"
    }
   ],
   "source": [
    "Energia_total_ME.head()"
   ]
  }
 ],
 "metadata": {
  "kernelspec": {
   "display_name": "emarquez_ME",
   "language": "python",
   "name": "emarquez_me"
  },
  "language_info": {
   "codemirror_mode": {
    "name": "ipython",
    "version": 3
   },
   "file_extension": ".py",
   "mimetype": "text/x-python",
   "name": "python",
   "nbconvert_exporter": "python",
   "pygments_lexer": "ipython3",
   "version": "3.6.10"
  }
 },
 "nbformat": 4,
 "nbformat_minor": 5
}
